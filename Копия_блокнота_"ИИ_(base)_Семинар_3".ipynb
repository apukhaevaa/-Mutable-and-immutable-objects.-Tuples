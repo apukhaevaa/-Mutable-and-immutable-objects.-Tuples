{
  "nbformat": 4,
  "nbformat_minor": 0,
  "metadata": {
    "colab": {
      "provenance": [],
      "include_colab_link": true
    },
    "kernelspec": {
      "name": "python3",
      "display_name": "Python 3"
    },
    "language_info": {
      "name": "python"
    }
  },
  "cells": [
    {
      "cell_type": "markdown",
      "metadata": {
        "id": "view-in-github",
        "colab_type": "text"
      },
      "source": [
        "<a href=\"https://colab.research.google.com/github/apukhaevaa/-Mutable-and-immutable-objects.-Tuples/blob/main/%D0%9A%D0%BE%D0%BF%D0%B8%D1%8F_%D0%B1%D0%BB%D0%BE%D0%BA%D0%BD%D0%BE%D1%82%D0%B0_%22%D0%98%D0%98_(base)_%D0%A1%D0%B5%D0%BC%D0%B8%D0%BD%D0%B0%D1%80_3%22.ipynb\" target=\"_parent\"><img src=\"https://colab.research.google.com/assets/colab-badge.svg\" alt=\"Open In Colab\"/></a>"
      ]
    },
    {
      "cell_type": "markdown",
      "source": [
        "### Рекурсия"
      ],
      "metadata": {
        "id": "qNljKFhQMgxV"
      }
    },
    {
      "cell_type": "code",
      "source": [
        "def factorial(n):\n",
        "    if n == 0:\n",
        "        return 1\n",
        "    else:\n",
        "        return n * factorial(n - 1)\n",
        "print(factorial(5))"
      ],
      "metadata": {
        "colab": {
          "base_uri": "https://localhost:8080/"
        },
        "id": "vidKzdoaZ5nH",
        "outputId": "fd53e8a3-9e96-43a6-9739-2efa63d9a703"
      },
      "execution_count": null,
      "outputs": [
        {
          "output_type": "stream",
          "name": "stdout",
          "text": [
            "120\n"
          ]
        }
      ]
    },
    {
      "cell_type": "code",
      "source": [
        "n! = (n - 1)! * n"
      ],
      "metadata": {
        "id": "YqhDI-Gk3KXl"
      },
      "execution_count": null,
      "outputs": []
    },
    {
      "cell_type": "code",
      "source": [
        "print(factorial(3))"
      ],
      "metadata": {
        "colab": {
          "base_uri": "https://localhost:8080/"
        },
        "id": "_LlQIlpIIY9b",
        "outputId": "d6be44e4-c7da-41f0-df8b-d24a8224a535"
      },
      "execution_count": null,
      "outputs": [
        {
          "output_type": "stream",
          "name": "stdout",
          "text": [
            "6\n"
          ]
        }
      ]
    },
    {
      "cell_type": "code",
      "source": [
        "print(factorial(6150))"
      ],
      "metadata": {
        "colab": {
          "base_uri": "https://localhost:8080/",
          "height": 304
        },
        "id": "ZU32kGstZ-WU",
        "outputId": "e2b6eb95-9d80-42f8-ff44-d8c1dde27a10"
      },
      "execution_count": null,
      "outputs": [
        {
          "output_type": "error",
          "ename": "RecursionError",
          "evalue": "maximum recursion depth exceeded in comparison",
          "traceback": [
            "\u001b[0;31m---------------------------------------------------------------------------\u001b[0m",
            "\u001b[0;31mRecursionError\u001b[0m                            Traceback (most recent call last)",
            "\u001b[0;32m<ipython-input-247-b9226d8514af>\u001b[0m in \u001b[0;36m<cell line: 1>\u001b[0;34m()\u001b[0m\n\u001b[0;32m----> 1\u001b[0;31m \u001b[0mprint\u001b[0m\u001b[0;34m(\u001b[0m\u001b[0mfactorial\u001b[0m\u001b[0;34m(\u001b[0m\u001b[0;36m6150\u001b[0m\u001b[0;34m)\u001b[0m\u001b[0;34m)\u001b[0m\u001b[0;34m\u001b[0m\u001b[0;34m\u001b[0m\u001b[0m\n\u001b[0m",
            "\u001b[0;32m<ipython-input-245-c731dbe75d30>\u001b[0m in \u001b[0;36mfactorial\u001b[0;34m(n)\u001b[0m\n\u001b[1;32m      3\u001b[0m         \u001b[0;32mreturn\u001b[0m \u001b[0;36m1\u001b[0m\u001b[0;34m\u001b[0m\u001b[0;34m\u001b[0m\u001b[0m\n\u001b[1;32m      4\u001b[0m     \u001b[0;32melse\u001b[0m\u001b[0;34m:\u001b[0m\u001b[0;34m\u001b[0m\u001b[0;34m\u001b[0m\u001b[0m\n\u001b[0;32m----> 5\u001b[0;31m         \u001b[0;32mreturn\u001b[0m \u001b[0mn\u001b[0m \u001b[0;34m*\u001b[0m \u001b[0mfactorial\u001b[0m\u001b[0;34m(\u001b[0m\u001b[0mn\u001b[0m \u001b[0;34m-\u001b[0m \u001b[0;36m1\u001b[0m\u001b[0;34m)\u001b[0m\u001b[0;34m\u001b[0m\u001b[0;34m\u001b[0m\u001b[0m\n\u001b[0m\u001b[1;32m      6\u001b[0m \u001b[0mprint\u001b[0m\u001b[0;34m(\u001b[0m\u001b[0mfactorial\u001b[0m\u001b[0;34m(\u001b[0m\u001b[0;36m5\u001b[0m\u001b[0;34m)\u001b[0m\u001b[0;34m)\u001b[0m\u001b[0;34m\u001b[0m\u001b[0;34m\u001b[0m\u001b[0m\n",
            "... last 1 frames repeated, from the frame below ...\n",
            "\u001b[0;32m<ipython-input-245-c731dbe75d30>\u001b[0m in \u001b[0;36mfactorial\u001b[0;34m(n)\u001b[0m\n\u001b[1;32m      3\u001b[0m         \u001b[0;32mreturn\u001b[0m \u001b[0;36m1\u001b[0m\u001b[0;34m\u001b[0m\u001b[0;34m\u001b[0m\u001b[0m\n\u001b[1;32m      4\u001b[0m     \u001b[0;32melse\u001b[0m\u001b[0;34m:\u001b[0m\u001b[0;34m\u001b[0m\u001b[0;34m\u001b[0m\u001b[0m\n\u001b[0;32m----> 5\u001b[0;31m         \u001b[0;32mreturn\u001b[0m \u001b[0mn\u001b[0m \u001b[0;34m*\u001b[0m \u001b[0mfactorial\u001b[0m\u001b[0;34m(\u001b[0m\u001b[0mn\u001b[0m \u001b[0;34m-\u001b[0m \u001b[0;36m1\u001b[0m\u001b[0;34m)\u001b[0m\u001b[0;34m\u001b[0m\u001b[0;34m\u001b[0m\u001b[0m\n\u001b[0m\u001b[1;32m      6\u001b[0m \u001b[0mprint\u001b[0m\u001b[0;34m(\u001b[0m\u001b[0mfactorial\u001b[0m\u001b[0;34m(\u001b[0m\u001b[0;36m5\u001b[0m\u001b[0;34m)\u001b[0m\u001b[0;34m)\u001b[0m\u001b[0;34m\u001b[0m\u001b[0;34m\u001b[0m\u001b[0m\n",
            "\u001b[0;31mRecursionError\u001b[0m: maximum recursion depth exceeded in comparison"
          ]
        }
      ]
    },
    {
      "cell_type": "code",
      "source": [
        "import sys"
      ],
      "metadata": {
        "id": "Q9JXjBlyaKN9"
      },
      "execution_count": null,
      "outputs": []
    },
    {
      "cell_type": "code",
      "source": [
        "sys.getrecursionlimit()"
      ],
      "metadata": {
        "colab": {
          "base_uri": "https://localhost:8080/"
        },
        "id": "pmOctuCAaLpm",
        "outputId": "3b71dbfc-f594-45a4-c7e3-0fc91669b1bc"
      },
      "execution_count": null,
      "outputs": [
        {
          "output_type": "execute_result",
          "data": {
            "text/plain": [
              "1200"
            ]
          },
          "metadata": {},
          "execution_count": 250
        }
      ]
    },
    {
      "cell_type": "code",
      "source": [
        "sys.setrecursionlimit(1300)"
      ],
      "metadata": {
        "id": "zhietc1HaPRi"
      },
      "execution_count": null,
      "outputs": []
    },
    {
      "cell_type": "code",
      "source": [
        "sys.getrecursionlimit()"
      ],
      "metadata": {
        "colab": {
          "base_uri": "https://localhost:8080/"
        },
        "id": "mPUj1hxcaRxh",
        "outputId": "dea8f760-d5b5-4b07-ee97-3f1262b46cf5"
      },
      "execution_count": null,
      "outputs": [
        {
          "output_type": "execute_result",
          "data": {
            "text/plain": [
              "1300"
            ]
          },
          "metadata": {},
          "execution_count": 252
        }
      ]
    },
    {
      "cell_type": "markdown",
      "source": [
        "**Задача 1**\n",
        "\n",
        "Напишите рекурсивную функцию возведения в степень. Функция должна принимать на вход числа a, n и возвращать $a^n$."
      ],
      "metadata": {
        "id": "1pK1IOubiykZ"
      }
    },
    {
      "cell_type": "code",
      "source": [
        "def power(a, n):\n",
        "  if n < 0:\n",
        "    return 1 / power(a, -n)\n",
        "  if n == 0:\n",
        "    return 1\n",
        "  elif n % 2 == 0:\n",
        "    return power(a, n // 2)**2\n",
        "  else:\n",
        "    return a * power(a, n - 1)\n"
      ],
      "metadata": {
        "id": "bUwiDU-4kcld"
      },
      "execution_count": null,
      "outputs": []
    },
    {
      "cell_type": "code",
      "source": [
        "power(2, -2)"
      ],
      "metadata": {
        "colab": {
          "base_uri": "https://localhost:8080/"
        },
        "id": "VKE00vux4J1o",
        "outputId": "503b154d-b9d4-4b30-9ba5-8c80e0ec7141"
      },
      "execution_count": null,
      "outputs": [
        {
          "output_type": "execute_result",
          "data": {
            "text/plain": [
              "0.25"
            ]
          },
          "metadata": {},
          "execution_count": 258
        }
      ]
    },
    {
      "cell_type": "code",
      "source": [],
      "metadata": {
        "id": "-WluG8DB4cui"
      },
      "execution_count": null,
      "outputs": []
    },
    {
      "cell_type": "markdown",
      "source": [
        "### Работа с файлами"
      ],
      "metadata": {
        "id": "7kgFISiwpa5S"
      }
    },
    {
      "cell_type": "code",
      "source": [
        "with open('text_file_2.txt', 'w') as outfile:\n",
        "    print('Файл, который нужно прочитать', file=outfile)"
      ],
      "metadata": {
        "id": "To5iM1ltkb1K"
      },
      "execution_count": null,
      "outputs": []
    },
    {
      "cell_type": "markdown",
      "source": [
        "\n",
        "## считать .txt\n",
        "Существуют разные способы открыть файл. Мы воспользуемся тем, который сам же и закроет файл. Это удобно, так как если забыть закрыть файл, можно потерять данные — особенно при записи. Конструкция `with open() as` открывает файл, позволяет взять из него все, что нужно, и закрывает файл.\n",
        "\n",
        "В `open()` передаем название файла (который лежит в той же папке, что и код), а после `as` пишем псевдоним, с помощью которого будем обращаться к файлу внутри программы."
      ],
      "metadata": {
        "id": "ptF_CakvjqUw"
      }
    },
    {
      "cell_type": "code",
      "source": [
        "with open('text_file_2.txt') as infile: # Открываем файл: пишем название файла и выбираем ему псевдоним\n",
        "    print(infile)                     # Пробуем распечатать считанный файл"
      ],
      "metadata": {
        "id": "tzbqBFX8jsKn",
        "colab": {
          "base_uri": "https://localhost:8080/",
          "height": 176
        },
        "outputId": "f3e66c71-3689-4f59-a0f4-2b80848f4991"
      },
      "execution_count": null,
      "outputs": [
        {
          "output_type": "error",
          "ename": "FileNotFoundError",
          "evalue": "[Errno 2] No such file or directory: 'text_file_4.txt'",
          "traceback": [
            "\u001b[0;31m---------------------------------------------------------------------------\u001b[0m",
            "\u001b[0;31mFileNotFoundError\u001b[0m                         Traceback (most recent call last)",
            "\u001b[0;32m<ipython-input-295-fadfd3321d6b>\u001b[0m in \u001b[0;36m<cell line: 1>\u001b[0;34m()\u001b[0m\n\u001b[0;32m----> 1\u001b[0;31m \u001b[0;32mwith\u001b[0m \u001b[0mopen\u001b[0m\u001b[0;34m(\u001b[0m\u001b[0;34m'text_file_4.txt'\u001b[0m\u001b[0;34m)\u001b[0m \u001b[0;32mas\u001b[0m \u001b[0minfile\u001b[0m\u001b[0;34m:\u001b[0m \u001b[0;31m# Открываем файл: пишем название файла и выбираем ему псевдоним\u001b[0m\u001b[0;34m\u001b[0m\u001b[0;34m\u001b[0m\u001b[0m\n\u001b[0m\u001b[1;32m      2\u001b[0m     \u001b[0mprint\u001b[0m\u001b[0;34m(\u001b[0m\u001b[0minfile\u001b[0m\u001b[0;34m)\u001b[0m                     \u001b[0;31m# Пробуем распечатать считанный файл\u001b[0m\u001b[0;34m\u001b[0m\u001b[0;34m\u001b[0m\u001b[0m\n",
            "\u001b[0;31mFileNotFoundError\u001b[0m: [Errno 2] No such file or directory: 'text_file_4.txt'"
          ]
        }
      ]
    },
    {
      "cell_type": "code",
      "source": [
        "text = ''\n",
        "with open('text_file_2.txt', mode='r', encoding = 'UTF-8') as file:\n",
        "    for line in file:\n",
        "        text += line"
      ],
      "metadata": {
        "id": "vHjEAQH5jtov"
      },
      "execution_count": null,
      "outputs": []
    },
    {
      "cell_type": "code",
      "source": [
        "text"
      ],
      "metadata": {
        "colab": {
          "base_uri": "https://localhost:8080/",
          "height": 36
        },
        "id": "RqGYO_sh6AcU",
        "outputId": "790dd028-0c5b-4b02-fd9d-a0eb53698c91"
      },
      "execution_count": null,
      "outputs": [
        {
          "output_type": "execute_result",
          "data": {
            "text/plain": [
              "'Файл, который нужно прочитать\\n'"
            ],
            "application/vnd.google.colaboratory.intrinsic+json": {
              "type": "string"
            }
          },
          "metadata": {},
          "execution_count": 271
        }
      ]
    },
    {
      "cell_type": "code",
      "source": [
        "file = open('text_file_2.txt', mode='r', encoding = 'UTF-8')"
      ],
      "metadata": {
        "id": "oI_iYUKUjv7w"
      },
      "execution_count": null,
      "outputs": []
    },
    {
      "cell_type": "code",
      "source": [
        "for line in file:\n",
        "  print(line)"
      ],
      "metadata": {
        "id": "2mKgaU2x7NiL"
      },
      "execution_count": null,
      "outputs": []
    },
    {
      "cell_type": "code",
      "source": [
        "next(file) # file - это итератор"
      ],
      "metadata": {
        "id": "OkLJE8b9jxGA",
        "colab": {
          "base_uri": "https://localhost:8080/",
          "height": 36
        },
        "outputId": "64df4df4-cbf5-44df-cf50-163f2df52dff"
      },
      "execution_count": null,
      "outputs": [
        {
          "output_type": "execute_result",
          "data": {
            "text/plain": [
              "'Файл, который нужно прочитать\\n'"
            ],
            "application/vnd.google.colaboratory.intrinsic+json": {
              "type": "string"
            }
          },
          "metadata": {},
          "execution_count": 274
        }
      ]
    },
    {
      "cell_type": "code",
      "source": [
        "file.close()"
      ],
      "metadata": {
        "id": "VpqGO0WijyND"
      },
      "execution_count": null,
      "outputs": []
    },
    {
      "cell_type": "code",
      "source": [
        "with open('text_file_2.txt', encoding='UTF-8') as infile:\n",
        "    text = infile.read() #считать все строки"
      ],
      "metadata": {
        "id": "WIhehxoSj0CQ"
      },
      "execution_count": null,
      "outputs": []
    },
    {
      "cell_type": "code",
      "source": [
        "text"
      ],
      "metadata": {
        "colab": {
          "base_uri": "https://localhost:8080/",
          "height": 36
        },
        "id": "_5p24QVS6hy3",
        "outputId": "bcd6e372-180f-4c42-e7fa-4efc727a2bde"
      },
      "execution_count": null,
      "outputs": [
        {
          "output_type": "execute_result",
          "data": {
            "text/plain": [
              "'Файл, который нужно прочитать\\n'"
            ],
            "application/vnd.google.colaboratory.intrinsic+json": {
              "type": "string"
            }
          },
          "metadata": {},
          "execution_count": 278
        }
      ]
    },
    {
      "cell_type": "code",
      "source": [
        "with open('text_file_2.txt', encoding='UTF-8') as infile:\n",
        "    lines = infile.readlines() #считать все строки в список"
      ],
      "metadata": {
        "id": "o3SomZ1hj1qT"
      },
      "execution_count": null,
      "outputs": []
    },
    {
      "cell_type": "code",
      "source": [
        "lines"
      ],
      "metadata": {
        "colab": {
          "base_uri": "https://localhost:8080/"
        },
        "id": "AsS7TImA6kD1",
        "outputId": "d2d32305-6d03-447b-a202-44bfea7a09c8"
      },
      "execution_count": null,
      "outputs": [
        {
          "output_type": "execute_result",
          "data": {
            "text/plain": [
              "['Файл, который нужно прочитать\\n']"
            ]
          },
          "metadata": {},
          "execution_count": 284
        }
      ]
    },
    {
      "cell_type": "markdown",
      "source": [
        "### Запись в файл"
      ],
      "metadata": {
        "id": "-3PgpbuBj3t9"
      }
    },
    {
      "cell_type": "code",
      "source": [
        "important_text = 'Очень важный текст.\\n В нем даже несколько строк'\n",
        "with open('text_file_2.txt', 'w') as outfile:\n",
        "    print(important_text, file=outfile)"
      ],
      "metadata": {
        "id": "MV8cQQWDj5eM"
      },
      "execution_count": null,
      "outputs": []
    },
    {
      "cell_type": "code",
      "source": [
        "important_text_2 = 'Это другой важный текст.'\n",
        "with open('text_file_2.txt', 'w') as outfile:\n",
        "    print(important_text_2, file=outfile)"
      ],
      "metadata": {
        "id": "kzPfKIgMj6yb"
      },
      "execution_count": null,
      "outputs": []
    },
    {
      "cell_type": "code",
      "source": [
        "important_text_3 = 'А это совсем важный текст. Очень!'\n",
        "with open('text_file_2.txt', 'a') as outfile:\n",
        "    print(important_text_3, file=outfile)"
      ],
      "metadata": {
        "id": "svhnf3UNj8kr"
      },
      "execution_count": null,
      "outputs": []
    },
    {
      "cell_type": "markdown",
      "source": [
        "Библиотека NumPy (Numeric Python)  —  быстрая библиотека для математики в Python. Основная структура данных  —  массив `numpy.array` для хранения данных одного типа"
      ],
      "metadata": {
        "id": "ZkpR7S65ENwG"
      }
    },
    {
      "cell_type": "markdown",
      "source": [
        "##### Создание массива"
      ],
      "metadata": {
        "id": "Fv-2w5DOEYPV"
      }
    },
    {
      "cell_type": "code",
      "source": [
        "import numpy as np"
      ],
      "metadata": {
        "id": "Fr35EzCODb6z"
      },
      "execution_count": null,
      "outputs": []
    },
    {
      "cell_type": "code",
      "source": [
        "a = np.array([1, 2, 3, 4, 5])\n",
        "b = np.array([0.01, 2, 4, 0.1, -2, 0, 1, -2])\n",
        "\n",
        "print(a)\n",
        "print(b)\n",
        "print(b[1])\n",
        "print(b[1:7:2])"
      ],
      "metadata": {
        "id": "N7h6NEXGEcsi",
        "colab": {
          "base_uri": "https://localhost:8080/"
        },
        "outputId": "b4bcfe39-9899-4ef7-8ccf-c40ab0a40187"
      },
      "execution_count": null,
      "outputs": [
        {
          "output_type": "stream",
          "name": "stdout",
          "text": [
            "[1 2 3 4 5]\n",
            "[ 0.01  2.    4.    0.1  -2.    0.    1.   -2.  ]\n",
            "2.0\n",
            "[2.  0.1 0. ]\n"
          ]
        }
      ]
    },
    {
      "cell_type": "code",
      "source": [],
      "metadata": {
        "id": "qn24OiMl8hLD"
      },
      "execution_count": null,
      "outputs": []
    },
    {
      "cell_type": "code",
      "source": [
        "c = np.array([[1, 2, 3, 4, 5], [6, 7, 8, 9, 10], [10, 20, 30, -10, 0]]) # многомерный массив\n",
        "print(c)\n",
        "print(c.shape, c.dtype)\n",
        "print( c[1][2])"
      ],
      "metadata": {
        "id": "LtJSuepGEfRz",
        "colab": {
          "base_uri": "https://localhost:8080/"
        },
        "outputId": "eb3d715a-4b1e-4e4b-a72d-84f1bf029b5b"
      },
      "execution_count": null,
      "outputs": [
        {
          "output_type": "stream",
          "name": "stdout",
          "text": [
            "[[  1   2   3   4   5]\n",
            " [  6   7   8   9  10]\n",
            " [ 10  20  30 -10   0]]\n",
            "(3, 5) int64\n",
            "8\n"
          ]
        }
      ]
    },
    {
      "cell_type": "code",
      "source": [
        "lst = [1, 2, ['a', 'b']]"
      ],
      "metadata": {
        "id": "QkS_19XCOfvK"
      },
      "execution_count": null,
      "outputs": []
    },
    {
      "cell_type": "code",
      "source": [],
      "metadata": {
        "id": "uK4uKxTJ8ywQ"
      },
      "execution_count": null,
      "outputs": []
    },
    {
      "cell_type": "code",
      "source": [
        "d = np.arange(2, 19, 3)\n",
        "print(d)"
      ],
      "metadata": {
        "id": "KB78vOZ4Oq-k",
        "colab": {
          "base_uri": "https://localhost:8080/"
        },
        "outputId": "7da137e4-abce-41f7-a59b-9ab5e55c3070"
      },
      "execution_count": null,
      "outputs": [
        {
          "output_type": "stream",
          "name": "stdout",
          "text": [
            "[ 2  5  8 11 14 17]\n"
          ]
        }
      ]
    },
    {
      "cell_type": "code",
      "source": [
        "print(np.random.rand(2, 2)) # массив из чисел их равномерного распределения [0, 1]"
      ],
      "metadata": {
        "id": "q-cfR0IhPEjk",
        "colab": {
          "base_uri": "https://localhost:8080/"
        },
        "outputId": "a0d21ada-b792-450d-fa3a-2ca6c1512c4e"
      },
      "execution_count": null,
      "outputs": [
        {
          "output_type": "stream",
          "name": "stdout",
          "text": [
            "[[0.08161091 0.22937057]\n",
            " [0.91279608 0.31438411]]\n"
          ]
        }
      ]
    },
    {
      "cell_type": "code",
      "source": [
        "random_array = np.random.randn(2, 3, 2)\n",
        "random_array\n"
      ],
      "metadata": {
        "id": "sQ4hdlZtO5E1",
        "colab": {
          "base_uri": "https://localhost:8080/"
        },
        "outputId": "9ef640f2-32fa-42af-b3b7-8fadc26c3d3f"
      },
      "execution_count": null,
      "outputs": [
        {
          "output_type": "execute_result",
          "data": {
            "text/plain": [
              "array([[[-0.19381594, -2.41563388],\n",
              "        [-0.55897646,  1.9902527 ],\n",
              "        [-1.21411849, -3.52241983]],\n",
              "\n",
              "       [[-1.15778943,  1.08671425],\n",
              "        [ 0.64978869,  2.12976327],\n",
              "        [-1.22506511, -0.33294731]]])"
            ]
          },
          "metadata": {},
          "execution_count": 143
        }
      ]
    },
    {
      "cell_type": "code",
      "source": [
        "random_array.shape"
      ],
      "metadata": {
        "id": "ntYquC85Omd1",
        "colab": {
          "base_uri": "https://localhost:8080/"
        },
        "outputId": "57f2ebd2-de6d-42db-8c82-e064070537bf"
      },
      "execution_count": null,
      "outputs": [
        {
          "output_type": "execute_result",
          "data": {
            "text/plain": [
              "(2, 3, 2)"
            ]
          },
          "metadata": {},
          "execution_count": 144
        }
      ]
    },
    {
      "cell_type": "markdown",
      "source": [
        "Используются типы данных Си: `int8`, `int32`, `int64`..."
      ],
      "metadata": {
        "id": "5eu5ZGu-FdCm"
      }
    },
    {
      "cell_type": "code",
      "source": [
        "c[1][2] = 80"
      ],
      "metadata": {
        "id": "4PrS1rSeF4G-"
      },
      "execution_count": null,
      "outputs": []
    },
    {
      "cell_type": "code",
      "source": [
        "c"
      ],
      "metadata": {
        "id": "4MheTWtLGAPp",
        "colab": {
          "base_uri": "https://localhost:8080/"
        },
        "outputId": "6cc0206f-8e91-447b-e253-caea64af068a"
      },
      "execution_count": null,
      "outputs": [
        {
          "output_type": "execute_result",
          "data": {
            "text/plain": [
              "array([[  1,   2,   3,   4,   5],\n",
              "       [  6,   7,  80,   9,  10],\n",
              "       [ 10,  20,  30, -10,   0]])"
            ]
          },
          "metadata": {},
          "execution_count": 146
        }
      ]
    },
    {
      "cell_type": "code",
      "source": [
        "c[1][2] = 80"
      ],
      "metadata": {
        "id": "wzTVY3fsOqXI"
      },
      "execution_count": null,
      "outputs": []
    },
    {
      "cell_type": "code",
      "source": [
        "c.dtype"
      ],
      "metadata": {
        "id": "QCqvcKayOrlf",
        "colab": {
          "base_uri": "https://localhost:8080/"
        },
        "outputId": "f47535f3-4016-4daa-e743-011f26a3d5b0"
      },
      "execution_count": null,
      "outputs": [
        {
          "output_type": "execute_result",
          "data": {
            "text/plain": [
              "dtype('int64')"
            ]
          },
          "metadata": {},
          "execution_count": 148
        }
      ]
    },
    {
      "cell_type": "code",
      "source": [
        "c[1][2] = 10e18 #переполнение"
      ],
      "metadata": {
        "id": "1fPWCX9EGBNo",
        "colab": {
          "base_uri": "https://localhost:8080/",
          "height": 141
        },
        "outputId": "8de6f163-c16e-40a3-8598-6d346fc42923"
      },
      "execution_count": null,
      "outputs": [
        {
          "output_type": "error",
          "ename": "OverflowError",
          "evalue": "Python int too large to convert to C long",
          "traceback": [
            "\u001b[0;31m---------------------------------------------------------------------------\u001b[0m",
            "\u001b[0;31mOverflowError\u001b[0m                             Traceback (most recent call last)",
            "\u001b[0;32m<ipython-input-37-a07f6ae42e60>\u001b[0m in \u001b[0;36m<cell line: 1>\u001b[0;34m()\u001b[0m\n\u001b[0;32m----> 1\u001b[0;31m \u001b[0mc\u001b[0m\u001b[0;34m[\u001b[0m\u001b[0;36m1\u001b[0m\u001b[0;34m]\u001b[0m\u001b[0;34m[\u001b[0m\u001b[0;36m2\u001b[0m\u001b[0;34m]\u001b[0m \u001b[0;34m=\u001b[0m \u001b[0;36m10e18\u001b[0m \u001b[0;31m#переполнение\u001b[0m\u001b[0;34m\u001b[0m\u001b[0;34m\u001b[0m\u001b[0m\n\u001b[0m",
            "\u001b[0;31mOverflowError\u001b[0m: Python int too large to convert to C long"
          ]
        }
      ]
    },
    {
      "cell_type": "code",
      "source": [
        "10e18"
      ],
      "metadata": {
        "id": "QXA7udB-GHFP",
        "colab": {
          "base_uri": "https://localhost:8080/"
        },
        "outputId": "b637d128-ad10-4ead-c0a5-bc328b15c03e"
      },
      "execution_count": null,
      "outputs": [
        {
          "output_type": "execute_result",
          "data": {
            "text/plain": [
              "1e+19"
            ]
          },
          "metadata": {},
          "execution_count": 39
        }
      ]
    },
    {
      "cell_type": "code",
      "source": [
        "I = np.eye(10, 10)\n",
        "I"
      ],
      "metadata": {
        "id": "ZYq8DtVDPQ_8",
        "colab": {
          "base_uri": "https://localhost:8080/"
        },
        "outputId": "1ce72dfd-935a-48a3-f0ff-ab935c622127"
      },
      "execution_count": null,
      "outputs": [
        {
          "output_type": "execute_result",
          "data": {
            "text/plain": [
              "array([[1., 0., 0., 0., 0., 0., 0., 0., 0., 0.],\n",
              "       [0., 1., 0., 0., 0., 0., 0., 0., 0., 0.],\n",
              "       [0., 0., 1., 0., 0., 0., 0., 0., 0., 0.],\n",
              "       [0., 0., 0., 1., 0., 0., 0., 0., 0., 0.],\n",
              "       [0., 0., 0., 0., 1., 0., 0., 0., 0., 0.],\n",
              "       [0., 0., 0., 0., 0., 1., 0., 0., 0., 0.],\n",
              "       [0., 0., 0., 0., 0., 0., 1., 0., 0., 0.],\n",
              "       [0., 0., 0., 0., 0., 0., 0., 1., 0., 0.],\n",
              "       [0., 0., 0., 0., 0., 0., 0., 0., 1., 0.],\n",
              "       [0., 0., 0., 0., 0., 0., 0., 0., 0., 1.]])"
            ]
          },
          "metadata": {},
          "execution_count": 40
        }
      ]
    },
    {
      "cell_type": "code",
      "source": [
        "array = np.array([0, 1, 2, 3, 4, 5])\n",
        "print(array.dtype)\n",
        "array"
      ],
      "metadata": {
        "id": "h3lsHeNwGWV_",
        "colab": {
          "base_uri": "https://localhost:8080/"
        },
        "outputId": "c9920803-f73c-436d-d11b-e2dbb9f96ad1"
      },
      "execution_count": null,
      "outputs": [
        {
          "output_type": "stream",
          "name": "stdout",
          "text": [
            "int64\n"
          ]
        },
        {
          "output_type": "execute_result",
          "data": {
            "text/plain": [
              "array([0, 1, 2, 3, 4, 5])"
            ]
          },
          "metadata": {},
          "execution_count": 41
        }
      ]
    },
    {
      "cell_type": "code",
      "source": [
        "array = np.array([0, 1, 2, 3, 4, 5], dtype='int16')\n",
        "print(array.dtype)\n",
        "array"
      ],
      "metadata": {
        "id": "fkfUXViHGjB4",
        "colab": {
          "base_uri": "https://localhost:8080/"
        },
        "outputId": "7e3dde5b-494a-47b6-8313-7c1686997832"
      },
      "execution_count": null,
      "outputs": [
        {
          "output_type": "stream",
          "name": "stdout",
          "text": [
            "int16\n"
          ]
        },
        {
          "output_type": "execute_result",
          "data": {
            "text/plain": [
              "array([0, 1, 2, 3, 4, 5], dtype=int16)"
            ]
          },
          "metadata": {},
          "execution_count": 42
        }
      ]
    },
    {
      "cell_type": "code",
      "source": [
        "array[1] =array[1] * 10"
      ],
      "metadata": {
        "id": "Zx5DKmv3Gqs6"
      },
      "execution_count": null,
      "outputs": []
    },
    {
      "cell_type": "code",
      "source": [
        "array[1] = 'abc'"
      ],
      "metadata": {
        "id": "VYIh6PpbGvJl",
        "colab": {
          "base_uri": "https://localhost:8080/",
          "height": 141
        },
        "outputId": "54267841-4fb8-4f05-cece-01148eab6a3f"
      },
      "execution_count": null,
      "outputs": [
        {
          "output_type": "error",
          "ename": "ValueError",
          "evalue": "invalid literal for int() with base 10: 'abc'",
          "traceback": [
            "\u001b[0;31m---------------------------------------------------------------------------\u001b[0m",
            "\u001b[0;31mValueError\u001b[0m                                Traceback (most recent call last)",
            "\u001b[0;32m<ipython-input-44-38035536f0f3>\u001b[0m in \u001b[0;36m<cell line: 1>\u001b[0;34m()\u001b[0m\n\u001b[0;32m----> 1\u001b[0;31m \u001b[0marray\u001b[0m\u001b[0;34m[\u001b[0m\u001b[0;36m1\u001b[0m\u001b[0;34m]\u001b[0m \u001b[0;34m=\u001b[0m \u001b[0;34m'abc'\u001b[0m\u001b[0;34m\u001b[0m\u001b[0;34m\u001b[0m\u001b[0m\n\u001b[0m",
            "\u001b[0;31mValueError\u001b[0m: invalid literal for int() with base 10: 'abc'"
          ]
        }
      ]
    },
    {
      "cell_type": "code",
      "source": [
        "array = np.array([0, 1, 'abc'])\n",
        "print(array.dtype)\n",
        "array"
      ],
      "metadata": {
        "id": "K2zxrRD4GxbS",
        "colab": {
          "base_uri": "https://localhost:8080/"
        },
        "outputId": "1116c1a2-4bbd-44fb-fc55-b31db63e82b7"
      },
      "execution_count": null,
      "outputs": [
        {
          "output_type": "stream",
          "name": "stdout",
          "text": [
            "<U21\n"
          ]
        },
        {
          "output_type": "execute_result",
          "data": {
            "text/plain": [
              "array(['0', '1', 'abc'], dtype='<U21')"
            ]
          },
          "metadata": {},
          "execution_count": 149
        }
      ]
    },
    {
      "cell_type": "code",
      "source": [
        "a = np.zeros(10)\n",
        "print(a)\n",
        "\n",
        "a = np.zeros((3, 2))\n",
        "print(a)"
      ],
      "metadata": {
        "id": "NMEEyE_NHR1s",
        "colab": {
          "base_uri": "https://localhost:8080/"
        },
        "outputId": "ca84ecce-a823-4cbe-d449-2542fd6e9e0c"
      },
      "execution_count": null,
      "outputs": [
        {
          "output_type": "stream",
          "name": "stdout",
          "text": [
            "[0. 0. 0. 0. 0. 0. 0. 0. 0. 0.]\n",
            "[[0. 0.]\n",
            " [0. 0.]\n",
            " [0. 0.]]\n"
          ]
        }
      ]
    },
    {
      "cell_type": "markdown",
      "source": [
        "Многомерные массивы:"
      ],
      "metadata": {
        "id": "mfFeJqUuHUy-"
      }
    },
    {
      "cell_type": "code",
      "source": [
        "array = np.array([[[1, 10], [2, 12], [3, 30]], [[4, 40], [5, 50], [6, 60]], [[7, 70], [8, 80], [9, 90]]])"
      ],
      "metadata": {
        "id": "iqOad0JXHTPC"
      },
      "execution_count": null,
      "outputs": []
    },
    {
      "cell_type": "code",
      "source": [
        "print(array)"
      ],
      "metadata": {
        "id": "cp2j8GkdHr6Q",
        "colab": {
          "base_uri": "https://localhost:8080/"
        },
        "outputId": "ee049691-650d-47a8-cb0b-423ded885bc7"
      },
      "execution_count": null,
      "outputs": [
        {
          "output_type": "stream",
          "name": "stdout",
          "text": [
            "[[[ 1 10]\n",
            "  [ 2 12]\n",
            "  [ 3 30]]\n",
            "\n",
            " [[ 4 40]\n",
            "  [ 5 50]\n",
            "  [ 6 60]]\n",
            "\n",
            " [[ 7 70]\n",
            "  [ 8 80]\n",
            "  [ 9 90]]]\n"
          ]
        }
      ]
    },
    {
      "cell_type": "code",
      "source": [
        "print(array.dtype, array.shape, array.ndim, array.size)"
      ],
      "metadata": {
        "id": "3I4vA1wEHu41",
        "colab": {
          "base_uri": "https://localhost:8080/"
        },
        "outputId": "01afab73-719b-4a08-bfee-246d960702ea"
      },
      "execution_count": null,
      "outputs": [
        {
          "output_type": "stream",
          "name": "stdout",
          "text": [
            "int64 (3, 3, 2) 3 18\n"
          ]
        }
      ]
    },
    {
      "cell_type": "code",
      "source": [
        "array.flatten()"
      ],
      "metadata": {
        "id": "ldGB5PAJITv0",
        "colab": {
          "base_uri": "https://localhost:8080/"
        },
        "outputId": "988263a5-cec5-47ce-dc0c-3abd06424fc7"
      },
      "execution_count": null,
      "outputs": [
        {
          "output_type": "execute_result",
          "data": {
            "text/plain": [
              "array([ 1, 10,  2, 12,  3, 30,  4, 40,  5, 50,  6, 60,  7, 70,  8, 80,  9,\n",
              "       90])"
            ]
          },
          "metadata": {},
          "execution_count": 155
        }
      ]
    },
    {
      "cell_type": "code",
      "source": [
        "array.reshape(3, 5)"
      ],
      "metadata": {
        "id": "UTvrHIo1IZmx",
        "colab": {
          "base_uri": "https://localhost:8080/",
          "height": 141
        },
        "outputId": "a03383e9-269a-46c9-d328-9b7c606905f9"
      },
      "execution_count": null,
      "outputs": [
        {
          "output_type": "error",
          "ename": "ValueError",
          "evalue": "cannot reshape array of size 18 into shape (3,5)",
          "traceback": [
            "\u001b[0;31m---------------------------------------------------------------------------\u001b[0m",
            "\u001b[0;31mValueError\u001b[0m                                Traceback (most recent call last)",
            "\u001b[0;32m<ipython-input-156-18e5f83a1c6b>\u001b[0m in \u001b[0;36m<cell line: 1>\u001b[0;34m()\u001b[0m\n\u001b[0;32m----> 1\u001b[0;31m \u001b[0marray\u001b[0m\u001b[0;34m.\u001b[0m\u001b[0mreshape\u001b[0m\u001b[0;34m(\u001b[0m\u001b[0;36m3\u001b[0m\u001b[0;34m,\u001b[0m \u001b[0;36m5\u001b[0m\u001b[0;34m)\u001b[0m\u001b[0;34m\u001b[0m\u001b[0;34m\u001b[0m\u001b[0m\n\u001b[0m",
            "\u001b[0;31mValueError\u001b[0m: cannot reshape array of size 18 into shape (3,5)"
          ]
        }
      ]
    },
    {
      "cell_type": "code",
      "source": [
        "array.reshape(2, 9)"
      ],
      "metadata": {
        "id": "dhnLTEccIiD4",
        "colab": {
          "base_uri": "https://localhost:8080/"
        },
        "outputId": "804798a6-4e20-4ca5-aa4e-a955b5743248"
      },
      "execution_count": null,
      "outputs": [
        {
          "output_type": "execute_result",
          "data": {
            "text/plain": [
              "array([[ 1, 10,  2, 12,  3, 30,  4, 40,  5],\n",
              "       [50,  6, 60,  7, 70,  8, 80,  9, 90]])"
            ]
          },
          "metadata": {},
          "execution_count": 157
        }
      ]
    },
    {
      "cell_type": "code",
      "source": [
        "array = np.array([[1, 2], [1, 2, 3]])"
      ],
      "metadata": {
        "id": "WI6KxhOzH2u-",
        "colab": {
          "base_uri": "https://localhost:8080/",
          "height": 141
        },
        "outputId": "ac893ec4-f10a-4e89-f3a7-7cb39d4e8d33"
      },
      "execution_count": null,
      "outputs": [
        {
          "output_type": "error",
          "ename": "ValueError",
          "evalue": "setting an array element with a sequence. The requested array has an inhomogeneous shape after 1 dimensions. The detected shape was (2,) + inhomogeneous part.",
          "traceback": [
            "\u001b[0;31m---------------------------------------------------------------------------\u001b[0m",
            "\u001b[0;31mValueError\u001b[0m                                Traceback (most recent call last)",
            "\u001b[0;32m<ipython-input-159-ead26bfaf63e>\u001b[0m in \u001b[0;36m<cell line: 1>\u001b[0;34m()\u001b[0m\n\u001b[0;32m----> 1\u001b[0;31m \u001b[0marray\u001b[0m \u001b[0;34m=\u001b[0m \u001b[0mnp\u001b[0m\u001b[0;34m.\u001b[0m\u001b[0marray\u001b[0m\u001b[0;34m(\u001b[0m\u001b[0;34m[\u001b[0m\u001b[0;34m[\u001b[0m\u001b[0;36m1\u001b[0m\u001b[0;34m,\u001b[0m \u001b[0;36m2\u001b[0m\u001b[0;34m]\u001b[0m\u001b[0;34m,\u001b[0m \u001b[0;34m[\u001b[0m\u001b[0;36m1\u001b[0m\u001b[0;34m,\u001b[0m \u001b[0;36m2\u001b[0m\u001b[0;34m,\u001b[0m \u001b[0;36m3\u001b[0m\u001b[0;34m]\u001b[0m\u001b[0;34m]\u001b[0m\u001b[0;34m)\u001b[0m\u001b[0;34m\u001b[0m\u001b[0;34m\u001b[0m\u001b[0m\n\u001b[0m",
            "\u001b[0;31mValueError\u001b[0m: setting an array element with a sequence. The requested array has an inhomogeneous shape after 1 dimensions. The detected shape was (2,) + inhomogeneous part."
          ]
        }
      ]
    },
    {
      "cell_type": "code",
      "source": [
        "array = np.array([[1, 2], [1, 2, 3]], dtype=\"object\")"
      ],
      "metadata": {
        "id": "3pO51wS8IHyi"
      },
      "execution_count": null,
      "outputs": []
    },
    {
      "cell_type": "code",
      "source": [
        "array"
      ],
      "metadata": {
        "colab": {
          "base_uri": "https://localhost:8080/"
        },
        "id": "R2mZ4Bb3q6Fg",
        "outputId": "0ad217a2-e71f-4cca-a600-13840c9e4bac"
      },
      "execution_count": null,
      "outputs": [
        {
          "output_type": "execute_result",
          "data": {
            "text/plain": [
              "array([list([1, 2]), list([1, 2, 3])], dtype=object)"
            ]
          },
          "metadata": {},
          "execution_count": 161
        }
      ]
    },
    {
      "cell_type": "markdown",
      "source": [
        "С numpy-массивами может быть удобно работать, потому что все действия в них выполняются поэлементно:"
      ],
      "metadata": {
        "id": "N3yldqRGI8c6"
      }
    },
    {
      "cell_type": "code",
      "source": [
        "lst1 = [0, 1, 2, 3, 4, 5]\n",
        "lst2 = [3, 1, 28, 3, 2, 8]\n",
        "print(lst1 + lst2)"
      ],
      "metadata": {
        "id": "1yGGjTSFJK2D",
        "colab": {
          "base_uri": "https://localhost:8080/"
        },
        "outputId": "7eef2070-cac6-4a78-d6ff-b89c5c76ac6e"
      },
      "execution_count": null,
      "outputs": [
        {
          "output_type": "stream",
          "name": "stdout",
          "text": [
            "[0, 1, 2, 3, 4, 5, 3, 1, 28, 3, 2, 8]\n"
          ]
        }
      ]
    },
    {
      "cell_type": "code",
      "source": [
        "array1 = np.array([0, 1, 2, 3, 4, 5])\n",
        "array2 = np.array([3, 1, 28, 3, 2, 8])\n",
        "print(array1 + array2)"
      ],
      "metadata": {
        "id": "x4j5ZjRTJBlt",
        "colab": {
          "base_uri": "https://localhost:8080/"
        },
        "outputId": "475c59ea-623b-4b5f-e2ad-b61283d96fe8"
      },
      "execution_count": null,
      "outputs": [
        {
          "output_type": "stream",
          "name": "stdout",
          "text": [
            "[ 3  2 30  6  6 13]\n"
          ]
        }
      ]
    },
    {
      "cell_type": "code",
      "source": [
        "A = np.array([[1, 2, 3], [4, 5, 6]])\n",
        "B = np.array([[-2, 3, 8], [1, 9, 11]])\n",
        "print(A, end = '\\n\\n')\n",
        "print(B, end = '\\n\\n')\n",
        "print(A + B, end = '\\n\\n')\n",
        "print(A * B, end = '\\n\\n') # не умножение матриц, а поэлементное умножение!\n",
        "print(np.dot(A, B)) # а вот это умножение матриц, которое упадет из-за несоответствия размерностей"
      ],
      "metadata": {
        "id": "-7qnu0QMJIRz",
        "colab": {
          "base_uri": "https://localhost:8080/",
          "height": 384
        },
        "outputId": "3fca910c-9479-4a4f-c94b-203d6273074a"
      },
      "execution_count": null,
      "outputs": [
        {
          "output_type": "stream",
          "name": "stdout",
          "text": [
            "[[1 2 3]\n",
            " [4 5 6]]\n",
            "\n",
            "[[-2  3  8]\n",
            " [ 1  9 11]]\n",
            "\n",
            "[[-1  5 11]\n",
            " [ 5 14 17]]\n",
            "\n",
            "[[-2  6 24]\n",
            " [ 4 45 66]]\n",
            "\n"
          ]
        },
        {
          "output_type": "error",
          "ename": "ValueError",
          "evalue": "shapes (2,3) and (2,3) not aligned: 3 (dim 1) != 2 (dim 0)",
          "traceback": [
            "\u001b[0;31m---------------------------------------------------------------------------\u001b[0m",
            "\u001b[0;31mValueError\u001b[0m                                Traceback (most recent call last)",
            "\u001b[0;32m<ipython-input-164-d9ac6d9cbb51>\u001b[0m in \u001b[0;36m<cell line: 7>\u001b[0;34m()\u001b[0m\n\u001b[1;32m      5\u001b[0m \u001b[0mprint\u001b[0m\u001b[0;34m(\u001b[0m\u001b[0mA\u001b[0m \u001b[0;34m+\u001b[0m \u001b[0mB\u001b[0m\u001b[0;34m,\u001b[0m \u001b[0mend\u001b[0m \u001b[0;34m=\u001b[0m \u001b[0;34m'\\n\\n'\u001b[0m\u001b[0;34m)\u001b[0m\u001b[0;34m\u001b[0m\u001b[0;34m\u001b[0m\u001b[0m\n\u001b[1;32m      6\u001b[0m \u001b[0mprint\u001b[0m\u001b[0;34m(\u001b[0m\u001b[0mA\u001b[0m \u001b[0;34m*\u001b[0m \u001b[0mB\u001b[0m\u001b[0;34m,\u001b[0m \u001b[0mend\u001b[0m \u001b[0;34m=\u001b[0m \u001b[0;34m'\\n\\n'\u001b[0m\u001b[0;34m)\u001b[0m \u001b[0;31m# не умножение матриц, а поэлементное умножение!\u001b[0m\u001b[0;34m\u001b[0m\u001b[0;34m\u001b[0m\u001b[0m\n\u001b[0;32m----> 7\u001b[0;31m \u001b[0mprint\u001b[0m\u001b[0;34m(\u001b[0m\u001b[0mnp\u001b[0m\u001b[0;34m.\u001b[0m\u001b[0mdot\u001b[0m\u001b[0;34m(\u001b[0m\u001b[0mA\u001b[0m\u001b[0;34m,\u001b[0m \u001b[0mB\u001b[0m\u001b[0;34m)\u001b[0m\u001b[0;34m)\u001b[0m \u001b[0;31m# а вот это умножение матриц, которое упадет из-за несоответствия размерностей\u001b[0m\u001b[0;34m\u001b[0m\u001b[0;34m\u001b[0m\u001b[0m\n\u001b[0m",
            "\u001b[0;31mValueError\u001b[0m: shapes (2,3) and (2,3) not aligned: 3 (dim 1) != 2 (dim 0)"
          ]
        }
      ]
    },
    {
      "cell_type": "code",
      "source": [
        "C = np.array([[1, 2], [4, 5], [6, 7]])\n",
        "print(B)\n",
        "print(C)\n",
        "print(np.dot(B, C))"
      ],
      "metadata": {
        "id": "CXGhD9sWLZhW",
        "colab": {
          "base_uri": "https://localhost:8080/"
        },
        "outputId": "22a707f5-23cd-4e51-c22b-b0e7eb069d70"
      },
      "execution_count": null,
      "outputs": [
        {
          "output_type": "stream",
          "name": "stdout",
          "text": [
            "[[-2  3  8]\n",
            " [ 1  9 11]]\n",
            "[[1 2]\n",
            " [4 5]\n",
            " [6 7]]\n",
            "[[ 58  67]\n",
            " [103 124]]\n"
          ]
        }
      ]
    },
    {
      "cell_type": "markdown",
      "source": [
        "##### Арифметические операции"
      ],
      "metadata": {
        "id": "-YwWcFg1PlZO"
      }
    },
    {
      "cell_type": "code",
      "source": [
        "lst1 = [1, 2, 3]\n",
        "lst2 = [-1, -6, 30]\n",
        "print(lst1 + lst2)\n",
        "\n",
        "lst1_array = np.array([1, 2, 3])\n",
        "lst2_array = np.array([-1, -6, 30])\n",
        "print(lst1_array + lst2_array)"
      ],
      "metadata": {
        "id": "QO_ULRMDPnWq",
        "colab": {
          "base_uri": "https://localhost:8080/"
        },
        "outputId": "e1efc244-15fc-4272-877f-3e6e1ed90252"
      },
      "execution_count": null,
      "outputs": [
        {
          "output_type": "stream",
          "name": "stdout",
          "text": [
            "[1, 2, 3, -1, -6, 30]\n",
            "[ 0 -4 33]\n"
          ]
        }
      ]
    },
    {
      "cell_type": "markdown",
      "source": [
        "Если в операции участвуют два массива одинакового размера, операции считаются для соответствующих пар:"
      ],
      "metadata": {
        "id": "hZrrbIfuPwic"
      }
    },
    {
      "cell_type": "code",
      "source": [
        "print(lst2_array)\n",
        "print(lst2_array * 6)\n",
        "print(lst2_array * 2.8)\n",
        "print(lst2_array + 2)\n",
        "print(lst2_array - 20)\n",
        "print(lst2_array**2)"
      ],
      "metadata": {
        "id": "Aq-pOgBfPqX3",
        "colab": {
          "base_uri": "https://localhost:8080/"
        },
        "outputId": "316d969e-fc3b-453f-f00c-df59b2276c4f"
      },
      "execution_count": null,
      "outputs": [
        {
          "output_type": "stream",
          "name": "stdout",
          "text": [
            "[-1 -6 30]\n",
            "[ -6 -36 180]\n",
            "[ -2.8 -16.8  84. ]\n",
            "[ 1 -4 32]\n",
            "[-21 -26  10]\n",
            "[  1  36 900]\n"
          ]
        }
      ]
    },
    {
      "cell_type": "code",
      "source": [
        "print(lst1_array)\n",
        "print(lst2_array)\n",
        "print()\n",
        "print(lst1_array * lst2_array)\n",
        "print(lst1_array - lst2_array)\n",
        "print(lst1_array / lst2_array)\n",
        "print(lst1_array // lst2_array)\n",
        "print(lst1_array ** 2)"
      ],
      "metadata": {
        "id": "b2ONOoExPuBq",
        "colab": {
          "base_uri": "https://localhost:8080/"
        },
        "outputId": "7496253c-04cb-41fc-eb51-f16714f8d939"
      },
      "execution_count": null,
      "outputs": [
        {
          "output_type": "stream",
          "name": "stdout",
          "text": [
            "[1 2 3]\n",
            "[-1 -6 30]\n",
            "\n",
            "[ -1 -12  90]\n",
            "[  2   8 -27]\n",
            "[-1.         -0.33333333  0.1       ]\n",
            "[-1 -1  0]\n",
            "[1 4 9]\n"
          ]
        }
      ]
    },
    {
      "cell_type": "code",
      "source": [
        "np.unique([1, 2, 4, 2, 2, 1]) # уникальные значения"
      ],
      "metadata": {
        "id": "jvGFTvzuPz_9",
        "colab": {
          "base_uri": "https://localhost:8080/"
        },
        "outputId": "70ba9d41-289b-4f66-f3cc-5cfb6126dad4"
      },
      "execution_count": null,
      "outputs": [
        {
          "output_type": "execute_result",
          "data": {
            "text/plain": [
              "array([1, 2, 4])"
            ]
          },
          "metadata": {},
          "execution_count": 169
        }
      ]
    },
    {
      "cell_type": "code",
      "source": [
        "print(C.dtype, C.shape, C.ndim, C.size)"
      ],
      "metadata": {
        "id": "509bxRL7L4a1",
        "colab": {
          "base_uri": "https://localhost:8080/"
        },
        "outputId": "343c28ba-7a02-4416-8fae-699a163ca46b"
      },
      "execution_count": null,
      "outputs": [
        {
          "output_type": "stream",
          "name": "stdout",
          "text": [
            "int64 (3, 2) 2 6\n"
          ]
        }
      ]
    },
    {
      "cell_type": "markdown",
      "source": [
        "##### Индексация"
      ],
      "metadata": {
        "id": "nc-4L8VeP6H2"
      }
    },
    {
      "cell_type": "code",
      "source": [
        "a = np.array([1, -2, 25, -4, -12])\n",
        "print(a[a > 0])"
      ],
      "metadata": {
        "id": "d5Yb5HMWP8eu",
        "colab": {
          "base_uri": "https://localhost:8080/"
        },
        "outputId": "5deca6a6-4f4d-4583-a1c1-b5109bc2f313"
      },
      "execution_count": null,
      "outputs": [
        {
          "output_type": "stream",
          "name": "stdout",
          "text": [
            "[ 1 25]\n"
          ]
        }
      ]
    },
    {
      "cell_type": "code",
      "source": [
        "a = np.array([ 1,  2, 25, 10, -1])"
      ],
      "metadata": {
        "id": "dCvgygfgRR0S"
      },
      "execution_count": null,
      "outputs": []
    },
    {
      "cell_type": "code",
      "source": [
        "b = np.array([-2, -2,  3, 10, 15])"
      ],
      "metadata": {
        "id": "eqydcA2KSbRb"
      },
      "execution_count": null,
      "outputs": []
    },
    {
      "cell_type": "code",
      "source": [
        "print(a[(a > 0) | (b > 0)])"
      ],
      "metadata": {
        "id": "3WZriam6P-NR",
        "colab": {
          "base_uri": "https://localhost:8080/"
        },
        "outputId": "fe6642a6-5831-4de7-e26e-77ba23d97f9d"
      },
      "execution_count": null,
      "outputs": [
        {
          "output_type": "stream",
          "name": "stdout",
          "text": [
            "[ 1  2 25 10 -1]\n"
          ]
        }
      ]
    },
    {
      "cell_type": "code",
      "source": [
        "print(a[(a > 0) & (b > 0)])"
      ],
      "metadata": {
        "id": "Ks-F_QCjSaCe",
        "colab": {
          "base_uri": "https://localhost:8080/"
        },
        "outputId": "533b4b12-f5bd-4eb7-91a1-296f18e2dbb9"
      },
      "execution_count": null,
      "outputs": [
        {
          "output_type": "stream",
          "name": "stdout",
          "text": [
            "[25 10]\n"
          ]
        }
      ]
    },
    {
      "cell_type": "code",
      "source": [
        "C = np.array([[-2, -2, 3, 10, 15], [2, -20, 3, 8, 15]])"
      ],
      "metadata": {
        "id": "hk3mKiNQRcyV"
      },
      "execution_count": null,
      "outputs": []
    },
    {
      "cell_type": "code",
      "source": [
        "a = np.array([[[1, 2], [3, 4], [5, 6]]])"
      ],
      "metadata": {
        "id": "KpcTgNpfTYK5"
      },
      "execution_count": null,
      "outputs": []
    },
    {
      "cell_type": "code",
      "source": [
        "a.shape"
      ],
      "metadata": {
        "id": "jYGhYadBR8Be",
        "colab": {
          "base_uri": "https://localhost:8080/"
        },
        "outputId": "d6b75871-2a8d-4c59-e927-425c4c5bd959"
      },
      "execution_count": null,
      "outputs": [
        {
          "output_type": "execute_result",
          "data": {
            "text/plain": [
              "(1, 3, 2)"
            ]
          },
          "metadata": {},
          "execution_count": 191
        }
      ]
    },
    {
      "cell_type": "markdown",
      "source": [
        "##### Математика"
      ],
      "metadata": {
        "id": "0zJRI5kVQArp"
      }
    },
    {
      "cell_type": "code",
      "source": [
        "a = np.array([1, 2, 25, 10, -1])\n",
        "np.mean(a), np.min(a), np.max(a), np.sum(a), np.std(a)"
      ],
      "metadata": {
        "id": "NsvLCbDyQCkZ",
        "colab": {
          "base_uri": "https://localhost:8080/"
        },
        "outputId": "96f7009a-6ce9-4c58-c2c1-26833b3d666b"
      },
      "execution_count": null,
      "outputs": [
        {
          "output_type": "execute_result",
          "data": {
            "text/plain": [
              "(7.4, -1, 25, 37, 9.562426470305537)"
            ]
          },
          "metadata": {},
          "execution_count": 199
        }
      ]
    },
    {
      "cell_type": "code",
      "source": [
        "print(np.sin(2), np.exp(2))\n",
        "print(np.sin(a), np.exp(a))"
      ],
      "metadata": {
        "id": "kwSxuXm2QE0w",
        "colab": {
          "base_uri": "https://localhost:8080/"
        },
        "outputId": "801aa485-3755-40bd-cfd4-d3647eb2517f"
      },
      "execution_count": null,
      "outputs": [
        {
          "output_type": "stream",
          "name": "stdout",
          "text": [
            "0.9092974268256817 7.38905609893065\n",
            "[ 0.84147098  0.90929743 -0.13235175 -0.54402111 -0.84147098] [2.71828183e+00 7.38905610e+00 7.20048993e+10 2.20264658e+04\n",
            " 3.67879441e-01]\n"
          ]
        }
      ]
    },
    {
      "cell_type": "code",
      "source": [
        "C = np.array([[-2, -2, 3, 10, 15], [2, -20, 3, 8, 15]])\n",
        "C"
      ],
      "metadata": {
        "colab": {
          "base_uri": "https://localhost:8080/"
        },
        "id": "SPk-eQXsrlUU",
        "outputId": "a4c74b4a-149e-446c-9c2b-c968a5f63520"
      },
      "execution_count": null,
      "outputs": [
        {
          "output_type": "execute_result",
          "data": {
            "text/plain": [
              "array([[ -2,  -2,   3,  10,  15],\n",
              "       [  2, -20,   3,   8,  15]])"
            ]
          },
          "metadata": {},
          "execution_count": 206
        }
      ]
    },
    {
      "cell_type": "code",
      "source": [
        "C.astype(float)"
      ],
      "metadata": {
        "id": "O1qIgYvMMn6d",
        "colab": {
          "base_uri": "https://localhost:8080/"
        },
        "outputId": "6883dde5-2697-4fcd-97a8-04a597321444"
      },
      "execution_count": null,
      "outputs": [
        {
          "output_type": "execute_result",
          "data": {
            "text/plain": [
              "array([[ -2.,  -2.,   7.,  10.,  15.],\n",
              "       [  2., -20.,   3.,   8.,  15.]])"
            ]
          },
          "metadata": {},
          "execution_count": 201
        }
      ]
    },
    {
      "cell_type": "code",
      "source": [
        "(C / 4).astype(int)"
      ],
      "metadata": {
        "id": "TSaNXYskMsPh",
        "colab": {
          "base_uri": "https://localhost:8080/"
        },
        "outputId": "d8a90173-3a7b-47dc-9c93-c49e494f726e"
      },
      "execution_count": null,
      "outputs": [
        {
          "output_type": "execute_result",
          "data": {
            "text/plain": [
              "array([[ 0,  0,  1,  2,  3],\n",
              "       [ 0, -5,  0,  2,  3]])"
            ]
          },
          "metadata": {},
          "execution_count": 202
        }
      ]
    },
    {
      "cell_type": "code",
      "source": [
        "C.T # транспонирование"
      ],
      "metadata": {
        "id": "DaGzroSMMzyo",
        "colab": {
          "base_uri": "https://localhost:8080/"
        },
        "outputId": "252bc552-f57f-4012-ace6-7aa1061e16e3"
      },
      "execution_count": null,
      "outputs": [
        {
          "output_type": "execute_result",
          "data": {
            "text/plain": [
              "array([[ -2,   2],\n",
              "       [ -2, -20],\n",
              "       [  7,   3],\n",
              "       [ 10,   8],\n",
              "       [ 15,  15]])"
            ]
          },
          "metadata": {},
          "execution_count": 203
        }
      ]
    },
    {
      "cell_type": "code",
      "source": [
        "C = np.array([[1, 5], [2, 5]])"
      ],
      "metadata": {
        "id": "p39juj7wNLnr"
      },
      "execution_count": null,
      "outputs": []
    },
    {
      "cell_type": "code",
      "source": [
        "C.min(axis=0)"
      ],
      "metadata": {
        "id": "vP5YJa5uQodY",
        "colab": {
          "base_uri": "https://localhost:8080/"
        },
        "outputId": "25bd11b2-630a-477a-e0b3-05542283f165"
      },
      "execution_count": null,
      "outputs": [
        {
          "output_type": "execute_result",
          "data": {
            "text/plain": [
              "array([ -2, -20,   3,   8,  15])"
            ]
          },
          "metadata": {},
          "execution_count": 207
        }
      ]
    },
    {
      "cell_type": "code",
      "source": [
        "C.min(axis=1)"
      ],
      "metadata": {
        "id": "_GNEQsgCQvPA",
        "colab": {
          "base_uri": "https://localhost:8080/"
        },
        "outputId": "fc770fc7-2980-471f-ca5f-8bdd0585fd9e"
      },
      "execution_count": null,
      "outputs": [
        {
          "output_type": "execute_result",
          "data": {
            "text/plain": [
              "array([ -2, -20])"
            ]
          },
          "metadata": {},
          "execution_count": 208
        }
      ]
    },
    {
      "cell_type": "code",
      "source": [
        "C"
      ],
      "metadata": {
        "colab": {
          "base_uri": "https://localhost:8080/"
        },
        "id": "6_PeJ_YJrwQm",
        "outputId": "ae53680e-4072-44d0-ee8e-522fef2df5eb"
      },
      "execution_count": null,
      "outputs": [
        {
          "output_type": "execute_result",
          "data": {
            "text/plain": [
              "array([[ -2,  -2,   3,  10,  15],\n",
              "       [  2, -20,   3,   8,  15]])"
            ]
          },
          "metadata": {},
          "execution_count": 213
        }
      ]
    },
    {
      "cell_type": "code",
      "source": [
        "np.argmax(C, axis=1)"
      ],
      "metadata": {
        "id": "U1hDNsNjOAM4",
        "colab": {
          "base_uri": "https://localhost:8080/"
        },
        "outputId": "28cb22fd-12c1-4a90-bf05-d77f9f7d84fd"
      },
      "execution_count": null,
      "outputs": [
        {
          "output_type": "execute_result",
          "data": {
            "text/plain": [
              "array([4, 4])"
            ]
          },
          "metadata": {},
          "execution_count": 212
        }
      ]
    },
    {
      "cell_type": "code",
      "source": [
        "np.median([1, 5, 24, 1 , 7]), np.mean([1, 5, 24, 1 , 7]), np.quantile([1, 5, 24, 1 , 7], 0.5)"
      ],
      "metadata": {
        "id": "N5PH0ypqOFeL",
        "colab": {
          "base_uri": "https://localhost:8080/"
        },
        "outputId": "c8e318e0-b493-4ebc-aa9c-10b7f92f3e87"
      },
      "execution_count": null,
      "outputs": [
        {
          "output_type": "execute_result",
          "data": {
            "text/plain": [
              "(5.0, 7.6, 5.0)"
            ]
          },
          "metadata": {},
          "execution_count": 216
        }
      ]
    },
    {
      "cell_type": "code",
      "source": [
        "A = np.array([[1, 2, 3], [2, 1, 0], [2, 1, 2]])\n",
        "B = np.array([[-3, 8, 0.7], [1, 1, 1], [-1, 9, 12]])\n",
        "print('A\\n', A)\n",
        "print('B\\n', B)\n",
        "print('A^T\\n', A.transpose()) # транспонирование\n",
        "print('A * B\\n', A.dot(B), '\\nB * A\\n', B.dot(A)) # умножение матриц\n",
        "print('|A|: ', np.linalg.det(A))\n",
        "print('A^10:\\n', np.linalg.matrix_power(A, 10))"
      ],
      "metadata": {
        "id": "8oW4nhioQLGX",
        "colab": {
          "base_uri": "https://localhost:8080/"
        },
        "outputId": "5005d84f-6d55-42b7-f04c-a304efff6c8d"
      },
      "execution_count": null,
      "outputs": [
        {
          "output_type": "stream",
          "name": "stdout",
          "text": [
            "A\n",
            " [[1 2 3]\n",
            " [2 1 0]\n",
            " [2 1 2]]\n",
            "B\n",
            " [[-3.   8.   0.7]\n",
            " [ 1.   1.   1. ]\n",
            " [-1.   9.  12. ]]\n",
            "A^T\n",
            " [[1 2 2]\n",
            " [2 1 1]\n",
            " [3 0 2]]\n",
            "A * B\n",
            " [[-4.  37.  38.7]\n",
            " [-5.  17.   2.4]\n",
            " [-7.  35.  26.4]] \n",
            "B * A\n",
            " [[14.4  2.7 -7.6]\n",
            " [ 5.   4.   5. ]\n",
            " [41.  19.  21. ]]\n",
            "|A|:  -6.0\n",
            "A^10:\n",
            " [[2601131 2116219 2803749]\n",
            " [1375060 1118813 1482318]\n",
            " [2363272 1922795 2547502]]\n"
          ]
        }
      ]
    },
    {
      "cell_type": "code",
      "source": [],
      "metadata": {
        "id": "4U-vTe6bRD4F"
      },
      "execution_count": null,
      "outputs": []
    },
    {
      "cell_type": "markdown",
      "source": [
        "### Pandas"
      ],
      "metadata": {
        "id": "xA9OgvwbRESG"
      }
    },
    {
      "cell_type": "code",
      "source": [
        "import pandas as pd\n",
        "import numpy as np"
      ],
      "metadata": {
        "id": "B_dh1Ku1RU6t"
      },
      "execution_count": null,
      "outputs": []
    },
    {
      "cell_type": "code",
      "source": [
        "array1 = np.array([1, 2, 3, 4, 5])\n",
        "data1 = pd.Series(array1, index=['a', 'b', 'c', 'd', 'e'])"
      ],
      "metadata": {
        "id": "kc39tlFlSc9Y"
      },
      "execution_count": null,
      "outputs": []
    },
    {
      "cell_type": "code",
      "source": [
        "data1"
      ],
      "metadata": {
        "colab": {
          "base_uri": "https://localhost:8080/",
          "height": 241
        },
        "id": "qQoa5TDYXdhp",
        "outputId": "9df63908-7f69-4565-cb71-9c906267ce9a"
      },
      "execution_count": null,
      "outputs": [
        {
          "output_type": "execute_result",
          "data": {
            "text/plain": [
              "a    1\n",
              "b    2\n",
              "c    3\n",
              "d    4\n",
              "e    5\n",
              "dtype: int64"
            ],
            "text/html": [
              "<div>\n",
              "<style scoped>\n",
              "    .dataframe tbody tr th:only-of-type {\n",
              "        vertical-align: middle;\n",
              "    }\n",
              "\n",
              "    .dataframe tbody tr th {\n",
              "        vertical-align: top;\n",
              "    }\n",
              "\n",
              "    .dataframe thead th {\n",
              "        text-align: right;\n",
              "    }\n",
              "</style>\n",
              "<table border=\"1\" class=\"dataframe\">\n",
              "  <thead>\n",
              "    <tr style=\"text-align: right;\">\n",
              "      <th></th>\n",
              "      <th>0</th>\n",
              "    </tr>\n",
              "  </thead>\n",
              "  <tbody>\n",
              "    <tr>\n",
              "      <th>a</th>\n",
              "      <td>1</td>\n",
              "    </tr>\n",
              "    <tr>\n",
              "      <th>b</th>\n",
              "      <td>2</td>\n",
              "    </tr>\n",
              "    <tr>\n",
              "      <th>c</th>\n",
              "      <td>3</td>\n",
              "    </tr>\n",
              "    <tr>\n",
              "      <th>d</th>\n",
              "      <td>4</td>\n",
              "    </tr>\n",
              "    <tr>\n",
              "      <th>e</th>\n",
              "      <td>5</td>\n",
              "    </tr>\n",
              "  </tbody>\n",
              "</table>\n",
              "</div><br><label><b>dtype:</b> int64</label>"
            ]
          },
          "metadata": {},
          "execution_count": 220
        }
      ]
    },
    {
      "cell_type": "code",
      "source": [
        "data2 = pd.DataFrame([array1], columns=['a', 'b', 'c', 'd', 'e'])\n",
        "data2"
      ],
      "metadata": {
        "colab": {
          "base_uri": "https://localhost:8080/",
          "height": 81
        },
        "id": "NdYWJsOEXhZI",
        "outputId": "a1028a44-14bd-40e4-d79a-43895f683913"
      },
      "execution_count": null,
      "outputs": [
        {
          "output_type": "execute_result",
          "data": {
            "text/plain": [
              "   a  b  c  d  e\n",
              "0  1  2  3  4  5"
            ],
            "text/html": [
              "\n",
              "  <div id=\"df-28c61638-c019-45ec-bf84-29835b986277\" class=\"colab-df-container\">\n",
              "    <div>\n",
              "<style scoped>\n",
              "    .dataframe tbody tr th:only-of-type {\n",
              "        vertical-align: middle;\n",
              "    }\n",
              "\n",
              "    .dataframe tbody tr th {\n",
              "        vertical-align: top;\n",
              "    }\n",
              "\n",
              "    .dataframe thead th {\n",
              "        text-align: right;\n",
              "    }\n",
              "</style>\n",
              "<table border=\"1\" class=\"dataframe\">\n",
              "  <thead>\n",
              "    <tr style=\"text-align: right;\">\n",
              "      <th></th>\n",
              "      <th>a</th>\n",
              "      <th>b</th>\n",
              "      <th>c</th>\n",
              "      <th>d</th>\n",
              "      <th>e</th>\n",
              "    </tr>\n",
              "  </thead>\n",
              "  <tbody>\n",
              "    <tr>\n",
              "      <th>0</th>\n",
              "      <td>1</td>\n",
              "      <td>2</td>\n",
              "      <td>3</td>\n",
              "      <td>4</td>\n",
              "      <td>5</td>\n",
              "    </tr>\n",
              "  </tbody>\n",
              "</table>\n",
              "</div>\n",
              "    <div class=\"colab-df-buttons\">\n",
              "\n",
              "  <div class=\"colab-df-container\">\n",
              "    <button class=\"colab-df-convert\" onclick=\"convertToInteractive('df-28c61638-c019-45ec-bf84-29835b986277')\"\n",
              "            title=\"Convert this dataframe to an interactive table.\"\n",
              "            style=\"display:none;\">\n",
              "\n",
              "  <svg xmlns=\"http://www.w3.org/2000/svg\" height=\"24px\" viewBox=\"0 -960 960 960\">\n",
              "    <path d=\"M120-120v-720h720v720H120Zm60-500h600v-160H180v160Zm220 220h160v-160H400v160Zm0 220h160v-160H400v160ZM180-400h160v-160H180v160Zm440 0h160v-160H620v160ZM180-180h160v-160H180v160Zm440 0h160v-160H620v160Z\"/>\n",
              "  </svg>\n",
              "    </button>\n",
              "\n",
              "  <style>\n",
              "    .colab-df-container {\n",
              "      display:flex;\n",
              "      gap: 12px;\n",
              "    }\n",
              "\n",
              "    .colab-df-convert {\n",
              "      background-color: #E8F0FE;\n",
              "      border: none;\n",
              "      border-radius: 50%;\n",
              "      cursor: pointer;\n",
              "      display: none;\n",
              "      fill: #1967D2;\n",
              "      height: 32px;\n",
              "      padding: 0 0 0 0;\n",
              "      width: 32px;\n",
              "    }\n",
              "\n",
              "    .colab-df-convert:hover {\n",
              "      background-color: #E2EBFA;\n",
              "      box-shadow: 0px 1px 2px rgba(60, 64, 67, 0.3), 0px 1px 3px 1px rgba(60, 64, 67, 0.15);\n",
              "      fill: #174EA6;\n",
              "    }\n",
              "\n",
              "    .colab-df-buttons div {\n",
              "      margin-bottom: 4px;\n",
              "    }\n",
              "\n",
              "    [theme=dark] .colab-df-convert {\n",
              "      background-color: #3B4455;\n",
              "      fill: #D2E3FC;\n",
              "    }\n",
              "\n",
              "    [theme=dark] .colab-df-convert:hover {\n",
              "      background-color: #434B5C;\n",
              "      box-shadow: 0px 1px 3px 1px rgba(0, 0, 0, 0.15);\n",
              "      filter: drop-shadow(0px 1px 2px rgba(0, 0, 0, 0.3));\n",
              "      fill: #FFFFFF;\n",
              "    }\n",
              "  </style>\n",
              "\n",
              "    <script>\n",
              "      const buttonEl =\n",
              "        document.querySelector('#df-28c61638-c019-45ec-bf84-29835b986277 button.colab-df-convert');\n",
              "      buttonEl.style.display =\n",
              "        google.colab.kernel.accessAllowed ? 'block' : 'none';\n",
              "\n",
              "      async function convertToInteractive(key) {\n",
              "        const element = document.querySelector('#df-28c61638-c019-45ec-bf84-29835b986277');\n",
              "        const dataTable =\n",
              "          await google.colab.kernel.invokeFunction('convertToInteractive',\n",
              "                                                    [key], {});\n",
              "        if (!dataTable) return;\n",
              "\n",
              "        const docLinkHtml = 'Like what you see? Visit the ' +\n",
              "          '<a target=\"_blank\" href=https://colab.research.google.com/notebooks/data_table.ipynb>data table notebook</a>'\n",
              "          + ' to learn more about interactive tables.';\n",
              "        element.innerHTML = '';\n",
              "        dataTable['output_type'] = 'display_data';\n",
              "        await google.colab.output.renderOutput(dataTable, element);\n",
              "        const docLink = document.createElement('div');\n",
              "        docLink.innerHTML = docLinkHtml;\n",
              "        element.appendChild(docLink);\n",
              "      }\n",
              "    </script>\n",
              "  </div>\n",
              "\n",
              "    </div>\n",
              "  </div>\n"
            ],
            "application/vnd.google.colaboratory.intrinsic+json": {
              "type": "dataframe",
              "variable_name": "data2",
              "summary": "{\n  \"name\": \"data2\",\n  \"rows\": 1,\n  \"fields\": [\n    {\n      \"column\": \"a\",\n      \"properties\": {\n        \"dtype\": \"number\",\n        \"std\": null,\n        \"min\": 1,\n        \"max\": 1,\n        \"num_unique_values\": 1,\n        \"samples\": [\n          1\n        ],\n        \"semantic_type\": \"\",\n        \"description\": \"\"\n      }\n    },\n    {\n      \"column\": \"b\",\n      \"properties\": {\n        \"dtype\": \"number\",\n        \"std\": null,\n        \"min\": 2,\n        \"max\": 2,\n        \"num_unique_values\": 1,\n        \"samples\": [\n          2\n        ],\n        \"semantic_type\": \"\",\n        \"description\": \"\"\n      }\n    },\n    {\n      \"column\": \"c\",\n      \"properties\": {\n        \"dtype\": \"number\",\n        \"std\": null,\n        \"min\": 3,\n        \"max\": 3,\n        \"num_unique_values\": 1,\n        \"samples\": [\n          3\n        ],\n        \"semantic_type\": \"\",\n        \"description\": \"\"\n      }\n    },\n    {\n      \"column\": \"d\",\n      \"properties\": {\n        \"dtype\": \"number\",\n        \"std\": null,\n        \"min\": 4,\n        \"max\": 4,\n        \"num_unique_values\": 1,\n        \"samples\": [\n          4\n        ],\n        \"semantic_type\": \"\",\n        \"description\": \"\"\n      }\n    },\n    {\n      \"column\": \"e\",\n      \"properties\": {\n        \"dtype\": \"number\",\n        \"std\": null,\n        \"min\": 5,\n        \"max\": 5,\n        \"num_unique_values\": 1,\n        \"samples\": [\n          5\n        ],\n        \"semantic_type\": \"\",\n        \"description\": \"\"\n      }\n    }\n  ]\n}"
            }
          },
          "metadata": {},
          "execution_count": 223
        }
      ]
    },
    {
      "cell_type": "code",
      "source": [
        "df = pd.read_csv('https://raw.githubusercontent.com/arl20/python_2024_AI/refs/heads/main/datasets/flats.csv')"
      ],
      "metadata": {
        "id": "cCKl4ZxFL8VX"
      },
      "execution_count": null,
      "outputs": []
    },
    {
      "cell_type": "code",
      "source": [
        "df.shape"
      ],
      "metadata": {
        "colab": {
          "base_uri": "https://localhost:8080/"
        },
        "id": "TR0_dofgU7Ff",
        "outputId": "c2b80d9d-c266-443a-b184-f1d78b54de79"
      },
      "execution_count": null,
      "outputs": [
        {
          "output_type": "execute_result",
          "data": {
            "text/plain": [
              "(22676, 12)"
            ]
          },
          "metadata": {},
          "execution_count": 225
        }
      ]
    },
    {
      "cell_type": "code",
      "source": [
        "df.head() # первые 5 строк"
      ],
      "metadata": {
        "colab": {
          "base_uri": "https://localhost:8080/",
          "height": 206
        },
        "id": "WsT2E4vFQsqP",
        "outputId": "574d77ee-1260-4f67-e66e-d2b06485dfcb"
      },
      "execution_count": null,
      "outputs": [
        {
          "output_type": "execute_result",
          "data": {
            "text/plain": [
              "        Price Apartment type Metro station  Minutes to metro         Region  \\\n",
              "0   6300000.0      Secondary       Опалиха               6.0  Moscow region   \n",
              "1   9000000.0      Secondary       Павшино               2.0  Moscow region   \n",
              "2  11090000.0      Secondary      Мякинино              14.0  Moscow region   \n",
              "3   8300000.0      Secondary      Строгино               8.0  Moscow region   \n",
              "4   6450000.0      Secondary       Опалиха               6.0  Moscow region   \n",
              "\n",
              "   Number of rooms  Area  Living area  Kitchen area  Floor  Number of floors  \\\n",
              "0              1.0  30.6         11.1           8.5   25.0                25   \n",
              "1              1.0  49.2         20.0          10.0    6.0                15   \n",
              "2              1.0  44.7         16.2          13.1   10.0                25   \n",
              "3              1.0  35.1         16.0          11.0   12.0                33   \n",
              "4              1.0  37.7         15.2           4.0    5.0                 5   \n",
              "\n",
              "                  Renovation  \n",
              "0                   Cosmetic  \n",
              "1  European-style renovation  \n",
              "2                   Cosmetic  \n",
              "3  European-style renovation  \n",
              "4         Without renovation  "
            ],
            "text/html": [
              "\n",
              "  <div id=\"df-4ed5bc7c-25fe-4955-9133-6c2d05304a79\" class=\"colab-df-container\">\n",
              "    <div>\n",
              "<style scoped>\n",
              "    .dataframe tbody tr th:only-of-type {\n",
              "        vertical-align: middle;\n",
              "    }\n",
              "\n",
              "    .dataframe tbody tr th {\n",
              "        vertical-align: top;\n",
              "    }\n",
              "\n",
              "    .dataframe thead th {\n",
              "        text-align: right;\n",
              "    }\n",
              "</style>\n",
              "<table border=\"1\" class=\"dataframe\">\n",
              "  <thead>\n",
              "    <tr style=\"text-align: right;\">\n",
              "      <th></th>\n",
              "      <th>Price</th>\n",
              "      <th>Apartment type</th>\n",
              "      <th>Metro station</th>\n",
              "      <th>Minutes to metro</th>\n",
              "      <th>Region</th>\n",
              "      <th>Number of rooms</th>\n",
              "      <th>Area</th>\n",
              "      <th>Living area</th>\n",
              "      <th>Kitchen area</th>\n",
              "      <th>Floor</th>\n",
              "      <th>Number of floors</th>\n",
              "      <th>Renovation</th>\n",
              "    </tr>\n",
              "  </thead>\n",
              "  <tbody>\n",
              "    <tr>\n",
              "      <th>0</th>\n",
              "      <td>6300000.0</td>\n",
              "      <td>Secondary</td>\n",
              "      <td>Опалиха</td>\n",
              "      <td>6.0</td>\n",
              "      <td>Moscow region</td>\n",
              "      <td>1.0</td>\n",
              "      <td>30.6</td>\n",
              "      <td>11.1</td>\n",
              "      <td>8.5</td>\n",
              "      <td>25.0</td>\n",
              "      <td>25</td>\n",
              "      <td>Cosmetic</td>\n",
              "    </tr>\n",
              "    <tr>\n",
              "      <th>1</th>\n",
              "      <td>9000000.0</td>\n",
              "      <td>Secondary</td>\n",
              "      <td>Павшино</td>\n",
              "      <td>2.0</td>\n",
              "      <td>Moscow region</td>\n",
              "      <td>1.0</td>\n",
              "      <td>49.2</td>\n",
              "      <td>20.0</td>\n",
              "      <td>10.0</td>\n",
              "      <td>6.0</td>\n",
              "      <td>15</td>\n",
              "      <td>European-style renovation</td>\n",
              "    </tr>\n",
              "    <tr>\n",
              "      <th>2</th>\n",
              "      <td>11090000.0</td>\n",
              "      <td>Secondary</td>\n",
              "      <td>Мякинино</td>\n",
              "      <td>14.0</td>\n",
              "      <td>Moscow region</td>\n",
              "      <td>1.0</td>\n",
              "      <td>44.7</td>\n",
              "      <td>16.2</td>\n",
              "      <td>13.1</td>\n",
              "      <td>10.0</td>\n",
              "      <td>25</td>\n",
              "      <td>Cosmetic</td>\n",
              "    </tr>\n",
              "    <tr>\n",
              "      <th>3</th>\n",
              "      <td>8300000.0</td>\n",
              "      <td>Secondary</td>\n",
              "      <td>Строгино</td>\n",
              "      <td>8.0</td>\n",
              "      <td>Moscow region</td>\n",
              "      <td>1.0</td>\n",
              "      <td>35.1</td>\n",
              "      <td>16.0</td>\n",
              "      <td>11.0</td>\n",
              "      <td>12.0</td>\n",
              "      <td>33</td>\n",
              "      <td>European-style renovation</td>\n",
              "    </tr>\n",
              "    <tr>\n",
              "      <th>4</th>\n",
              "      <td>6450000.0</td>\n",
              "      <td>Secondary</td>\n",
              "      <td>Опалиха</td>\n",
              "      <td>6.0</td>\n",
              "      <td>Moscow region</td>\n",
              "      <td>1.0</td>\n",
              "      <td>37.7</td>\n",
              "      <td>15.2</td>\n",
              "      <td>4.0</td>\n",
              "      <td>5.0</td>\n",
              "      <td>5</td>\n",
              "      <td>Without renovation</td>\n",
              "    </tr>\n",
              "  </tbody>\n",
              "</table>\n",
              "</div>\n",
              "    <div class=\"colab-df-buttons\">\n",
              "\n",
              "  <div class=\"colab-df-container\">\n",
              "    <button class=\"colab-df-convert\" onclick=\"convertToInteractive('df-4ed5bc7c-25fe-4955-9133-6c2d05304a79')\"\n",
              "            title=\"Convert this dataframe to an interactive table.\"\n",
              "            style=\"display:none;\">\n",
              "\n",
              "  <svg xmlns=\"http://www.w3.org/2000/svg\" height=\"24px\" viewBox=\"0 -960 960 960\">\n",
              "    <path d=\"M120-120v-720h720v720H120Zm60-500h600v-160H180v160Zm220 220h160v-160H400v160Zm0 220h160v-160H400v160ZM180-400h160v-160H180v160Zm440 0h160v-160H620v160ZM180-180h160v-160H180v160Zm440 0h160v-160H620v160Z\"/>\n",
              "  </svg>\n",
              "    </button>\n",
              "\n",
              "  <style>\n",
              "    .colab-df-container {\n",
              "      display:flex;\n",
              "      gap: 12px;\n",
              "    }\n",
              "\n",
              "    .colab-df-convert {\n",
              "      background-color: #E8F0FE;\n",
              "      border: none;\n",
              "      border-radius: 50%;\n",
              "      cursor: pointer;\n",
              "      display: none;\n",
              "      fill: #1967D2;\n",
              "      height: 32px;\n",
              "      padding: 0 0 0 0;\n",
              "      width: 32px;\n",
              "    }\n",
              "\n",
              "    .colab-df-convert:hover {\n",
              "      background-color: #E2EBFA;\n",
              "      box-shadow: 0px 1px 2px rgba(60, 64, 67, 0.3), 0px 1px 3px 1px rgba(60, 64, 67, 0.15);\n",
              "      fill: #174EA6;\n",
              "    }\n",
              "\n",
              "    .colab-df-buttons div {\n",
              "      margin-bottom: 4px;\n",
              "    }\n",
              "\n",
              "    [theme=dark] .colab-df-convert {\n",
              "      background-color: #3B4455;\n",
              "      fill: #D2E3FC;\n",
              "    }\n",
              "\n",
              "    [theme=dark] .colab-df-convert:hover {\n",
              "      background-color: #434B5C;\n",
              "      box-shadow: 0px 1px 3px 1px rgba(0, 0, 0, 0.15);\n",
              "      filter: drop-shadow(0px 1px 2px rgba(0, 0, 0, 0.3));\n",
              "      fill: #FFFFFF;\n",
              "    }\n",
              "  </style>\n",
              "\n",
              "    <script>\n",
              "      const buttonEl =\n",
              "        document.querySelector('#df-4ed5bc7c-25fe-4955-9133-6c2d05304a79 button.colab-df-convert');\n",
              "      buttonEl.style.display =\n",
              "        google.colab.kernel.accessAllowed ? 'block' : 'none';\n",
              "\n",
              "      async function convertToInteractive(key) {\n",
              "        const element = document.querySelector('#df-4ed5bc7c-25fe-4955-9133-6c2d05304a79');\n",
              "        const dataTable =\n",
              "          await google.colab.kernel.invokeFunction('convertToInteractive',\n",
              "                                                    [key], {});\n",
              "        if (!dataTable) return;\n",
              "\n",
              "        const docLinkHtml = 'Like what you see? Visit the ' +\n",
              "          '<a target=\"_blank\" href=https://colab.research.google.com/notebooks/data_table.ipynb>data table notebook</a>'\n",
              "          + ' to learn more about interactive tables.';\n",
              "        element.innerHTML = '';\n",
              "        dataTable['output_type'] = 'display_data';\n",
              "        await google.colab.output.renderOutput(dataTable, element);\n",
              "        const docLink = document.createElement('div');\n",
              "        docLink.innerHTML = docLinkHtml;\n",
              "        element.appendChild(docLink);\n",
              "      }\n",
              "    </script>\n",
              "  </div>\n",
              "\n",
              "\n",
              "<div id=\"df-34060372-2957-4870-9c59-648d01ca7a24\">\n",
              "  <button class=\"colab-df-quickchart\" onclick=\"quickchart('df-34060372-2957-4870-9c59-648d01ca7a24')\"\n",
              "            title=\"Suggest charts\"\n",
              "            style=\"display:none;\">\n",
              "\n",
              "<svg xmlns=\"http://www.w3.org/2000/svg\" height=\"24px\"viewBox=\"0 0 24 24\"\n",
              "     width=\"24px\">\n",
              "    <g>\n",
              "        <path d=\"M19 3H5c-1.1 0-2 .9-2 2v14c0 1.1.9 2 2 2h14c1.1 0 2-.9 2-2V5c0-1.1-.9-2-2-2zM9 17H7v-7h2v7zm4 0h-2V7h2v10zm4 0h-2v-4h2v4z\"/>\n",
              "    </g>\n",
              "</svg>\n",
              "  </button>\n",
              "\n",
              "<style>\n",
              "  .colab-df-quickchart {\n",
              "      --bg-color: #E8F0FE;\n",
              "      --fill-color: #1967D2;\n",
              "      --hover-bg-color: #E2EBFA;\n",
              "      --hover-fill-color: #174EA6;\n",
              "      --disabled-fill-color: #AAA;\n",
              "      --disabled-bg-color: #DDD;\n",
              "  }\n",
              "\n",
              "  [theme=dark] .colab-df-quickchart {\n",
              "      --bg-color: #3B4455;\n",
              "      --fill-color: #D2E3FC;\n",
              "      --hover-bg-color: #434B5C;\n",
              "      --hover-fill-color: #FFFFFF;\n",
              "      --disabled-bg-color: #3B4455;\n",
              "      --disabled-fill-color: #666;\n",
              "  }\n",
              "\n",
              "  .colab-df-quickchart {\n",
              "    background-color: var(--bg-color);\n",
              "    border: none;\n",
              "    border-radius: 50%;\n",
              "    cursor: pointer;\n",
              "    display: none;\n",
              "    fill: var(--fill-color);\n",
              "    height: 32px;\n",
              "    padding: 0;\n",
              "    width: 32px;\n",
              "  }\n",
              "\n",
              "  .colab-df-quickchart:hover {\n",
              "    background-color: var(--hover-bg-color);\n",
              "    box-shadow: 0 1px 2px rgba(60, 64, 67, 0.3), 0 1px 3px 1px rgba(60, 64, 67, 0.15);\n",
              "    fill: var(--button-hover-fill-color);\n",
              "  }\n",
              "\n",
              "  .colab-df-quickchart-complete:disabled,\n",
              "  .colab-df-quickchart-complete:disabled:hover {\n",
              "    background-color: var(--disabled-bg-color);\n",
              "    fill: var(--disabled-fill-color);\n",
              "    box-shadow: none;\n",
              "  }\n",
              "\n",
              "  .colab-df-spinner {\n",
              "    border: 2px solid var(--fill-color);\n",
              "    border-color: transparent;\n",
              "    border-bottom-color: var(--fill-color);\n",
              "    animation:\n",
              "      spin 1s steps(1) infinite;\n",
              "  }\n",
              "\n",
              "  @keyframes spin {\n",
              "    0% {\n",
              "      border-color: transparent;\n",
              "      border-bottom-color: var(--fill-color);\n",
              "      border-left-color: var(--fill-color);\n",
              "    }\n",
              "    20% {\n",
              "      border-color: transparent;\n",
              "      border-left-color: var(--fill-color);\n",
              "      border-top-color: var(--fill-color);\n",
              "    }\n",
              "    30% {\n",
              "      border-color: transparent;\n",
              "      border-left-color: var(--fill-color);\n",
              "      border-top-color: var(--fill-color);\n",
              "      border-right-color: var(--fill-color);\n",
              "    }\n",
              "    40% {\n",
              "      border-color: transparent;\n",
              "      border-right-color: var(--fill-color);\n",
              "      border-top-color: var(--fill-color);\n",
              "    }\n",
              "    60% {\n",
              "      border-color: transparent;\n",
              "      border-right-color: var(--fill-color);\n",
              "    }\n",
              "    80% {\n",
              "      border-color: transparent;\n",
              "      border-right-color: var(--fill-color);\n",
              "      border-bottom-color: var(--fill-color);\n",
              "    }\n",
              "    90% {\n",
              "      border-color: transparent;\n",
              "      border-bottom-color: var(--fill-color);\n",
              "    }\n",
              "  }\n",
              "</style>\n",
              "\n",
              "  <script>\n",
              "    async function quickchart(key) {\n",
              "      const quickchartButtonEl =\n",
              "        document.querySelector('#' + key + ' button');\n",
              "      quickchartButtonEl.disabled = true;  // To prevent multiple clicks.\n",
              "      quickchartButtonEl.classList.add('colab-df-spinner');\n",
              "      try {\n",
              "        const charts = await google.colab.kernel.invokeFunction(\n",
              "            'suggestCharts', [key], {});\n",
              "      } catch (error) {\n",
              "        console.error('Error during call to suggestCharts:', error);\n",
              "      }\n",
              "      quickchartButtonEl.classList.remove('colab-df-spinner');\n",
              "      quickchartButtonEl.classList.add('colab-df-quickchart-complete');\n",
              "    }\n",
              "    (() => {\n",
              "      let quickchartButtonEl =\n",
              "        document.querySelector('#df-34060372-2957-4870-9c59-648d01ca7a24 button');\n",
              "      quickchartButtonEl.style.display =\n",
              "        google.colab.kernel.accessAllowed ? 'block' : 'none';\n",
              "    })();\n",
              "  </script>\n",
              "</div>\n",
              "    </div>\n",
              "  </div>\n"
            ],
            "application/vnd.google.colaboratory.intrinsic+json": {
              "type": "dataframe",
              "variable_name": "df",
              "summary": "{\n  \"name\": \"df\",\n  \"rows\": 22676,\n  \"fields\": [\n    {\n      \"column\": \"Price\",\n      \"properties\": {\n        \"dtype\": \"number\",\n        \"std\": 82825614.1756103,\n        \"min\": 1150000.0,\n        \"max\": 2455020000.0,\n        \"num_unique_values\": 9979,\n        \"samples\": [\n          10135683.0,\n          2856844.0,\n          97190760.0\n        ],\n        \"semantic_type\": \"\",\n        \"description\": \"\"\n      }\n    },\n    {\n      \"column\": \"Apartment type\",\n      \"properties\": {\n        \"dtype\": \"category\",\n        \"num_unique_values\": 2,\n        \"samples\": [\n          \"New building\",\n          \"Secondary\"\n        ],\n        \"semantic_type\": \"\",\n        \"description\": \"\"\n      }\n    },\n    {\n      \"column\": \"Metro station\",\n      \"properties\": {\n        \"dtype\": \"category\",\n        \"num_unique_values\": 547,\n        \"samples\": [\n          \" \\u0422\\u0440\\u043e\\u043f\\u0430\\u0440\\u0451\\u0432\\u043e\",\n          \" \\u0411\\u043e\\u0442\\u0430\\u043d\\u0438\\u0447\\u0435\\u0441\\u043a\\u0438\\u0439 \\u0441\\u0430\\u0434\"\n        ],\n        \"semantic_type\": \"\",\n        \"description\": \"\"\n      }\n    },\n    {\n      \"column\": \"Minutes to metro\",\n      \"properties\": {\n        \"dtype\": \"number\",\n        \"std\": 6.204456965622073,\n        \"min\": 0.0,\n        \"max\": 60.0,\n        \"num_unique_values\": 56,\n        \"samples\": [\n          6.0,\n          27.0\n        ],\n        \"semantic_type\": \"\",\n        \"description\": \"\"\n      }\n    },\n    {\n      \"column\": \"Region\",\n      \"properties\": {\n        \"dtype\": \"category\",\n        \"num_unique_values\": 2,\n        \"samples\": [\n          \"Moscow\",\n          \"Moscow region\"\n        ],\n        \"semantic_type\": \"\",\n        \"description\": \"\"\n      }\n    },\n    {\n      \"column\": \"Number of rooms\",\n      \"properties\": {\n        \"dtype\": \"number\",\n        \"std\": 1.5235862577058266,\n        \"min\": 0.0,\n        \"max\": 12.0,\n        \"num_unique_values\": 12,\n        \"samples\": [\n          12.0,\n          9.0\n        ],\n        \"semantic_type\": \"\",\n        \"description\": \"\"\n      }\n    },\n    {\n      \"column\": \"Area\",\n      \"properties\": {\n        \"dtype\": \"number\",\n        \"std\": 68.36860845335453,\n        \"min\": 6.0,\n        \"max\": 1117.0,\n        \"num_unique_values\": 3017,\n        \"samples\": [\n          126.2,\n          116.85\n        ],\n        \"semantic_type\": \"\",\n        \"description\": \"\"\n      }\n    },\n    {\n      \"column\": \"Living area\",\n      \"properties\": {\n        \"dtype\": \"number\",\n        \"std\": 38.12427814350796,\n        \"min\": 2.0,\n        \"max\": 566.8,\n        \"num_unique_values\": 1302,\n        \"samples\": [\n          28.5,\n          44.0\n        ],\n        \"semantic_type\": \"\",\n        \"description\": \"\"\n      }\n    },\n    {\n      \"column\": \"Kitchen area\",\n      \"properties\": {\n        \"dtype\": \"number\",\n        \"std\": 7.728074411063643,\n        \"min\": 1.0,\n        \"max\": 122.0,\n        \"num_unique_values\": 481,\n        \"samples\": [\n          23.0,\n          32.7\n        ],\n        \"semantic_type\": \"\",\n        \"description\": \"\"\n      }\n    },\n    {\n      \"column\": \"Floor\",\n      \"properties\": {\n        \"dtype\": \"number\",\n        \"std\": 7.549996177433723,\n        \"min\": 1.0,\n        \"max\": 92.0,\n        \"num_unique_values\": 72,\n        \"samples\": [\n          5.0,\n          43.0\n        ],\n        \"semantic_type\": \"\",\n        \"description\": \"\"\n      }\n    },\n    {\n      \"column\": \"Number of floors\",\n      \"properties\": {\n        \"dtype\": \"number\",\n        \"std\": 9,\n        \"min\": 1,\n        \"max\": 97,\n        \"num_unique_values\": 83,\n        \"samples\": [\n          27,\n          25\n        ],\n        \"semantic_type\": \"\",\n        \"description\": \"\"\n      }\n    },\n    {\n      \"column\": \"Renovation\",\n      \"properties\": {\n        \"dtype\": \"category\",\n        \"num_unique_values\": 4,\n        \"samples\": [\n          \"European-style renovation\",\n          \"Designer\"\n        ],\n        \"semantic_type\": \"\",\n        \"description\": \"\"\n      }\n    }\n  ]\n}"
            }
          },
          "metadata": {},
          "execution_count": 226
        }
      ]
    },
    {
      "cell_type": "code",
      "source": [
        "df.tail()"
      ],
      "metadata": {
        "colab": {
          "base_uri": "https://localhost:8080/",
          "height": 206
        },
        "id": "3OEIPnGUT5BK",
        "outputId": "34fd1c29-84cc-4bbd-9c81-38a9b3427fc5"
      },
      "execution_count": null,
      "outputs": [
        {
          "output_type": "execute_result",
          "data": {
            "text/plain": [
              "           Price Apartment type  Metro station  Minutes to metro  \\\n",
              "22671  4768792.0   New building     Котельники               8.0   \n",
              "22672  5900000.0   New building  Домодедовская              25.0   \n",
              "22673  3700000.0   New building     Котельники              30.0   \n",
              "22674  5768869.0   New building       Жулебино              14.0   \n",
              "22675  6839157.0   New building     Котельники               8.0   \n",
              "\n",
              "              Region  Number of rooms   Area  Living area  Kitchen area  \\\n",
              "22671  Moscow region              0.0  31.75         13.0           5.0   \n",
              "22672  Moscow region              1.0  31.60         10.1          12.2   \n",
              "22673  Moscow region              0.0  18.00         15.0           8.1   \n",
              "22674  Moscow region              2.0  36.39         22.0           6.6   \n",
              "22675  Moscow region              2.0  56.13         32.0           5.0   \n",
              "\n",
              "       Floor  Number of floors Renovation  \n",
              "22671    4.0                17   Cosmetic  \n",
              "22672   11.0                15   Cosmetic  \n",
              "22673   17.0                17   Cosmetic  \n",
              "22674   12.0                14   Cosmetic  \n",
              "22675   10.0                17   Cosmetic  "
            ],
            "text/html": [
              "\n",
              "  <div id=\"df-05bef936-2334-4c87-91b6-5e4190809996\" class=\"colab-df-container\">\n",
              "    <div>\n",
              "<style scoped>\n",
              "    .dataframe tbody tr th:only-of-type {\n",
              "        vertical-align: middle;\n",
              "    }\n",
              "\n",
              "    .dataframe tbody tr th {\n",
              "        vertical-align: top;\n",
              "    }\n",
              "\n",
              "    .dataframe thead th {\n",
              "        text-align: right;\n",
              "    }\n",
              "</style>\n",
              "<table border=\"1\" class=\"dataframe\">\n",
              "  <thead>\n",
              "    <tr style=\"text-align: right;\">\n",
              "      <th></th>\n",
              "      <th>Price</th>\n",
              "      <th>Apartment type</th>\n",
              "      <th>Metro station</th>\n",
              "      <th>Minutes to metro</th>\n",
              "      <th>Region</th>\n",
              "      <th>Number of rooms</th>\n",
              "      <th>Area</th>\n",
              "      <th>Living area</th>\n",
              "      <th>Kitchen area</th>\n",
              "      <th>Floor</th>\n",
              "      <th>Number of floors</th>\n",
              "      <th>Renovation</th>\n",
              "    </tr>\n",
              "  </thead>\n",
              "  <tbody>\n",
              "    <tr>\n",
              "      <th>22671</th>\n",
              "      <td>4768792.0</td>\n",
              "      <td>New building</td>\n",
              "      <td>Котельники</td>\n",
              "      <td>8.0</td>\n",
              "      <td>Moscow region</td>\n",
              "      <td>0.0</td>\n",
              "      <td>31.75</td>\n",
              "      <td>13.0</td>\n",
              "      <td>5.0</td>\n",
              "      <td>4.0</td>\n",
              "      <td>17</td>\n",
              "      <td>Cosmetic</td>\n",
              "    </tr>\n",
              "    <tr>\n",
              "      <th>22672</th>\n",
              "      <td>5900000.0</td>\n",
              "      <td>New building</td>\n",
              "      <td>Домодедовская</td>\n",
              "      <td>25.0</td>\n",
              "      <td>Moscow region</td>\n",
              "      <td>1.0</td>\n",
              "      <td>31.60</td>\n",
              "      <td>10.1</td>\n",
              "      <td>12.2</td>\n",
              "      <td>11.0</td>\n",
              "      <td>15</td>\n",
              "      <td>Cosmetic</td>\n",
              "    </tr>\n",
              "    <tr>\n",
              "      <th>22673</th>\n",
              "      <td>3700000.0</td>\n",
              "      <td>New building</td>\n",
              "      <td>Котельники</td>\n",
              "      <td>30.0</td>\n",
              "      <td>Moscow region</td>\n",
              "      <td>0.0</td>\n",
              "      <td>18.00</td>\n",
              "      <td>15.0</td>\n",
              "      <td>8.1</td>\n",
              "      <td>17.0</td>\n",
              "      <td>17</td>\n",
              "      <td>Cosmetic</td>\n",
              "    </tr>\n",
              "    <tr>\n",
              "      <th>22674</th>\n",
              "      <td>5768869.0</td>\n",
              "      <td>New building</td>\n",
              "      <td>Жулебино</td>\n",
              "      <td>14.0</td>\n",
              "      <td>Moscow region</td>\n",
              "      <td>2.0</td>\n",
              "      <td>36.39</td>\n",
              "      <td>22.0</td>\n",
              "      <td>6.6</td>\n",
              "      <td>12.0</td>\n",
              "      <td>14</td>\n",
              "      <td>Cosmetic</td>\n",
              "    </tr>\n",
              "    <tr>\n",
              "      <th>22675</th>\n",
              "      <td>6839157.0</td>\n",
              "      <td>New building</td>\n",
              "      <td>Котельники</td>\n",
              "      <td>8.0</td>\n",
              "      <td>Moscow region</td>\n",
              "      <td>2.0</td>\n",
              "      <td>56.13</td>\n",
              "      <td>32.0</td>\n",
              "      <td>5.0</td>\n",
              "      <td>10.0</td>\n",
              "      <td>17</td>\n",
              "      <td>Cosmetic</td>\n",
              "    </tr>\n",
              "  </tbody>\n",
              "</table>\n",
              "</div>\n",
              "    <div class=\"colab-df-buttons\">\n",
              "\n",
              "  <div class=\"colab-df-container\">\n",
              "    <button class=\"colab-df-convert\" onclick=\"convertToInteractive('df-05bef936-2334-4c87-91b6-5e4190809996')\"\n",
              "            title=\"Convert this dataframe to an interactive table.\"\n",
              "            style=\"display:none;\">\n",
              "\n",
              "  <svg xmlns=\"http://www.w3.org/2000/svg\" height=\"24px\" viewBox=\"0 -960 960 960\">\n",
              "    <path d=\"M120-120v-720h720v720H120Zm60-500h600v-160H180v160Zm220 220h160v-160H400v160Zm0 220h160v-160H400v160ZM180-400h160v-160H180v160Zm440 0h160v-160H620v160ZM180-180h160v-160H180v160Zm440 0h160v-160H620v160Z\"/>\n",
              "  </svg>\n",
              "    </button>\n",
              "\n",
              "  <style>\n",
              "    .colab-df-container {\n",
              "      display:flex;\n",
              "      gap: 12px;\n",
              "    }\n",
              "\n",
              "    .colab-df-convert {\n",
              "      background-color: #E8F0FE;\n",
              "      border: none;\n",
              "      border-radius: 50%;\n",
              "      cursor: pointer;\n",
              "      display: none;\n",
              "      fill: #1967D2;\n",
              "      height: 32px;\n",
              "      padding: 0 0 0 0;\n",
              "      width: 32px;\n",
              "    }\n",
              "\n",
              "    .colab-df-convert:hover {\n",
              "      background-color: #E2EBFA;\n",
              "      box-shadow: 0px 1px 2px rgba(60, 64, 67, 0.3), 0px 1px 3px 1px rgba(60, 64, 67, 0.15);\n",
              "      fill: #174EA6;\n",
              "    }\n",
              "\n",
              "    .colab-df-buttons div {\n",
              "      margin-bottom: 4px;\n",
              "    }\n",
              "\n",
              "    [theme=dark] .colab-df-convert {\n",
              "      background-color: #3B4455;\n",
              "      fill: #D2E3FC;\n",
              "    }\n",
              "\n",
              "    [theme=dark] .colab-df-convert:hover {\n",
              "      background-color: #434B5C;\n",
              "      box-shadow: 0px 1px 3px 1px rgba(0, 0, 0, 0.15);\n",
              "      filter: drop-shadow(0px 1px 2px rgba(0, 0, 0, 0.3));\n",
              "      fill: #FFFFFF;\n",
              "    }\n",
              "  </style>\n",
              "\n",
              "    <script>\n",
              "      const buttonEl =\n",
              "        document.querySelector('#df-05bef936-2334-4c87-91b6-5e4190809996 button.colab-df-convert');\n",
              "      buttonEl.style.display =\n",
              "        google.colab.kernel.accessAllowed ? 'block' : 'none';\n",
              "\n",
              "      async function convertToInteractive(key) {\n",
              "        const element = document.querySelector('#df-05bef936-2334-4c87-91b6-5e4190809996');\n",
              "        const dataTable =\n",
              "          await google.colab.kernel.invokeFunction('convertToInteractive',\n",
              "                                                    [key], {});\n",
              "        if (!dataTable) return;\n",
              "\n",
              "        const docLinkHtml = 'Like what you see? Visit the ' +\n",
              "          '<a target=\"_blank\" href=https://colab.research.google.com/notebooks/data_table.ipynb>data table notebook</a>'\n",
              "          + ' to learn more about interactive tables.';\n",
              "        element.innerHTML = '';\n",
              "        dataTable['output_type'] = 'display_data';\n",
              "        await google.colab.output.renderOutput(dataTable, element);\n",
              "        const docLink = document.createElement('div');\n",
              "        docLink.innerHTML = docLinkHtml;\n",
              "        element.appendChild(docLink);\n",
              "      }\n",
              "    </script>\n",
              "  </div>\n",
              "\n",
              "\n",
              "<div id=\"df-82eaef2e-ccd9-42cd-9c31-c57e50659ab1\">\n",
              "  <button class=\"colab-df-quickchart\" onclick=\"quickchart('df-82eaef2e-ccd9-42cd-9c31-c57e50659ab1')\"\n",
              "            title=\"Suggest charts\"\n",
              "            style=\"display:none;\">\n",
              "\n",
              "<svg xmlns=\"http://www.w3.org/2000/svg\" height=\"24px\"viewBox=\"0 0 24 24\"\n",
              "     width=\"24px\">\n",
              "    <g>\n",
              "        <path d=\"M19 3H5c-1.1 0-2 .9-2 2v14c0 1.1.9 2 2 2h14c1.1 0 2-.9 2-2V5c0-1.1-.9-2-2-2zM9 17H7v-7h2v7zm4 0h-2V7h2v10zm4 0h-2v-4h2v4z\"/>\n",
              "    </g>\n",
              "</svg>\n",
              "  </button>\n",
              "\n",
              "<style>\n",
              "  .colab-df-quickchart {\n",
              "      --bg-color: #E8F0FE;\n",
              "      --fill-color: #1967D2;\n",
              "      --hover-bg-color: #E2EBFA;\n",
              "      --hover-fill-color: #174EA6;\n",
              "      --disabled-fill-color: #AAA;\n",
              "      --disabled-bg-color: #DDD;\n",
              "  }\n",
              "\n",
              "  [theme=dark] .colab-df-quickchart {\n",
              "      --bg-color: #3B4455;\n",
              "      --fill-color: #D2E3FC;\n",
              "      --hover-bg-color: #434B5C;\n",
              "      --hover-fill-color: #FFFFFF;\n",
              "      --disabled-bg-color: #3B4455;\n",
              "      --disabled-fill-color: #666;\n",
              "  }\n",
              "\n",
              "  .colab-df-quickchart {\n",
              "    background-color: var(--bg-color);\n",
              "    border: none;\n",
              "    border-radius: 50%;\n",
              "    cursor: pointer;\n",
              "    display: none;\n",
              "    fill: var(--fill-color);\n",
              "    height: 32px;\n",
              "    padding: 0;\n",
              "    width: 32px;\n",
              "  }\n",
              "\n",
              "  .colab-df-quickchart:hover {\n",
              "    background-color: var(--hover-bg-color);\n",
              "    box-shadow: 0 1px 2px rgba(60, 64, 67, 0.3), 0 1px 3px 1px rgba(60, 64, 67, 0.15);\n",
              "    fill: var(--button-hover-fill-color);\n",
              "  }\n",
              "\n",
              "  .colab-df-quickchart-complete:disabled,\n",
              "  .colab-df-quickchart-complete:disabled:hover {\n",
              "    background-color: var(--disabled-bg-color);\n",
              "    fill: var(--disabled-fill-color);\n",
              "    box-shadow: none;\n",
              "  }\n",
              "\n",
              "  .colab-df-spinner {\n",
              "    border: 2px solid var(--fill-color);\n",
              "    border-color: transparent;\n",
              "    border-bottom-color: var(--fill-color);\n",
              "    animation:\n",
              "      spin 1s steps(1) infinite;\n",
              "  }\n",
              "\n",
              "  @keyframes spin {\n",
              "    0% {\n",
              "      border-color: transparent;\n",
              "      border-bottom-color: var(--fill-color);\n",
              "      border-left-color: var(--fill-color);\n",
              "    }\n",
              "    20% {\n",
              "      border-color: transparent;\n",
              "      border-left-color: var(--fill-color);\n",
              "      border-top-color: var(--fill-color);\n",
              "    }\n",
              "    30% {\n",
              "      border-color: transparent;\n",
              "      border-left-color: var(--fill-color);\n",
              "      border-top-color: var(--fill-color);\n",
              "      border-right-color: var(--fill-color);\n",
              "    }\n",
              "    40% {\n",
              "      border-color: transparent;\n",
              "      border-right-color: var(--fill-color);\n",
              "      border-top-color: var(--fill-color);\n",
              "    }\n",
              "    60% {\n",
              "      border-color: transparent;\n",
              "      border-right-color: var(--fill-color);\n",
              "    }\n",
              "    80% {\n",
              "      border-color: transparent;\n",
              "      border-right-color: var(--fill-color);\n",
              "      border-bottom-color: var(--fill-color);\n",
              "    }\n",
              "    90% {\n",
              "      border-color: transparent;\n",
              "      border-bottom-color: var(--fill-color);\n",
              "    }\n",
              "  }\n",
              "</style>\n",
              "\n",
              "  <script>\n",
              "    async function quickchart(key) {\n",
              "      const quickchartButtonEl =\n",
              "        document.querySelector('#' + key + ' button');\n",
              "      quickchartButtonEl.disabled = true;  // To prevent multiple clicks.\n",
              "      quickchartButtonEl.classList.add('colab-df-spinner');\n",
              "      try {\n",
              "        const charts = await google.colab.kernel.invokeFunction(\n",
              "            'suggestCharts', [key], {});\n",
              "      } catch (error) {\n",
              "        console.error('Error during call to suggestCharts:', error);\n",
              "      }\n",
              "      quickchartButtonEl.classList.remove('colab-df-spinner');\n",
              "      quickchartButtonEl.classList.add('colab-df-quickchart-complete');\n",
              "    }\n",
              "    (() => {\n",
              "      let quickchartButtonEl =\n",
              "        document.querySelector('#df-82eaef2e-ccd9-42cd-9c31-c57e50659ab1 button');\n",
              "      quickchartButtonEl.style.display =\n",
              "        google.colab.kernel.accessAllowed ? 'block' : 'none';\n",
              "    })();\n",
              "  </script>\n",
              "</div>\n",
              "    </div>\n",
              "  </div>\n"
            ],
            "application/vnd.google.colaboratory.intrinsic+json": {
              "type": "dataframe",
              "summary": "{\n  \"name\": \"df\",\n  \"rows\": 5,\n  \"fields\": [\n    {\n      \"column\": \"Price\",\n      \"properties\": {\n        \"dtype\": \"number\",\n        \"std\": 1198494.187308516,\n        \"min\": 3700000.0,\n        \"max\": 6839157.0,\n        \"num_unique_values\": 5,\n        \"samples\": [\n          5900000.0,\n          6839157.0,\n          3700000.0\n        ],\n        \"semantic_type\": \"\",\n        \"description\": \"\"\n      }\n    },\n    {\n      \"column\": \"Apartment type\",\n      \"properties\": {\n        \"dtype\": \"category\",\n        \"num_unique_values\": 1,\n        \"samples\": [\n          \"New building\"\n        ],\n        \"semantic_type\": \"\",\n        \"description\": \"\"\n      }\n    },\n    {\n      \"column\": \"Metro station\",\n      \"properties\": {\n        \"dtype\": \"string\",\n        \"num_unique_values\": 3,\n        \"samples\": [\n          \"\\u041a\\u043e\\u0442\\u0435\\u043b\\u044c\\u043d\\u0438\\u043a\\u0438\"\n        ],\n        \"semantic_type\": \"\",\n        \"description\": \"\"\n      }\n    },\n    {\n      \"column\": \"Minutes to metro\",\n      \"properties\": {\n        \"dtype\": \"number\",\n        \"std\": 10.04987562112089,\n        \"min\": 8.0,\n        \"max\": 30.0,\n        \"num_unique_values\": 4,\n        \"samples\": [\n          25.0\n        ],\n        \"semantic_type\": \"\",\n        \"description\": \"\"\n      }\n    },\n    {\n      \"column\": \"Region\",\n      \"properties\": {\n        \"dtype\": \"category\",\n        \"num_unique_values\": 1,\n        \"samples\": [\n          \"Moscow region\"\n        ],\n        \"semantic_type\": \"\",\n        \"description\": \"\"\n      }\n    },\n    {\n      \"column\": \"Number of rooms\",\n      \"properties\": {\n        \"dtype\": \"number\",\n        \"std\": 1.0,\n        \"min\": 0.0,\n        \"max\": 2.0,\n        \"num_unique_values\": 3,\n        \"samples\": [\n          0.0\n        ],\n        \"semantic_type\": \"\",\n        \"description\": \"\"\n      }\n    },\n    {\n      \"column\": \"Area\",\n      \"properties\": {\n        \"dtype\": \"number\",\n        \"std\": 13.777482716374571,\n        \"min\": 18.0,\n        \"max\": 56.13,\n        \"num_unique_values\": 5,\n        \"samples\": [\n          31.6\n        ],\n        \"semantic_type\": \"\",\n        \"description\": \"\"\n      }\n    },\n    {\n      \"column\": \"Living area\",\n      \"properties\": {\n        \"dtype\": \"number\",\n        \"std\": 8.768238135452298,\n        \"min\": 10.1,\n        \"max\": 32.0,\n        \"num_unique_values\": 5,\n        \"samples\": [\n          10.1\n        ],\n        \"semantic_type\": \"\",\n        \"description\": \"\"\n      }\n    },\n    {\n      \"column\": \"Kitchen area\",\n      \"properties\": {\n        \"dtype\": \"number\",\n        \"std\": 2.986971710612606,\n        \"min\": 5.0,\n        \"max\": 12.2,\n        \"num_unique_values\": 4,\n        \"samples\": [\n          12.2\n        ],\n        \"semantic_type\": \"\",\n        \"description\": \"\"\n      }\n    },\n    {\n      \"column\": \"Floor\",\n      \"properties\": {\n        \"dtype\": \"number\",\n        \"std\": 4.658325879540846,\n        \"min\": 4.0,\n        \"max\": 17.0,\n        \"num_unique_values\": 5,\n        \"samples\": [\n          11.0\n        ],\n        \"semantic_type\": \"\",\n        \"description\": \"\"\n      }\n    },\n    {\n      \"column\": \"Number of floors\",\n      \"properties\": {\n        \"dtype\": \"number\",\n        \"std\": 1,\n        \"min\": 14,\n        \"max\": 17,\n        \"num_unique_values\": 3,\n        \"samples\": [\n          17\n        ],\n        \"semantic_type\": \"\",\n        \"description\": \"\"\n      }\n    },\n    {\n      \"column\": \"Renovation\",\n      \"properties\": {\n        \"dtype\": \"category\",\n        \"num_unique_values\": 1,\n        \"samples\": [\n          \"Cosmetic\"\n        ],\n        \"semantic_type\": \"\",\n        \"description\": \"\"\n      }\n    }\n  ]\n}"
            }
          },
          "metadata": {},
          "execution_count": 227
        }
      ]
    },
    {
      "cell_type": "code",
      "source": [
        "df.describe()"
      ],
      "metadata": {
        "colab": {
          "base_uri": "https://localhost:8080/",
          "height": 300
        },
        "id": "VAQV8R6xT67Y",
        "outputId": "b264c616-0a93-48ce-d51b-f2c858231531"
      },
      "execution_count": null,
      "outputs": [
        {
          "output_type": "execute_result",
          "data": {
            "text/plain": [
              "              Price  Minutes to metro  Number of rooms          Area  \\\n",
              "count  2.267600e+04      22676.000000     22676.000000  22676.000000   \n",
              "mean   3.612132e+07         11.888605         2.043129     71.966827   \n",
              "std    8.282561e+07          6.204457         1.523586     68.368608   \n",
              "min    1.150000e+06          0.000000         0.000000      6.000000   \n",
              "25%    7.068116e+06          7.000000         1.000000     37.400000   \n",
              "50%    1.134320e+07         11.000000         2.000000     53.300000   \n",
              "75%    2.479925e+07         15.000000         3.000000     77.140000   \n",
              "max    2.455020e+09         60.000000        12.000000   1117.000000   \n",
              "\n",
              "        Living area  Kitchen area         Floor  Number of floors  \n",
              "count  22676.000000  22676.000000  22676.000000      22676.000000  \n",
              "mean      38.517953     12.594082      9.190466         16.556095  \n",
              "std       38.124278      7.728074      7.549996          9.779297  \n",
              "min        2.000000      1.000000      1.000000          1.000000  \n",
              "25%       17.600000      8.600000      4.000000         11.000000  \n",
              "50%       28.500000     10.600000      8.000000         16.000000  \n",
              "75%       43.200000     14.500000     13.000000         20.000000  \n",
              "max      566.800000    122.000000     92.000000         97.000000  "
            ],
            "text/html": [
              "\n",
              "  <div id=\"df-33b28c1c-f417-48b6-a726-cdafcd284f41\" class=\"colab-df-container\">\n",
              "    <div>\n",
              "<style scoped>\n",
              "    .dataframe tbody tr th:only-of-type {\n",
              "        vertical-align: middle;\n",
              "    }\n",
              "\n",
              "    .dataframe tbody tr th {\n",
              "        vertical-align: top;\n",
              "    }\n",
              "\n",
              "    .dataframe thead th {\n",
              "        text-align: right;\n",
              "    }\n",
              "</style>\n",
              "<table border=\"1\" class=\"dataframe\">\n",
              "  <thead>\n",
              "    <tr style=\"text-align: right;\">\n",
              "      <th></th>\n",
              "      <th>Price</th>\n",
              "      <th>Minutes to metro</th>\n",
              "      <th>Number of rooms</th>\n",
              "      <th>Area</th>\n",
              "      <th>Living area</th>\n",
              "      <th>Kitchen area</th>\n",
              "      <th>Floor</th>\n",
              "      <th>Number of floors</th>\n",
              "    </tr>\n",
              "  </thead>\n",
              "  <tbody>\n",
              "    <tr>\n",
              "      <th>count</th>\n",
              "      <td>2.267600e+04</td>\n",
              "      <td>22676.000000</td>\n",
              "      <td>22676.000000</td>\n",
              "      <td>22676.000000</td>\n",
              "      <td>22676.000000</td>\n",
              "      <td>22676.000000</td>\n",
              "      <td>22676.000000</td>\n",
              "      <td>22676.000000</td>\n",
              "    </tr>\n",
              "    <tr>\n",
              "      <th>mean</th>\n",
              "      <td>3.612132e+07</td>\n",
              "      <td>11.888605</td>\n",
              "      <td>2.043129</td>\n",
              "      <td>71.966827</td>\n",
              "      <td>38.517953</td>\n",
              "      <td>12.594082</td>\n",
              "      <td>9.190466</td>\n",
              "      <td>16.556095</td>\n",
              "    </tr>\n",
              "    <tr>\n",
              "      <th>std</th>\n",
              "      <td>8.282561e+07</td>\n",
              "      <td>6.204457</td>\n",
              "      <td>1.523586</td>\n",
              "      <td>68.368608</td>\n",
              "      <td>38.124278</td>\n",
              "      <td>7.728074</td>\n",
              "      <td>7.549996</td>\n",
              "      <td>9.779297</td>\n",
              "    </tr>\n",
              "    <tr>\n",
              "      <th>min</th>\n",
              "      <td>1.150000e+06</td>\n",
              "      <td>0.000000</td>\n",
              "      <td>0.000000</td>\n",
              "      <td>6.000000</td>\n",
              "      <td>2.000000</td>\n",
              "      <td>1.000000</td>\n",
              "      <td>1.000000</td>\n",
              "      <td>1.000000</td>\n",
              "    </tr>\n",
              "    <tr>\n",
              "      <th>25%</th>\n",
              "      <td>7.068116e+06</td>\n",
              "      <td>7.000000</td>\n",
              "      <td>1.000000</td>\n",
              "      <td>37.400000</td>\n",
              "      <td>17.600000</td>\n",
              "      <td>8.600000</td>\n",
              "      <td>4.000000</td>\n",
              "      <td>11.000000</td>\n",
              "    </tr>\n",
              "    <tr>\n",
              "      <th>50%</th>\n",
              "      <td>1.134320e+07</td>\n",
              "      <td>11.000000</td>\n",
              "      <td>2.000000</td>\n",
              "      <td>53.300000</td>\n",
              "      <td>28.500000</td>\n",
              "      <td>10.600000</td>\n",
              "      <td>8.000000</td>\n",
              "      <td>16.000000</td>\n",
              "    </tr>\n",
              "    <tr>\n",
              "      <th>75%</th>\n",
              "      <td>2.479925e+07</td>\n",
              "      <td>15.000000</td>\n",
              "      <td>3.000000</td>\n",
              "      <td>77.140000</td>\n",
              "      <td>43.200000</td>\n",
              "      <td>14.500000</td>\n",
              "      <td>13.000000</td>\n",
              "      <td>20.000000</td>\n",
              "    </tr>\n",
              "    <tr>\n",
              "      <th>max</th>\n",
              "      <td>2.455020e+09</td>\n",
              "      <td>60.000000</td>\n",
              "      <td>12.000000</td>\n",
              "      <td>1117.000000</td>\n",
              "      <td>566.800000</td>\n",
              "      <td>122.000000</td>\n",
              "      <td>92.000000</td>\n",
              "      <td>97.000000</td>\n",
              "    </tr>\n",
              "  </tbody>\n",
              "</table>\n",
              "</div>\n",
              "    <div class=\"colab-df-buttons\">\n",
              "\n",
              "  <div class=\"colab-df-container\">\n",
              "    <button class=\"colab-df-convert\" onclick=\"convertToInteractive('df-33b28c1c-f417-48b6-a726-cdafcd284f41')\"\n",
              "            title=\"Convert this dataframe to an interactive table.\"\n",
              "            style=\"display:none;\">\n",
              "\n",
              "  <svg xmlns=\"http://www.w3.org/2000/svg\" height=\"24px\" viewBox=\"0 -960 960 960\">\n",
              "    <path d=\"M120-120v-720h720v720H120Zm60-500h600v-160H180v160Zm220 220h160v-160H400v160Zm0 220h160v-160H400v160ZM180-400h160v-160H180v160Zm440 0h160v-160H620v160ZM180-180h160v-160H180v160Zm440 0h160v-160H620v160Z\"/>\n",
              "  </svg>\n",
              "    </button>\n",
              "\n",
              "  <style>\n",
              "    .colab-df-container {\n",
              "      display:flex;\n",
              "      gap: 12px;\n",
              "    }\n",
              "\n",
              "    .colab-df-convert {\n",
              "      background-color: #E8F0FE;\n",
              "      border: none;\n",
              "      border-radius: 50%;\n",
              "      cursor: pointer;\n",
              "      display: none;\n",
              "      fill: #1967D2;\n",
              "      height: 32px;\n",
              "      padding: 0 0 0 0;\n",
              "      width: 32px;\n",
              "    }\n",
              "\n",
              "    .colab-df-convert:hover {\n",
              "      background-color: #E2EBFA;\n",
              "      box-shadow: 0px 1px 2px rgba(60, 64, 67, 0.3), 0px 1px 3px 1px rgba(60, 64, 67, 0.15);\n",
              "      fill: #174EA6;\n",
              "    }\n",
              "\n",
              "    .colab-df-buttons div {\n",
              "      margin-bottom: 4px;\n",
              "    }\n",
              "\n",
              "    [theme=dark] .colab-df-convert {\n",
              "      background-color: #3B4455;\n",
              "      fill: #D2E3FC;\n",
              "    }\n",
              "\n",
              "    [theme=dark] .colab-df-convert:hover {\n",
              "      background-color: #434B5C;\n",
              "      box-shadow: 0px 1px 3px 1px rgba(0, 0, 0, 0.15);\n",
              "      filter: drop-shadow(0px 1px 2px rgba(0, 0, 0, 0.3));\n",
              "      fill: #FFFFFF;\n",
              "    }\n",
              "  </style>\n",
              "\n",
              "    <script>\n",
              "      const buttonEl =\n",
              "        document.querySelector('#df-33b28c1c-f417-48b6-a726-cdafcd284f41 button.colab-df-convert');\n",
              "      buttonEl.style.display =\n",
              "        google.colab.kernel.accessAllowed ? 'block' : 'none';\n",
              "\n",
              "      async function convertToInteractive(key) {\n",
              "        const element = document.querySelector('#df-33b28c1c-f417-48b6-a726-cdafcd284f41');\n",
              "        const dataTable =\n",
              "          await google.colab.kernel.invokeFunction('convertToInteractive',\n",
              "                                                    [key], {});\n",
              "        if (!dataTable) return;\n",
              "\n",
              "        const docLinkHtml = 'Like what you see? Visit the ' +\n",
              "          '<a target=\"_blank\" href=https://colab.research.google.com/notebooks/data_table.ipynb>data table notebook</a>'\n",
              "          + ' to learn more about interactive tables.';\n",
              "        element.innerHTML = '';\n",
              "        dataTable['output_type'] = 'display_data';\n",
              "        await google.colab.output.renderOutput(dataTable, element);\n",
              "        const docLink = document.createElement('div');\n",
              "        docLink.innerHTML = docLinkHtml;\n",
              "        element.appendChild(docLink);\n",
              "      }\n",
              "    </script>\n",
              "  </div>\n",
              "\n",
              "\n",
              "<div id=\"df-2e3c3ea4-7b8f-4504-a834-10bade21c0d0\">\n",
              "  <button class=\"colab-df-quickchart\" onclick=\"quickchart('df-2e3c3ea4-7b8f-4504-a834-10bade21c0d0')\"\n",
              "            title=\"Suggest charts\"\n",
              "            style=\"display:none;\">\n",
              "\n",
              "<svg xmlns=\"http://www.w3.org/2000/svg\" height=\"24px\"viewBox=\"0 0 24 24\"\n",
              "     width=\"24px\">\n",
              "    <g>\n",
              "        <path d=\"M19 3H5c-1.1 0-2 .9-2 2v14c0 1.1.9 2 2 2h14c1.1 0 2-.9 2-2V5c0-1.1-.9-2-2-2zM9 17H7v-7h2v7zm4 0h-2V7h2v10zm4 0h-2v-4h2v4z\"/>\n",
              "    </g>\n",
              "</svg>\n",
              "  </button>\n",
              "\n",
              "<style>\n",
              "  .colab-df-quickchart {\n",
              "      --bg-color: #E8F0FE;\n",
              "      --fill-color: #1967D2;\n",
              "      --hover-bg-color: #E2EBFA;\n",
              "      --hover-fill-color: #174EA6;\n",
              "      --disabled-fill-color: #AAA;\n",
              "      --disabled-bg-color: #DDD;\n",
              "  }\n",
              "\n",
              "  [theme=dark] .colab-df-quickchart {\n",
              "      --bg-color: #3B4455;\n",
              "      --fill-color: #D2E3FC;\n",
              "      --hover-bg-color: #434B5C;\n",
              "      --hover-fill-color: #FFFFFF;\n",
              "      --disabled-bg-color: #3B4455;\n",
              "      --disabled-fill-color: #666;\n",
              "  }\n",
              "\n",
              "  .colab-df-quickchart {\n",
              "    background-color: var(--bg-color);\n",
              "    border: none;\n",
              "    border-radius: 50%;\n",
              "    cursor: pointer;\n",
              "    display: none;\n",
              "    fill: var(--fill-color);\n",
              "    height: 32px;\n",
              "    padding: 0;\n",
              "    width: 32px;\n",
              "  }\n",
              "\n",
              "  .colab-df-quickchart:hover {\n",
              "    background-color: var(--hover-bg-color);\n",
              "    box-shadow: 0 1px 2px rgba(60, 64, 67, 0.3), 0 1px 3px 1px rgba(60, 64, 67, 0.15);\n",
              "    fill: var(--button-hover-fill-color);\n",
              "  }\n",
              "\n",
              "  .colab-df-quickchart-complete:disabled,\n",
              "  .colab-df-quickchart-complete:disabled:hover {\n",
              "    background-color: var(--disabled-bg-color);\n",
              "    fill: var(--disabled-fill-color);\n",
              "    box-shadow: none;\n",
              "  }\n",
              "\n",
              "  .colab-df-spinner {\n",
              "    border: 2px solid var(--fill-color);\n",
              "    border-color: transparent;\n",
              "    border-bottom-color: var(--fill-color);\n",
              "    animation:\n",
              "      spin 1s steps(1) infinite;\n",
              "  }\n",
              "\n",
              "  @keyframes spin {\n",
              "    0% {\n",
              "      border-color: transparent;\n",
              "      border-bottom-color: var(--fill-color);\n",
              "      border-left-color: var(--fill-color);\n",
              "    }\n",
              "    20% {\n",
              "      border-color: transparent;\n",
              "      border-left-color: var(--fill-color);\n",
              "      border-top-color: var(--fill-color);\n",
              "    }\n",
              "    30% {\n",
              "      border-color: transparent;\n",
              "      border-left-color: var(--fill-color);\n",
              "      border-top-color: var(--fill-color);\n",
              "      border-right-color: var(--fill-color);\n",
              "    }\n",
              "    40% {\n",
              "      border-color: transparent;\n",
              "      border-right-color: var(--fill-color);\n",
              "      border-top-color: var(--fill-color);\n",
              "    }\n",
              "    60% {\n",
              "      border-color: transparent;\n",
              "      border-right-color: var(--fill-color);\n",
              "    }\n",
              "    80% {\n",
              "      border-color: transparent;\n",
              "      border-right-color: var(--fill-color);\n",
              "      border-bottom-color: var(--fill-color);\n",
              "    }\n",
              "    90% {\n",
              "      border-color: transparent;\n",
              "      border-bottom-color: var(--fill-color);\n",
              "    }\n",
              "  }\n",
              "</style>\n",
              "\n",
              "  <script>\n",
              "    async function quickchart(key) {\n",
              "      const quickchartButtonEl =\n",
              "        document.querySelector('#' + key + ' button');\n",
              "      quickchartButtonEl.disabled = true;  // To prevent multiple clicks.\n",
              "      quickchartButtonEl.classList.add('colab-df-spinner');\n",
              "      try {\n",
              "        const charts = await google.colab.kernel.invokeFunction(\n",
              "            'suggestCharts', [key], {});\n",
              "      } catch (error) {\n",
              "        console.error('Error during call to suggestCharts:', error);\n",
              "      }\n",
              "      quickchartButtonEl.classList.remove('colab-df-spinner');\n",
              "      quickchartButtonEl.classList.add('colab-df-quickchart-complete');\n",
              "    }\n",
              "    (() => {\n",
              "      let quickchartButtonEl =\n",
              "        document.querySelector('#df-2e3c3ea4-7b8f-4504-a834-10bade21c0d0 button');\n",
              "      quickchartButtonEl.style.display =\n",
              "        google.colab.kernel.accessAllowed ? 'block' : 'none';\n",
              "    })();\n",
              "  </script>\n",
              "</div>\n",
              "    </div>\n",
              "  </div>\n"
            ],
            "application/vnd.google.colaboratory.intrinsic+json": {
              "type": "dataframe",
              "summary": "{\n  \"name\": \"df\",\n  \"rows\": 8,\n  \"fields\": [\n    {\n      \"column\": \"Price\",\n      \"properties\": {\n        \"dtype\": \"number\",\n        \"std\": 860158895.5874358,\n        \"min\": 22676.0,\n        \"max\": 2455020000.0,\n        \"num_unique_values\": 8,\n        \"samples\": [\n          36121321.81531134,\n          11343200.0,\n          22676.0\n        ],\n        \"semantic_type\": \"\",\n        \"description\": \"\"\n      }\n    },\n    {\n      \"column\": \"Minutes to metro\",\n      \"properties\": {\n        \"dtype\": \"number\",\n        \"std\": 8011.587140413976,\n        \"min\": 0.0,\n        \"max\": 22676.0,\n        \"num_unique_values\": 8,\n        \"samples\": [\n          11.88860469218557,\n          11.0,\n          22676.0\n        ],\n        \"semantic_type\": \"\",\n        \"description\": \"\"\n      }\n    },\n    {\n      \"column\": \"Number of rooms\",\n      \"properties\": {\n        \"dtype\": \"number\",\n        \"std\": 8016.0882751483405,\n        \"min\": 0.0,\n        \"max\": 22676.0,\n        \"num_unique_values\": 8,\n        \"samples\": [\n          2.0431292997001234,\n          2.0,\n          22676.0\n        ],\n        \"semantic_type\": \"\",\n        \"description\": \"\"\n      }\n    },\n    {\n      \"column\": \"Area\",\n      \"properties\": {\n        \"dtype\": \"number\",\n        \"std\": 7953.653754144324,\n        \"min\": 6.0,\n        \"max\": 22676.0,\n        \"num_unique_values\": 8,\n        \"samples\": [\n          71.96682704180633,\n          53.3,\n          22676.0\n        ],\n        \"semantic_type\": \"\",\n        \"description\": \"\"\n      }\n    },\n    {\n      \"column\": \"Living area\",\n      \"properties\": {\n        \"dtype\": \"number\",\n        \"std\": 7982.304635945185,\n        \"min\": 2.0,\n        \"max\": 22676.0,\n        \"num_unique_values\": 8,\n        \"samples\": [\n          38.51795290174634,\n          28.5,\n          22676.0\n        ],\n        \"semantic_type\": \"\",\n        \"description\": \"\"\n      }\n    },\n    {\n      \"column\": \"Kitchen area\",\n      \"properties\": {\n        \"dtype\": \"number\",\n        \"std\": 8008.334035729096,\n        \"min\": 1.0,\n        \"max\": 22676.0,\n        \"num_unique_values\": 8,\n        \"samples\": [\n          12.594081848650557,\n          10.6,\n          22676.0\n        ],\n        \"semantic_type\": \"\",\n        \"description\": \"\"\n      }\n    },\n    {\n      \"column\": \"Floor\",\n      \"properties\": {\n        \"dtype\": \"number\",\n        \"std\": 8010.42710128282,\n        \"min\": 1.0,\n        \"max\": 22676.0,\n        \"num_unique_values\": 8,\n        \"samples\": [\n          9.19046569059799,\n          8.0,\n          22676.0\n        ],\n        \"semantic_type\": \"\",\n        \"description\": \"\"\n      }\n    },\n    {\n      \"column\": \"Number of floors\",\n      \"properties\": {\n        \"dtype\": \"number\",\n        \"std\": 8008.57969330077,\n        \"min\": 1.0,\n        \"max\": 22676.0,\n        \"num_unique_values\": 8,\n        \"samples\": [\n          16.55609454930323,\n          16.0,\n          22676.0\n        ],\n        \"semantic_type\": \"\",\n        \"description\": \"\"\n      }\n    }\n  ]\n}"
            }
          },
          "metadata": {},
          "execution_count": 228
        }
      ]
    },
    {
      "cell_type": "code",
      "source": [
        "df.describe(include = 'object')"
      ],
      "metadata": {
        "colab": {
          "base_uri": "https://localhost:8080/",
          "height": 175
        },
        "id": "Ak9dYWTJUAkC",
        "outputId": "a4d5555d-bbab-4be2-c4c5-191bd16d60ab"
      },
      "execution_count": null,
      "outputs": [
        {
          "output_type": "execute_result",
          "data": {
            "text/plain": [
              "       Apartment type      Metro station  Region Renovation\n",
              "count           22676              22676   22676      22676\n",
              "unique              2                547       2          4\n",
              "top         Secondary  Красногвардейская  Moscow   Cosmetic\n",
              "freq            13152               2697   16113      12788"
            ],
            "text/html": [
              "\n",
              "  <div id=\"df-873d3b9a-200d-4203-ba7f-c8cc8124f488\" class=\"colab-df-container\">\n",
              "    <div>\n",
              "<style scoped>\n",
              "    .dataframe tbody tr th:only-of-type {\n",
              "        vertical-align: middle;\n",
              "    }\n",
              "\n",
              "    .dataframe tbody tr th {\n",
              "        vertical-align: top;\n",
              "    }\n",
              "\n",
              "    .dataframe thead th {\n",
              "        text-align: right;\n",
              "    }\n",
              "</style>\n",
              "<table border=\"1\" class=\"dataframe\">\n",
              "  <thead>\n",
              "    <tr style=\"text-align: right;\">\n",
              "      <th></th>\n",
              "      <th>Apartment type</th>\n",
              "      <th>Metro station</th>\n",
              "      <th>Region</th>\n",
              "      <th>Renovation</th>\n",
              "    </tr>\n",
              "  </thead>\n",
              "  <tbody>\n",
              "    <tr>\n",
              "      <th>count</th>\n",
              "      <td>22676</td>\n",
              "      <td>22676</td>\n",
              "      <td>22676</td>\n",
              "      <td>22676</td>\n",
              "    </tr>\n",
              "    <tr>\n",
              "      <th>unique</th>\n",
              "      <td>2</td>\n",
              "      <td>547</td>\n",
              "      <td>2</td>\n",
              "      <td>4</td>\n",
              "    </tr>\n",
              "    <tr>\n",
              "      <th>top</th>\n",
              "      <td>Secondary</td>\n",
              "      <td>Красногвардейская</td>\n",
              "      <td>Moscow</td>\n",
              "      <td>Cosmetic</td>\n",
              "    </tr>\n",
              "    <tr>\n",
              "      <th>freq</th>\n",
              "      <td>13152</td>\n",
              "      <td>2697</td>\n",
              "      <td>16113</td>\n",
              "      <td>12788</td>\n",
              "    </tr>\n",
              "  </tbody>\n",
              "</table>\n",
              "</div>\n",
              "    <div class=\"colab-df-buttons\">\n",
              "\n",
              "  <div class=\"colab-df-container\">\n",
              "    <button class=\"colab-df-convert\" onclick=\"convertToInteractive('df-873d3b9a-200d-4203-ba7f-c8cc8124f488')\"\n",
              "            title=\"Convert this dataframe to an interactive table.\"\n",
              "            style=\"display:none;\">\n",
              "\n",
              "  <svg xmlns=\"http://www.w3.org/2000/svg\" height=\"24px\" viewBox=\"0 -960 960 960\">\n",
              "    <path d=\"M120-120v-720h720v720H120Zm60-500h600v-160H180v160Zm220 220h160v-160H400v160Zm0 220h160v-160H400v160ZM180-400h160v-160H180v160Zm440 0h160v-160H620v160ZM180-180h160v-160H180v160Zm440 0h160v-160H620v160Z\"/>\n",
              "  </svg>\n",
              "    </button>\n",
              "\n",
              "  <style>\n",
              "    .colab-df-container {\n",
              "      display:flex;\n",
              "      gap: 12px;\n",
              "    }\n",
              "\n",
              "    .colab-df-convert {\n",
              "      background-color: #E8F0FE;\n",
              "      border: none;\n",
              "      border-radius: 50%;\n",
              "      cursor: pointer;\n",
              "      display: none;\n",
              "      fill: #1967D2;\n",
              "      height: 32px;\n",
              "      padding: 0 0 0 0;\n",
              "      width: 32px;\n",
              "    }\n",
              "\n",
              "    .colab-df-convert:hover {\n",
              "      background-color: #E2EBFA;\n",
              "      box-shadow: 0px 1px 2px rgba(60, 64, 67, 0.3), 0px 1px 3px 1px rgba(60, 64, 67, 0.15);\n",
              "      fill: #174EA6;\n",
              "    }\n",
              "\n",
              "    .colab-df-buttons div {\n",
              "      margin-bottom: 4px;\n",
              "    }\n",
              "\n",
              "    [theme=dark] .colab-df-convert {\n",
              "      background-color: #3B4455;\n",
              "      fill: #D2E3FC;\n",
              "    }\n",
              "\n",
              "    [theme=dark] .colab-df-convert:hover {\n",
              "      background-color: #434B5C;\n",
              "      box-shadow: 0px 1px 3px 1px rgba(0, 0, 0, 0.15);\n",
              "      filter: drop-shadow(0px 1px 2px rgba(0, 0, 0, 0.3));\n",
              "      fill: #FFFFFF;\n",
              "    }\n",
              "  </style>\n",
              "\n",
              "    <script>\n",
              "      const buttonEl =\n",
              "        document.querySelector('#df-873d3b9a-200d-4203-ba7f-c8cc8124f488 button.colab-df-convert');\n",
              "      buttonEl.style.display =\n",
              "        google.colab.kernel.accessAllowed ? 'block' : 'none';\n",
              "\n",
              "      async function convertToInteractive(key) {\n",
              "        const element = document.querySelector('#df-873d3b9a-200d-4203-ba7f-c8cc8124f488');\n",
              "        const dataTable =\n",
              "          await google.colab.kernel.invokeFunction('convertToInteractive',\n",
              "                                                    [key], {});\n",
              "        if (!dataTable) return;\n",
              "\n",
              "        const docLinkHtml = 'Like what you see? Visit the ' +\n",
              "          '<a target=\"_blank\" href=https://colab.research.google.com/notebooks/data_table.ipynb>data table notebook</a>'\n",
              "          + ' to learn more about interactive tables.';\n",
              "        element.innerHTML = '';\n",
              "        dataTable['output_type'] = 'display_data';\n",
              "        await google.colab.output.renderOutput(dataTable, element);\n",
              "        const docLink = document.createElement('div');\n",
              "        docLink.innerHTML = docLinkHtml;\n",
              "        element.appendChild(docLink);\n",
              "      }\n",
              "    </script>\n",
              "  </div>\n",
              "\n",
              "\n",
              "<div id=\"df-3321d82c-2472-468c-aec5-fa9fdab9b797\">\n",
              "  <button class=\"colab-df-quickchart\" onclick=\"quickchart('df-3321d82c-2472-468c-aec5-fa9fdab9b797')\"\n",
              "            title=\"Suggest charts\"\n",
              "            style=\"display:none;\">\n",
              "\n",
              "<svg xmlns=\"http://www.w3.org/2000/svg\" height=\"24px\"viewBox=\"0 0 24 24\"\n",
              "     width=\"24px\">\n",
              "    <g>\n",
              "        <path d=\"M19 3H5c-1.1 0-2 .9-2 2v14c0 1.1.9 2 2 2h14c1.1 0 2-.9 2-2V5c0-1.1-.9-2-2-2zM9 17H7v-7h2v7zm4 0h-2V7h2v10zm4 0h-2v-4h2v4z\"/>\n",
              "    </g>\n",
              "</svg>\n",
              "  </button>\n",
              "\n",
              "<style>\n",
              "  .colab-df-quickchart {\n",
              "      --bg-color: #E8F0FE;\n",
              "      --fill-color: #1967D2;\n",
              "      --hover-bg-color: #E2EBFA;\n",
              "      --hover-fill-color: #174EA6;\n",
              "      --disabled-fill-color: #AAA;\n",
              "      --disabled-bg-color: #DDD;\n",
              "  }\n",
              "\n",
              "  [theme=dark] .colab-df-quickchart {\n",
              "      --bg-color: #3B4455;\n",
              "      --fill-color: #D2E3FC;\n",
              "      --hover-bg-color: #434B5C;\n",
              "      --hover-fill-color: #FFFFFF;\n",
              "      --disabled-bg-color: #3B4455;\n",
              "      --disabled-fill-color: #666;\n",
              "  }\n",
              "\n",
              "  .colab-df-quickchart {\n",
              "    background-color: var(--bg-color);\n",
              "    border: none;\n",
              "    border-radius: 50%;\n",
              "    cursor: pointer;\n",
              "    display: none;\n",
              "    fill: var(--fill-color);\n",
              "    height: 32px;\n",
              "    padding: 0;\n",
              "    width: 32px;\n",
              "  }\n",
              "\n",
              "  .colab-df-quickchart:hover {\n",
              "    background-color: var(--hover-bg-color);\n",
              "    box-shadow: 0 1px 2px rgba(60, 64, 67, 0.3), 0 1px 3px 1px rgba(60, 64, 67, 0.15);\n",
              "    fill: var(--button-hover-fill-color);\n",
              "  }\n",
              "\n",
              "  .colab-df-quickchart-complete:disabled,\n",
              "  .colab-df-quickchart-complete:disabled:hover {\n",
              "    background-color: var(--disabled-bg-color);\n",
              "    fill: var(--disabled-fill-color);\n",
              "    box-shadow: none;\n",
              "  }\n",
              "\n",
              "  .colab-df-spinner {\n",
              "    border: 2px solid var(--fill-color);\n",
              "    border-color: transparent;\n",
              "    border-bottom-color: var(--fill-color);\n",
              "    animation:\n",
              "      spin 1s steps(1) infinite;\n",
              "  }\n",
              "\n",
              "  @keyframes spin {\n",
              "    0% {\n",
              "      border-color: transparent;\n",
              "      border-bottom-color: var(--fill-color);\n",
              "      border-left-color: var(--fill-color);\n",
              "    }\n",
              "    20% {\n",
              "      border-color: transparent;\n",
              "      border-left-color: var(--fill-color);\n",
              "      border-top-color: var(--fill-color);\n",
              "    }\n",
              "    30% {\n",
              "      border-color: transparent;\n",
              "      border-left-color: var(--fill-color);\n",
              "      border-top-color: var(--fill-color);\n",
              "      border-right-color: var(--fill-color);\n",
              "    }\n",
              "    40% {\n",
              "      border-color: transparent;\n",
              "      border-right-color: var(--fill-color);\n",
              "      border-top-color: var(--fill-color);\n",
              "    }\n",
              "    60% {\n",
              "      border-color: transparent;\n",
              "      border-right-color: var(--fill-color);\n",
              "    }\n",
              "    80% {\n",
              "      border-color: transparent;\n",
              "      border-right-color: var(--fill-color);\n",
              "      border-bottom-color: var(--fill-color);\n",
              "    }\n",
              "    90% {\n",
              "      border-color: transparent;\n",
              "      border-bottom-color: var(--fill-color);\n",
              "    }\n",
              "  }\n",
              "</style>\n",
              "\n",
              "  <script>\n",
              "    async function quickchart(key) {\n",
              "      const quickchartButtonEl =\n",
              "        document.querySelector('#' + key + ' button');\n",
              "      quickchartButtonEl.disabled = true;  // To prevent multiple clicks.\n",
              "      quickchartButtonEl.classList.add('colab-df-spinner');\n",
              "      try {\n",
              "        const charts = await google.colab.kernel.invokeFunction(\n",
              "            'suggestCharts', [key], {});\n",
              "      } catch (error) {\n",
              "        console.error('Error during call to suggestCharts:', error);\n",
              "      }\n",
              "      quickchartButtonEl.classList.remove('colab-df-spinner');\n",
              "      quickchartButtonEl.classList.add('colab-df-quickchart-complete');\n",
              "    }\n",
              "    (() => {\n",
              "      let quickchartButtonEl =\n",
              "        document.querySelector('#df-3321d82c-2472-468c-aec5-fa9fdab9b797 button');\n",
              "      quickchartButtonEl.style.display =\n",
              "        google.colab.kernel.accessAllowed ? 'block' : 'none';\n",
              "    })();\n",
              "  </script>\n",
              "</div>\n",
              "    </div>\n",
              "  </div>\n"
            ],
            "application/vnd.google.colaboratory.intrinsic+json": {
              "type": "dataframe",
              "summary": "{\n  \"name\": \"df\",\n  \"rows\": 4,\n  \"fields\": [\n    {\n      \"column\": \"Apartment type\",\n      \"properties\": {\n        \"dtype\": \"string\",\n        \"num_unique_values\": 4,\n        \"samples\": [\n          2,\n          \"13152\",\n          \"22676\"\n        ],\n        \"semantic_type\": \"\",\n        \"description\": \"\"\n      }\n    },\n    {\n      \"column\": \"Metro station\",\n      \"properties\": {\n        \"dtype\": \"string\",\n        \"num_unique_values\": 4,\n        \"samples\": [\n          547,\n          \"2697\",\n          \"22676\"\n        ],\n        \"semantic_type\": \"\",\n        \"description\": \"\"\n      }\n    },\n    {\n      \"column\": \"Region\",\n      \"properties\": {\n        \"dtype\": \"string\",\n        \"num_unique_values\": 4,\n        \"samples\": [\n          2,\n          \"16113\",\n          \"22676\"\n        ],\n        \"semantic_type\": \"\",\n        \"description\": \"\"\n      }\n    },\n    {\n      \"column\": \"Renovation\",\n      \"properties\": {\n        \"dtype\": \"string\",\n        \"num_unique_values\": 4,\n        \"samples\": [\n          4,\n          \"12788\",\n          \"22676\"\n        ],\n        \"semantic_type\": \"\",\n        \"description\": \"\"\n      }\n    }\n  ]\n}"
            }
          },
          "metadata": {},
          "execution_count": 229
        }
      ]
    },
    {
      "cell_type": "code",
      "source": [
        "pd.options.display.float_format = '{:,.2f}'.format"
      ],
      "metadata": {
        "id": "xowKpUtlVnVE"
      },
      "execution_count": null,
      "outputs": []
    },
    {
      "cell_type": "code",
      "source": [
        "df.head()"
      ],
      "metadata": {
        "colab": {
          "base_uri": "https://localhost:8080/",
          "height": 206
        },
        "id": "7jz8Jl-hVoiW",
        "outputId": "5745692f-54ec-454f-86cb-38654be1a2f9"
      },
      "execution_count": null,
      "outputs": [
        {
          "output_type": "execute_result",
          "data": {
            "text/plain": [
              "          Price Apartment type Metro station  Minutes to metro         Region  \\\n",
              "0  6,300,000.00      Secondary       Опалиха              6.00  Moscow region   \n",
              "1  9,000,000.00      Secondary       Павшино              2.00  Moscow region   \n",
              "2 11,090,000.00      Secondary      Мякинино             14.00  Moscow region   \n",
              "3  8,300,000.00      Secondary      Строгино              8.00  Moscow region   \n",
              "4  6,450,000.00      Secondary       Опалиха              6.00  Moscow region   \n",
              "\n",
              "   Number of rooms  Area  Living area  Kitchen area  Floor  Number of floors  \\\n",
              "0             1.00 30.60        11.10          8.50  25.00                25   \n",
              "1             1.00 49.20        20.00         10.00   6.00                15   \n",
              "2             1.00 44.70        16.20         13.10  10.00                25   \n",
              "3             1.00 35.10        16.00         11.00  12.00                33   \n",
              "4             1.00 37.70        15.20          4.00   5.00                 5   \n",
              "\n",
              "                  Renovation  \n",
              "0                   Cosmetic  \n",
              "1  European-style renovation  \n",
              "2                   Cosmetic  \n",
              "3  European-style renovation  \n",
              "4         Without renovation  "
            ],
            "text/html": [
              "\n",
              "  <div id=\"df-45f5c1cf-911d-4343-9722-d04c2c3eb187\" class=\"colab-df-container\">\n",
              "    <div>\n",
              "<style scoped>\n",
              "    .dataframe tbody tr th:only-of-type {\n",
              "        vertical-align: middle;\n",
              "    }\n",
              "\n",
              "    .dataframe tbody tr th {\n",
              "        vertical-align: top;\n",
              "    }\n",
              "\n",
              "    .dataframe thead th {\n",
              "        text-align: right;\n",
              "    }\n",
              "</style>\n",
              "<table border=\"1\" class=\"dataframe\">\n",
              "  <thead>\n",
              "    <tr style=\"text-align: right;\">\n",
              "      <th></th>\n",
              "      <th>Price</th>\n",
              "      <th>Apartment type</th>\n",
              "      <th>Metro station</th>\n",
              "      <th>Minutes to metro</th>\n",
              "      <th>Region</th>\n",
              "      <th>Number of rooms</th>\n",
              "      <th>Area</th>\n",
              "      <th>Living area</th>\n",
              "      <th>Kitchen area</th>\n",
              "      <th>Floor</th>\n",
              "      <th>Number of floors</th>\n",
              "      <th>Renovation</th>\n",
              "    </tr>\n",
              "  </thead>\n",
              "  <tbody>\n",
              "    <tr>\n",
              "      <th>0</th>\n",
              "      <td>6,300,000.00</td>\n",
              "      <td>Secondary</td>\n",
              "      <td>Опалиха</td>\n",
              "      <td>6.00</td>\n",
              "      <td>Moscow region</td>\n",
              "      <td>1.00</td>\n",
              "      <td>30.60</td>\n",
              "      <td>11.10</td>\n",
              "      <td>8.50</td>\n",
              "      <td>25.00</td>\n",
              "      <td>25</td>\n",
              "      <td>Cosmetic</td>\n",
              "    </tr>\n",
              "    <tr>\n",
              "      <th>1</th>\n",
              "      <td>9,000,000.00</td>\n",
              "      <td>Secondary</td>\n",
              "      <td>Павшино</td>\n",
              "      <td>2.00</td>\n",
              "      <td>Moscow region</td>\n",
              "      <td>1.00</td>\n",
              "      <td>49.20</td>\n",
              "      <td>20.00</td>\n",
              "      <td>10.00</td>\n",
              "      <td>6.00</td>\n",
              "      <td>15</td>\n",
              "      <td>European-style renovation</td>\n",
              "    </tr>\n",
              "    <tr>\n",
              "      <th>2</th>\n",
              "      <td>11,090,000.00</td>\n",
              "      <td>Secondary</td>\n",
              "      <td>Мякинино</td>\n",
              "      <td>14.00</td>\n",
              "      <td>Moscow region</td>\n",
              "      <td>1.00</td>\n",
              "      <td>44.70</td>\n",
              "      <td>16.20</td>\n",
              "      <td>13.10</td>\n",
              "      <td>10.00</td>\n",
              "      <td>25</td>\n",
              "      <td>Cosmetic</td>\n",
              "    </tr>\n",
              "    <tr>\n",
              "      <th>3</th>\n",
              "      <td>8,300,000.00</td>\n",
              "      <td>Secondary</td>\n",
              "      <td>Строгино</td>\n",
              "      <td>8.00</td>\n",
              "      <td>Moscow region</td>\n",
              "      <td>1.00</td>\n",
              "      <td>35.10</td>\n",
              "      <td>16.00</td>\n",
              "      <td>11.00</td>\n",
              "      <td>12.00</td>\n",
              "      <td>33</td>\n",
              "      <td>European-style renovation</td>\n",
              "    </tr>\n",
              "    <tr>\n",
              "      <th>4</th>\n",
              "      <td>6,450,000.00</td>\n",
              "      <td>Secondary</td>\n",
              "      <td>Опалиха</td>\n",
              "      <td>6.00</td>\n",
              "      <td>Moscow region</td>\n",
              "      <td>1.00</td>\n",
              "      <td>37.70</td>\n",
              "      <td>15.20</td>\n",
              "      <td>4.00</td>\n",
              "      <td>5.00</td>\n",
              "      <td>5</td>\n",
              "      <td>Without renovation</td>\n",
              "    </tr>\n",
              "  </tbody>\n",
              "</table>\n",
              "</div>\n",
              "    <div class=\"colab-df-buttons\">\n",
              "\n",
              "  <div class=\"colab-df-container\">\n",
              "    <button class=\"colab-df-convert\" onclick=\"convertToInteractive('df-45f5c1cf-911d-4343-9722-d04c2c3eb187')\"\n",
              "            title=\"Convert this dataframe to an interactive table.\"\n",
              "            style=\"display:none;\">\n",
              "\n",
              "  <svg xmlns=\"http://www.w3.org/2000/svg\" height=\"24px\" viewBox=\"0 -960 960 960\">\n",
              "    <path d=\"M120-120v-720h720v720H120Zm60-500h600v-160H180v160Zm220 220h160v-160H400v160Zm0 220h160v-160H400v160ZM180-400h160v-160H180v160Zm440 0h160v-160H620v160ZM180-180h160v-160H180v160Zm440 0h160v-160H620v160Z\"/>\n",
              "  </svg>\n",
              "    </button>\n",
              "\n",
              "  <style>\n",
              "    .colab-df-container {\n",
              "      display:flex;\n",
              "      gap: 12px;\n",
              "    }\n",
              "\n",
              "    .colab-df-convert {\n",
              "      background-color: #E8F0FE;\n",
              "      border: none;\n",
              "      border-radius: 50%;\n",
              "      cursor: pointer;\n",
              "      display: none;\n",
              "      fill: #1967D2;\n",
              "      height: 32px;\n",
              "      padding: 0 0 0 0;\n",
              "      width: 32px;\n",
              "    }\n",
              "\n",
              "    .colab-df-convert:hover {\n",
              "      background-color: #E2EBFA;\n",
              "      box-shadow: 0px 1px 2px rgba(60, 64, 67, 0.3), 0px 1px 3px 1px rgba(60, 64, 67, 0.15);\n",
              "      fill: #174EA6;\n",
              "    }\n",
              "\n",
              "    .colab-df-buttons div {\n",
              "      margin-bottom: 4px;\n",
              "    }\n",
              "\n",
              "    [theme=dark] .colab-df-convert {\n",
              "      background-color: #3B4455;\n",
              "      fill: #D2E3FC;\n",
              "    }\n",
              "\n",
              "    [theme=dark] .colab-df-convert:hover {\n",
              "      background-color: #434B5C;\n",
              "      box-shadow: 0px 1px 3px 1px rgba(0, 0, 0, 0.15);\n",
              "      filter: drop-shadow(0px 1px 2px rgba(0, 0, 0, 0.3));\n",
              "      fill: #FFFFFF;\n",
              "    }\n",
              "  </style>\n",
              "\n",
              "    <script>\n",
              "      const buttonEl =\n",
              "        document.querySelector('#df-45f5c1cf-911d-4343-9722-d04c2c3eb187 button.colab-df-convert');\n",
              "      buttonEl.style.display =\n",
              "        google.colab.kernel.accessAllowed ? 'block' : 'none';\n",
              "\n",
              "      async function convertToInteractive(key) {\n",
              "        const element = document.querySelector('#df-45f5c1cf-911d-4343-9722-d04c2c3eb187');\n",
              "        const dataTable =\n",
              "          await google.colab.kernel.invokeFunction('convertToInteractive',\n",
              "                                                    [key], {});\n",
              "        if (!dataTable) return;\n",
              "\n",
              "        const docLinkHtml = 'Like what you see? Visit the ' +\n",
              "          '<a target=\"_blank\" href=https://colab.research.google.com/notebooks/data_table.ipynb>data table notebook</a>'\n",
              "          + ' to learn more about interactive tables.';\n",
              "        element.innerHTML = '';\n",
              "        dataTable['output_type'] = 'display_data';\n",
              "        await google.colab.output.renderOutput(dataTable, element);\n",
              "        const docLink = document.createElement('div');\n",
              "        docLink.innerHTML = docLinkHtml;\n",
              "        element.appendChild(docLink);\n",
              "      }\n",
              "    </script>\n",
              "  </div>\n",
              "\n",
              "\n",
              "<div id=\"df-53cb9d4b-5101-4b67-b7c6-a5af12886694\">\n",
              "  <button class=\"colab-df-quickchart\" onclick=\"quickchart('df-53cb9d4b-5101-4b67-b7c6-a5af12886694')\"\n",
              "            title=\"Suggest charts\"\n",
              "            style=\"display:none;\">\n",
              "\n",
              "<svg xmlns=\"http://www.w3.org/2000/svg\" height=\"24px\"viewBox=\"0 0 24 24\"\n",
              "     width=\"24px\">\n",
              "    <g>\n",
              "        <path d=\"M19 3H5c-1.1 0-2 .9-2 2v14c0 1.1.9 2 2 2h14c1.1 0 2-.9 2-2V5c0-1.1-.9-2-2-2zM9 17H7v-7h2v7zm4 0h-2V7h2v10zm4 0h-2v-4h2v4z\"/>\n",
              "    </g>\n",
              "</svg>\n",
              "  </button>\n",
              "\n",
              "<style>\n",
              "  .colab-df-quickchart {\n",
              "      --bg-color: #E8F0FE;\n",
              "      --fill-color: #1967D2;\n",
              "      --hover-bg-color: #E2EBFA;\n",
              "      --hover-fill-color: #174EA6;\n",
              "      --disabled-fill-color: #AAA;\n",
              "      --disabled-bg-color: #DDD;\n",
              "  }\n",
              "\n",
              "  [theme=dark] .colab-df-quickchart {\n",
              "      --bg-color: #3B4455;\n",
              "      --fill-color: #D2E3FC;\n",
              "      --hover-bg-color: #434B5C;\n",
              "      --hover-fill-color: #FFFFFF;\n",
              "      --disabled-bg-color: #3B4455;\n",
              "      --disabled-fill-color: #666;\n",
              "  }\n",
              "\n",
              "  .colab-df-quickchart {\n",
              "    background-color: var(--bg-color);\n",
              "    border: none;\n",
              "    border-radius: 50%;\n",
              "    cursor: pointer;\n",
              "    display: none;\n",
              "    fill: var(--fill-color);\n",
              "    height: 32px;\n",
              "    padding: 0;\n",
              "    width: 32px;\n",
              "  }\n",
              "\n",
              "  .colab-df-quickchart:hover {\n",
              "    background-color: var(--hover-bg-color);\n",
              "    box-shadow: 0 1px 2px rgba(60, 64, 67, 0.3), 0 1px 3px 1px rgba(60, 64, 67, 0.15);\n",
              "    fill: var(--button-hover-fill-color);\n",
              "  }\n",
              "\n",
              "  .colab-df-quickchart-complete:disabled,\n",
              "  .colab-df-quickchart-complete:disabled:hover {\n",
              "    background-color: var(--disabled-bg-color);\n",
              "    fill: var(--disabled-fill-color);\n",
              "    box-shadow: none;\n",
              "  }\n",
              "\n",
              "  .colab-df-spinner {\n",
              "    border: 2px solid var(--fill-color);\n",
              "    border-color: transparent;\n",
              "    border-bottom-color: var(--fill-color);\n",
              "    animation:\n",
              "      spin 1s steps(1) infinite;\n",
              "  }\n",
              "\n",
              "  @keyframes spin {\n",
              "    0% {\n",
              "      border-color: transparent;\n",
              "      border-bottom-color: var(--fill-color);\n",
              "      border-left-color: var(--fill-color);\n",
              "    }\n",
              "    20% {\n",
              "      border-color: transparent;\n",
              "      border-left-color: var(--fill-color);\n",
              "      border-top-color: var(--fill-color);\n",
              "    }\n",
              "    30% {\n",
              "      border-color: transparent;\n",
              "      border-left-color: var(--fill-color);\n",
              "      border-top-color: var(--fill-color);\n",
              "      border-right-color: var(--fill-color);\n",
              "    }\n",
              "    40% {\n",
              "      border-color: transparent;\n",
              "      border-right-color: var(--fill-color);\n",
              "      border-top-color: var(--fill-color);\n",
              "    }\n",
              "    60% {\n",
              "      border-color: transparent;\n",
              "      border-right-color: var(--fill-color);\n",
              "    }\n",
              "    80% {\n",
              "      border-color: transparent;\n",
              "      border-right-color: var(--fill-color);\n",
              "      border-bottom-color: var(--fill-color);\n",
              "    }\n",
              "    90% {\n",
              "      border-color: transparent;\n",
              "      border-bottom-color: var(--fill-color);\n",
              "    }\n",
              "  }\n",
              "</style>\n",
              "\n",
              "  <script>\n",
              "    async function quickchart(key) {\n",
              "      const quickchartButtonEl =\n",
              "        document.querySelector('#' + key + ' button');\n",
              "      quickchartButtonEl.disabled = true;  // To prevent multiple clicks.\n",
              "      quickchartButtonEl.classList.add('colab-df-spinner');\n",
              "      try {\n",
              "        const charts = await google.colab.kernel.invokeFunction(\n",
              "            'suggestCharts', [key], {});\n",
              "      } catch (error) {\n",
              "        console.error('Error during call to suggestCharts:', error);\n",
              "      }\n",
              "      quickchartButtonEl.classList.remove('colab-df-spinner');\n",
              "      quickchartButtonEl.classList.add('colab-df-quickchart-complete');\n",
              "    }\n",
              "    (() => {\n",
              "      let quickchartButtonEl =\n",
              "        document.querySelector('#df-53cb9d4b-5101-4b67-b7c6-a5af12886694 button');\n",
              "      quickchartButtonEl.style.display =\n",
              "        google.colab.kernel.accessAllowed ? 'block' : 'none';\n",
              "    })();\n",
              "  </script>\n",
              "</div>\n",
              "    </div>\n",
              "  </div>\n"
            ],
            "application/vnd.google.colaboratory.intrinsic+json": {
              "type": "dataframe",
              "variable_name": "df",
              "summary": "{\n  \"name\": \"df\",\n  \"rows\": 22676,\n  \"fields\": [\n    {\n      \"column\": \"Price\",\n      \"properties\": {\n        \"dtype\": \"number\",\n        \"std\": 82825614.1756103,\n        \"min\": 1150000.0,\n        \"max\": 2455020000.0,\n        \"num_unique_values\": 9979,\n        \"samples\": [\n          10135683.0,\n          2856844.0,\n          97190760.0\n        ],\n        \"semantic_type\": \"\",\n        \"description\": \"\"\n      }\n    },\n    {\n      \"column\": \"Apartment type\",\n      \"properties\": {\n        \"dtype\": \"category\",\n        \"num_unique_values\": 2,\n        \"samples\": [\n          \"New building\",\n          \"Secondary\"\n        ],\n        \"semantic_type\": \"\",\n        \"description\": \"\"\n      }\n    },\n    {\n      \"column\": \"Metro station\",\n      \"properties\": {\n        \"dtype\": \"category\",\n        \"num_unique_values\": 547,\n        \"samples\": [\n          \" \\u0422\\u0440\\u043e\\u043f\\u0430\\u0440\\u0451\\u0432\\u043e\",\n          \" \\u0411\\u043e\\u0442\\u0430\\u043d\\u0438\\u0447\\u0435\\u0441\\u043a\\u0438\\u0439 \\u0441\\u0430\\u0434\"\n        ],\n        \"semantic_type\": \"\",\n        \"description\": \"\"\n      }\n    },\n    {\n      \"column\": \"Minutes to metro\",\n      \"properties\": {\n        \"dtype\": \"number\",\n        \"std\": 6.204456965622073,\n        \"min\": 0.0,\n        \"max\": 60.0,\n        \"num_unique_values\": 56,\n        \"samples\": [\n          6.0,\n          27.0\n        ],\n        \"semantic_type\": \"\",\n        \"description\": \"\"\n      }\n    },\n    {\n      \"column\": \"Region\",\n      \"properties\": {\n        \"dtype\": \"category\",\n        \"num_unique_values\": 2,\n        \"samples\": [\n          \"Moscow\",\n          \"Moscow region\"\n        ],\n        \"semantic_type\": \"\",\n        \"description\": \"\"\n      }\n    },\n    {\n      \"column\": \"Number of rooms\",\n      \"properties\": {\n        \"dtype\": \"number\",\n        \"std\": 1.5235862577058266,\n        \"min\": 0.0,\n        \"max\": 12.0,\n        \"num_unique_values\": 12,\n        \"samples\": [\n          12.0,\n          9.0\n        ],\n        \"semantic_type\": \"\",\n        \"description\": \"\"\n      }\n    },\n    {\n      \"column\": \"Area\",\n      \"properties\": {\n        \"dtype\": \"number\",\n        \"std\": 68.36860845335453,\n        \"min\": 6.0,\n        \"max\": 1117.0,\n        \"num_unique_values\": 3017,\n        \"samples\": [\n          126.2,\n          116.85\n        ],\n        \"semantic_type\": \"\",\n        \"description\": \"\"\n      }\n    },\n    {\n      \"column\": \"Living area\",\n      \"properties\": {\n        \"dtype\": \"number\",\n        \"std\": 38.12427814350796,\n        \"min\": 2.0,\n        \"max\": 566.8,\n        \"num_unique_values\": 1302,\n        \"samples\": [\n          28.5,\n          44.0\n        ],\n        \"semantic_type\": \"\",\n        \"description\": \"\"\n      }\n    },\n    {\n      \"column\": \"Kitchen area\",\n      \"properties\": {\n        \"dtype\": \"number\",\n        \"std\": 7.728074411063643,\n        \"min\": 1.0,\n        \"max\": 122.0,\n        \"num_unique_values\": 481,\n        \"samples\": [\n          23.0,\n          32.7\n        ],\n        \"semantic_type\": \"\",\n        \"description\": \"\"\n      }\n    },\n    {\n      \"column\": \"Floor\",\n      \"properties\": {\n        \"dtype\": \"number\",\n        \"std\": 7.549996177433723,\n        \"min\": 1.0,\n        \"max\": 92.0,\n        \"num_unique_values\": 72,\n        \"samples\": [\n          5.0,\n          43.0\n        ],\n        \"semantic_type\": \"\",\n        \"description\": \"\"\n      }\n    },\n    {\n      \"column\": \"Number of floors\",\n      \"properties\": {\n        \"dtype\": \"number\",\n        \"std\": 9,\n        \"min\": 1,\n        \"max\": 97,\n        \"num_unique_values\": 83,\n        \"samples\": [\n          27,\n          25\n        ],\n        \"semantic_type\": \"\",\n        \"description\": \"\"\n      }\n    },\n    {\n      \"column\": \"Renovation\",\n      \"properties\": {\n        \"dtype\": \"category\",\n        \"num_unique_values\": 4,\n        \"samples\": [\n          \"European-style renovation\",\n          \"Designer\"\n        ],\n        \"semantic_type\": \"\",\n        \"description\": \"\"\n      }\n    }\n  ]\n}"
            }
          },
          "metadata": {},
          "execution_count": 231
        }
      ]
    },
    {
      "cell_type": "code",
      "source": [
        "df['Price'].mean(), df.Price.median()"
      ],
      "metadata": {
        "colab": {
          "base_uri": "https://localhost:8080/"
        },
        "id": "kMskAheyV1de",
        "outputId": "9478d1e0-b0a7-458f-ac7b-e56712c69ea3"
      },
      "execution_count": null,
      "outputs": [
        {
          "output_type": "execute_result",
          "data": {
            "text/plain": [
              "(36121321.81531134, 11343200.0)"
            ]
          },
          "metadata": {},
          "execution_count": 232
        }
      ]
    },
    {
      "cell_type": "code",
      "source": [
        "df[['Price', 'Metro station']].head(1)"
      ],
      "metadata": {
        "colab": {
          "base_uri": "https://localhost:8080/",
          "height": 81
        },
        "id": "6V_nKNiyV5gp",
        "outputId": "85e46dfb-c61c-48d0-9c5e-d905ea41ce03"
      },
      "execution_count": null,
      "outputs": [
        {
          "output_type": "execute_result",
          "data": {
            "text/plain": [
              "         Price Metro station\n",
              "0 6,300,000.00       Опалиха"
            ],
            "text/html": [
              "\n",
              "  <div id=\"df-41706a56-b873-4357-b0b1-1572af43ff3b\" class=\"colab-df-container\">\n",
              "    <div>\n",
              "<style scoped>\n",
              "    .dataframe tbody tr th:only-of-type {\n",
              "        vertical-align: middle;\n",
              "    }\n",
              "\n",
              "    .dataframe tbody tr th {\n",
              "        vertical-align: top;\n",
              "    }\n",
              "\n",
              "    .dataframe thead th {\n",
              "        text-align: right;\n",
              "    }\n",
              "</style>\n",
              "<table border=\"1\" class=\"dataframe\">\n",
              "  <thead>\n",
              "    <tr style=\"text-align: right;\">\n",
              "      <th></th>\n",
              "      <th>Price</th>\n",
              "      <th>Metro station</th>\n",
              "    </tr>\n",
              "  </thead>\n",
              "  <tbody>\n",
              "    <tr>\n",
              "      <th>0</th>\n",
              "      <td>6,300,000.00</td>\n",
              "      <td>Опалиха</td>\n",
              "    </tr>\n",
              "  </tbody>\n",
              "</table>\n",
              "</div>\n",
              "    <div class=\"colab-df-buttons\">\n",
              "\n",
              "  <div class=\"colab-df-container\">\n",
              "    <button class=\"colab-df-convert\" onclick=\"convertToInteractive('df-41706a56-b873-4357-b0b1-1572af43ff3b')\"\n",
              "            title=\"Convert this dataframe to an interactive table.\"\n",
              "            style=\"display:none;\">\n",
              "\n",
              "  <svg xmlns=\"http://www.w3.org/2000/svg\" height=\"24px\" viewBox=\"0 -960 960 960\">\n",
              "    <path d=\"M120-120v-720h720v720H120Zm60-500h600v-160H180v160Zm220 220h160v-160H400v160Zm0 220h160v-160H400v160ZM180-400h160v-160H180v160Zm440 0h160v-160H620v160ZM180-180h160v-160H180v160Zm440 0h160v-160H620v160Z\"/>\n",
              "  </svg>\n",
              "    </button>\n",
              "\n",
              "  <style>\n",
              "    .colab-df-container {\n",
              "      display:flex;\n",
              "      gap: 12px;\n",
              "    }\n",
              "\n",
              "    .colab-df-convert {\n",
              "      background-color: #E8F0FE;\n",
              "      border: none;\n",
              "      border-radius: 50%;\n",
              "      cursor: pointer;\n",
              "      display: none;\n",
              "      fill: #1967D2;\n",
              "      height: 32px;\n",
              "      padding: 0 0 0 0;\n",
              "      width: 32px;\n",
              "    }\n",
              "\n",
              "    .colab-df-convert:hover {\n",
              "      background-color: #E2EBFA;\n",
              "      box-shadow: 0px 1px 2px rgba(60, 64, 67, 0.3), 0px 1px 3px 1px rgba(60, 64, 67, 0.15);\n",
              "      fill: #174EA6;\n",
              "    }\n",
              "\n",
              "    .colab-df-buttons div {\n",
              "      margin-bottom: 4px;\n",
              "    }\n",
              "\n",
              "    [theme=dark] .colab-df-convert {\n",
              "      background-color: #3B4455;\n",
              "      fill: #D2E3FC;\n",
              "    }\n",
              "\n",
              "    [theme=dark] .colab-df-convert:hover {\n",
              "      background-color: #434B5C;\n",
              "      box-shadow: 0px 1px 3px 1px rgba(0, 0, 0, 0.15);\n",
              "      filter: drop-shadow(0px 1px 2px rgba(0, 0, 0, 0.3));\n",
              "      fill: #FFFFFF;\n",
              "    }\n",
              "  </style>\n",
              "\n",
              "    <script>\n",
              "      const buttonEl =\n",
              "        document.querySelector('#df-41706a56-b873-4357-b0b1-1572af43ff3b button.colab-df-convert');\n",
              "      buttonEl.style.display =\n",
              "        google.colab.kernel.accessAllowed ? 'block' : 'none';\n",
              "\n",
              "      async function convertToInteractive(key) {\n",
              "        const element = document.querySelector('#df-41706a56-b873-4357-b0b1-1572af43ff3b');\n",
              "        const dataTable =\n",
              "          await google.colab.kernel.invokeFunction('convertToInteractive',\n",
              "                                                    [key], {});\n",
              "        if (!dataTable) return;\n",
              "\n",
              "        const docLinkHtml = 'Like what you see? Visit the ' +\n",
              "          '<a target=\"_blank\" href=https://colab.research.google.com/notebooks/data_table.ipynb>data table notebook</a>'\n",
              "          + ' to learn more about interactive tables.';\n",
              "        element.innerHTML = '';\n",
              "        dataTable['output_type'] = 'display_data';\n",
              "        await google.colab.output.renderOutput(dataTable, element);\n",
              "        const docLink = document.createElement('div');\n",
              "        docLink.innerHTML = docLinkHtml;\n",
              "        element.appendChild(docLink);\n",
              "      }\n",
              "    </script>\n",
              "  </div>\n",
              "\n",
              "    </div>\n",
              "  </div>\n"
            ],
            "application/vnd.google.colaboratory.intrinsic+json": {
              "type": "dataframe",
              "summary": "{\n  \"name\": \"df[['Price', 'Metro station']]\",\n  \"rows\": 1,\n  \"fields\": [\n    {\n      \"column\": \"Price\",\n      \"properties\": {\n        \"dtype\": \"number\",\n        \"std\": null,\n        \"min\": 6300000.0,\n        \"max\": 6300000.0,\n        \"num_unique_values\": 1,\n        \"samples\": [\n          6300000.0\n        ],\n        \"semantic_type\": \"\",\n        \"description\": \"\"\n      }\n    },\n    {\n      \"column\": \"Metro station\",\n      \"properties\": {\n        \"dtype\": \"string\",\n        \"num_unique_values\": 1,\n        \"samples\": [\n          \" \\u041e\\u043f\\u0430\\u043b\\u0438\\u0445\\u0430\"\n        ],\n        \"semantic_type\": \"\",\n        \"description\": \"\"\n      }\n    }\n  ]\n}"
            }
          },
          "metadata": {},
          "execution_count": 233
        }
      ]
    },
    {
      "cell_type": "code",
      "source": [
        "print(df['Region'].unique())\n",
        "df['Region'].unique()"
      ],
      "metadata": {
        "colab": {
          "base_uri": "https://localhost:8080/"
        },
        "id": "tbT_Dk7fZ1fq",
        "outputId": "81628408-2ffc-4971-baa0-364856a6b1a2"
      },
      "execution_count": null,
      "outputs": [
        {
          "output_type": "stream",
          "name": "stdout",
          "text": [
            "['Moscow region' 'Moscow']\n"
          ]
        },
        {
          "output_type": "execute_result",
          "data": {
            "text/plain": [
              "array(['Moscow region', 'Moscow'], dtype=object)"
            ]
          },
          "metadata": {},
          "execution_count": 234
        }
      ]
    },
    {
      "cell_type": "markdown",
      "source": [
        "### Фильтрация и сортировка"
      ],
      "metadata": {
        "id": "Ve-aDDN-aA-c"
      }
    },
    {
      "cell_type": "code",
      "source": [
        "df[df['Region'] == 'Moscow'][['Price', 'Number of rooms']].mean() # среднее число комнат и цена квартир в Москве"
      ],
      "metadata": {
        "colab": {
          "base_uri": "https://localhost:8080/",
          "height": 147
        },
        "id": "3l97lGVVaEVI",
        "outputId": "25a7f22d-4163-41d6-b435-c800be0c6ece"
      },
      "execution_count": null,
      "outputs": [
        {
          "output_type": "execute_result",
          "data": {
            "text/plain": [
              "Price             47,983,477.58\n",
              "Number of rooms            2.22\n",
              "dtype: float64"
            ],
            "text/html": [
              "<div>\n",
              "<style scoped>\n",
              "    .dataframe tbody tr th:only-of-type {\n",
              "        vertical-align: middle;\n",
              "    }\n",
              "\n",
              "    .dataframe tbody tr th {\n",
              "        vertical-align: top;\n",
              "    }\n",
              "\n",
              "    .dataframe thead th {\n",
              "        text-align: right;\n",
              "    }\n",
              "</style>\n",
              "<table border=\"1\" class=\"dataframe\">\n",
              "  <thead>\n",
              "    <tr style=\"text-align: right;\">\n",
              "      <th></th>\n",
              "      <th>0</th>\n",
              "    </tr>\n",
              "  </thead>\n",
              "  <tbody>\n",
              "    <tr>\n",
              "      <th>Price</th>\n",
              "      <td>47,983,477.58</td>\n",
              "    </tr>\n",
              "    <tr>\n",
              "      <th>Number of rooms</th>\n",
              "      <td>2.22</td>\n",
              "    </tr>\n",
              "  </tbody>\n",
              "</table>\n",
              "</div><br><label><b>dtype:</b> float64</label>"
            ]
          },
          "metadata": {},
          "execution_count": 235
        }
      ]
    },
    {
      "cell_type": "code",
      "source": [
        "df[df['Region'] != 'Moscow'][['Price', 'Number of rooms']].mean() # и не в Москве"
      ],
      "metadata": {
        "colab": {
          "base_uri": "https://localhost:8080/",
          "height": 147
        },
        "id": "K2F3BKrSbHb2",
        "outputId": "a0a8c733-7cb4-4d9e-8c84-314f638b9e46"
      },
      "execution_count": null,
      "outputs": [
        {
          "output_type": "execute_result",
          "data": {
            "text/plain": [
              "Price             6,998,220.22\n",
              "Number of rooms           1.60\n",
              "dtype: float64"
            ],
            "text/html": [
              "<div>\n",
              "<style scoped>\n",
              "    .dataframe tbody tr th:only-of-type {\n",
              "        vertical-align: middle;\n",
              "    }\n",
              "\n",
              "    .dataframe tbody tr th {\n",
              "        vertical-align: top;\n",
              "    }\n",
              "\n",
              "    .dataframe thead th {\n",
              "        text-align: right;\n",
              "    }\n",
              "</style>\n",
              "<table border=\"1\" class=\"dataframe\">\n",
              "  <thead>\n",
              "    <tr style=\"text-align: right;\">\n",
              "      <th></th>\n",
              "      <th>0</th>\n",
              "    </tr>\n",
              "  </thead>\n",
              "  <tbody>\n",
              "    <tr>\n",
              "      <th>Price</th>\n",
              "      <td>6,998,220.22</td>\n",
              "    </tr>\n",
              "    <tr>\n",
              "      <th>Number of rooms</th>\n",
              "      <td>1.60</td>\n",
              "    </tr>\n",
              "  </tbody>\n",
              "</table>\n",
              "</div><br><label><b>dtype:</b> float64</label>"
            ]
          },
          "metadata": {},
          "execution_count": 236
        }
      ]
    },
    {
      "cell_type": "code",
      "source": [
        "df[(df['Region'] == 'Moscow') & (df['Apartment type'] == 'Secondary')][['Price', 'Number of rooms']].mean() # средняя цена вторички в Москве"
      ],
      "metadata": {
        "colab": {
          "base_uri": "https://localhost:8080/",
          "height": 147
        },
        "id": "42cPGVh9bPAm",
        "outputId": "4882ed6f-ac98-4e57-ac68-943dab86f04c"
      },
      "execution_count": null,
      "outputs": [
        {
          "output_type": "execute_result",
          "data": {
            "text/plain": [
              "Price             58,738,445.12\n",
              "Number of rooms            2.38\n",
              "dtype: float64"
            ],
            "text/html": [
              "<div>\n",
              "<style scoped>\n",
              "    .dataframe tbody tr th:only-of-type {\n",
              "        vertical-align: middle;\n",
              "    }\n",
              "\n",
              "    .dataframe tbody tr th {\n",
              "        vertical-align: top;\n",
              "    }\n",
              "\n",
              "    .dataframe thead th {\n",
              "        text-align: right;\n",
              "    }\n",
              "</style>\n",
              "<table border=\"1\" class=\"dataframe\">\n",
              "  <thead>\n",
              "    <tr style=\"text-align: right;\">\n",
              "      <th></th>\n",
              "      <th>0</th>\n",
              "    </tr>\n",
              "  </thead>\n",
              "  <tbody>\n",
              "    <tr>\n",
              "      <th>Price</th>\n",
              "      <td>58,738,445.12</td>\n",
              "    </tr>\n",
              "    <tr>\n",
              "      <th>Number of rooms</th>\n",
              "      <td>2.38</td>\n",
              "    </tr>\n",
              "  </tbody>\n",
              "</table>\n",
              "</div><br><label><b>dtype:</b> float64</label>"
            ]
          },
          "metadata": {},
          "execution_count": 237
        }
      ]
    },
    {
      "cell_type": "code",
      "source": [
        "df.columns"
      ],
      "metadata": {
        "colab": {
          "base_uri": "https://localhost:8080/"
        },
        "id": "zZgbO2C5bnS1",
        "outputId": "7c3ab21d-b1d8-4e8b-e9d1-a117377102a5"
      },
      "execution_count": null,
      "outputs": [
        {
          "output_type": "execute_result",
          "data": {
            "text/plain": [
              "Index(['Price', 'Apartment type', 'Metro station', 'Minutes to metro',\n",
              "       'Region', 'Number of rooms', 'Area', 'Living area', 'Kitchen area',\n",
              "       'Floor', 'Number of floors', 'Renovation'],\n",
              "      dtype='object')"
            ]
          },
          "metadata": {},
          "execution_count": 238
        }
      ]
    },
    {
      "cell_type": "code",
      "source": [
        "df.index"
      ],
      "metadata": {
        "colab": {
          "base_uri": "https://localhost:8080/"
        },
        "id": "P9202FZNbomC",
        "outputId": "a32115b9-e388-4425-bab8-1d5fb06e79e6"
      },
      "execution_count": null,
      "outputs": [
        {
          "output_type": "execute_result",
          "data": {
            "text/plain": [
              "RangeIndex(start=0, stop=22676, step=1)"
            ]
          },
          "metadata": {},
          "execution_count": 239
        }
      ]
    },
    {
      "cell_type": "code",
      "source": [
        "df.select_dtypes(['int', 'float'])"
      ],
      "metadata": {
        "colab": {
          "base_uri": "https://localhost:8080/",
          "height": 423
        },
        "id": "sAIk8MC4bpu8",
        "outputId": "e25540ea-e81a-4fac-841c-9efda79b58b2"
      },
      "execution_count": null,
      "outputs": [
        {
          "output_type": "execute_result",
          "data": {
            "text/plain": [
              "              Price  Minutes to metro  Number of rooms  Area  Living area  \\\n",
              "0      6,300,000.00              6.00             1.00 30.60        11.10   \n",
              "1      9,000,000.00              2.00             1.00 49.20        20.00   \n",
              "2     11,090,000.00             14.00             1.00 44.70        16.20   \n",
              "3      8,300,000.00              8.00             1.00 35.10        16.00   \n",
              "4      6,450,000.00              6.00             1.00 37.70        15.20   \n",
              "...             ...               ...              ...   ...          ...   \n",
              "22671  4,768,792.00              8.00             0.00 31.75        13.00   \n",
              "22672  5,900,000.00             25.00             1.00 31.60        10.10   \n",
              "22673  3,700,000.00             30.00             0.00 18.00        15.00   \n",
              "22674  5,768,869.00             14.00             2.00 36.39        22.00   \n",
              "22675  6,839,157.00              8.00             2.00 56.13        32.00   \n",
              "\n",
              "       Kitchen area  Floor  Number of floors  \n",
              "0              8.50  25.00                25  \n",
              "1             10.00   6.00                15  \n",
              "2             13.10  10.00                25  \n",
              "3             11.00  12.00                33  \n",
              "4              4.00   5.00                 5  \n",
              "...             ...    ...               ...  \n",
              "22671          5.00   4.00                17  \n",
              "22672         12.20  11.00                15  \n",
              "22673          8.10  17.00                17  \n",
              "22674          6.60  12.00                14  \n",
              "22675          5.00  10.00                17  \n",
              "\n",
              "[22676 rows x 8 columns]"
            ],
            "text/html": [
              "\n",
              "  <div id=\"df-60e9293f-cb4e-4fee-8e76-74cdb8a8c1a3\" class=\"colab-df-container\">\n",
              "    <div>\n",
              "<style scoped>\n",
              "    .dataframe tbody tr th:only-of-type {\n",
              "        vertical-align: middle;\n",
              "    }\n",
              "\n",
              "    .dataframe tbody tr th {\n",
              "        vertical-align: top;\n",
              "    }\n",
              "\n",
              "    .dataframe thead th {\n",
              "        text-align: right;\n",
              "    }\n",
              "</style>\n",
              "<table border=\"1\" class=\"dataframe\">\n",
              "  <thead>\n",
              "    <tr style=\"text-align: right;\">\n",
              "      <th></th>\n",
              "      <th>Price</th>\n",
              "      <th>Minutes to metro</th>\n",
              "      <th>Number of rooms</th>\n",
              "      <th>Area</th>\n",
              "      <th>Living area</th>\n",
              "      <th>Kitchen area</th>\n",
              "      <th>Floor</th>\n",
              "      <th>Number of floors</th>\n",
              "    </tr>\n",
              "  </thead>\n",
              "  <tbody>\n",
              "    <tr>\n",
              "      <th>0</th>\n",
              "      <td>6,300,000.00</td>\n",
              "      <td>6.00</td>\n",
              "      <td>1.00</td>\n",
              "      <td>30.60</td>\n",
              "      <td>11.10</td>\n",
              "      <td>8.50</td>\n",
              "      <td>25.00</td>\n",
              "      <td>25</td>\n",
              "    </tr>\n",
              "    <tr>\n",
              "      <th>1</th>\n",
              "      <td>9,000,000.00</td>\n",
              "      <td>2.00</td>\n",
              "      <td>1.00</td>\n",
              "      <td>49.20</td>\n",
              "      <td>20.00</td>\n",
              "      <td>10.00</td>\n",
              "      <td>6.00</td>\n",
              "      <td>15</td>\n",
              "    </tr>\n",
              "    <tr>\n",
              "      <th>2</th>\n",
              "      <td>11,090,000.00</td>\n",
              "      <td>14.00</td>\n",
              "      <td>1.00</td>\n",
              "      <td>44.70</td>\n",
              "      <td>16.20</td>\n",
              "      <td>13.10</td>\n",
              "      <td>10.00</td>\n",
              "      <td>25</td>\n",
              "    </tr>\n",
              "    <tr>\n",
              "      <th>3</th>\n",
              "      <td>8,300,000.00</td>\n",
              "      <td>8.00</td>\n",
              "      <td>1.00</td>\n",
              "      <td>35.10</td>\n",
              "      <td>16.00</td>\n",
              "      <td>11.00</td>\n",
              "      <td>12.00</td>\n",
              "      <td>33</td>\n",
              "    </tr>\n",
              "    <tr>\n",
              "      <th>4</th>\n",
              "      <td>6,450,000.00</td>\n",
              "      <td>6.00</td>\n",
              "      <td>1.00</td>\n",
              "      <td>37.70</td>\n",
              "      <td>15.20</td>\n",
              "      <td>4.00</td>\n",
              "      <td>5.00</td>\n",
              "      <td>5</td>\n",
              "    </tr>\n",
              "    <tr>\n",
              "      <th>...</th>\n",
              "      <td>...</td>\n",
              "      <td>...</td>\n",
              "      <td>...</td>\n",
              "      <td>...</td>\n",
              "      <td>...</td>\n",
              "      <td>...</td>\n",
              "      <td>...</td>\n",
              "      <td>...</td>\n",
              "    </tr>\n",
              "    <tr>\n",
              "      <th>22671</th>\n",
              "      <td>4,768,792.00</td>\n",
              "      <td>8.00</td>\n",
              "      <td>0.00</td>\n",
              "      <td>31.75</td>\n",
              "      <td>13.00</td>\n",
              "      <td>5.00</td>\n",
              "      <td>4.00</td>\n",
              "      <td>17</td>\n",
              "    </tr>\n",
              "    <tr>\n",
              "      <th>22672</th>\n",
              "      <td>5,900,000.00</td>\n",
              "      <td>25.00</td>\n",
              "      <td>1.00</td>\n",
              "      <td>31.60</td>\n",
              "      <td>10.10</td>\n",
              "      <td>12.20</td>\n",
              "      <td>11.00</td>\n",
              "      <td>15</td>\n",
              "    </tr>\n",
              "    <tr>\n",
              "      <th>22673</th>\n",
              "      <td>3,700,000.00</td>\n",
              "      <td>30.00</td>\n",
              "      <td>0.00</td>\n",
              "      <td>18.00</td>\n",
              "      <td>15.00</td>\n",
              "      <td>8.10</td>\n",
              "      <td>17.00</td>\n",
              "      <td>17</td>\n",
              "    </tr>\n",
              "    <tr>\n",
              "      <th>22674</th>\n",
              "      <td>5,768,869.00</td>\n",
              "      <td>14.00</td>\n",
              "      <td>2.00</td>\n",
              "      <td>36.39</td>\n",
              "      <td>22.00</td>\n",
              "      <td>6.60</td>\n",
              "      <td>12.00</td>\n",
              "      <td>14</td>\n",
              "    </tr>\n",
              "    <tr>\n",
              "      <th>22675</th>\n",
              "      <td>6,839,157.00</td>\n",
              "      <td>8.00</td>\n",
              "      <td>2.00</td>\n",
              "      <td>56.13</td>\n",
              "      <td>32.00</td>\n",
              "      <td>5.00</td>\n",
              "      <td>10.00</td>\n",
              "      <td>17</td>\n",
              "    </tr>\n",
              "  </tbody>\n",
              "</table>\n",
              "<p>22676 rows × 8 columns</p>\n",
              "</div>\n",
              "    <div class=\"colab-df-buttons\">\n",
              "\n",
              "  <div class=\"colab-df-container\">\n",
              "    <button class=\"colab-df-convert\" onclick=\"convertToInteractive('df-60e9293f-cb4e-4fee-8e76-74cdb8a8c1a3')\"\n",
              "            title=\"Convert this dataframe to an interactive table.\"\n",
              "            style=\"display:none;\">\n",
              "\n",
              "  <svg xmlns=\"http://www.w3.org/2000/svg\" height=\"24px\" viewBox=\"0 -960 960 960\">\n",
              "    <path d=\"M120-120v-720h720v720H120Zm60-500h600v-160H180v160Zm220 220h160v-160H400v160Zm0 220h160v-160H400v160ZM180-400h160v-160H180v160Zm440 0h160v-160H620v160ZM180-180h160v-160H180v160Zm440 0h160v-160H620v160Z\"/>\n",
              "  </svg>\n",
              "    </button>\n",
              "\n",
              "  <style>\n",
              "    .colab-df-container {\n",
              "      display:flex;\n",
              "      gap: 12px;\n",
              "    }\n",
              "\n",
              "    .colab-df-convert {\n",
              "      background-color: #E8F0FE;\n",
              "      border: none;\n",
              "      border-radius: 50%;\n",
              "      cursor: pointer;\n",
              "      display: none;\n",
              "      fill: #1967D2;\n",
              "      height: 32px;\n",
              "      padding: 0 0 0 0;\n",
              "      width: 32px;\n",
              "    }\n",
              "\n",
              "    .colab-df-convert:hover {\n",
              "      background-color: #E2EBFA;\n",
              "      box-shadow: 0px 1px 2px rgba(60, 64, 67, 0.3), 0px 1px 3px 1px rgba(60, 64, 67, 0.15);\n",
              "      fill: #174EA6;\n",
              "    }\n",
              "\n",
              "    .colab-df-buttons div {\n",
              "      margin-bottom: 4px;\n",
              "    }\n",
              "\n",
              "    [theme=dark] .colab-df-convert {\n",
              "      background-color: #3B4455;\n",
              "      fill: #D2E3FC;\n",
              "    }\n",
              "\n",
              "    [theme=dark] .colab-df-convert:hover {\n",
              "      background-color: #434B5C;\n",
              "      box-shadow: 0px 1px 3px 1px rgba(0, 0, 0, 0.15);\n",
              "      filter: drop-shadow(0px 1px 2px rgba(0, 0, 0, 0.3));\n",
              "      fill: #FFFFFF;\n",
              "    }\n",
              "  </style>\n",
              "\n",
              "    <script>\n",
              "      const buttonEl =\n",
              "        document.querySelector('#df-60e9293f-cb4e-4fee-8e76-74cdb8a8c1a3 button.colab-df-convert');\n",
              "      buttonEl.style.display =\n",
              "        google.colab.kernel.accessAllowed ? 'block' : 'none';\n",
              "\n",
              "      async function convertToInteractive(key) {\n",
              "        const element = document.querySelector('#df-60e9293f-cb4e-4fee-8e76-74cdb8a8c1a3');\n",
              "        const dataTable =\n",
              "          await google.colab.kernel.invokeFunction('convertToInteractive',\n",
              "                                                    [key], {});\n",
              "        if (!dataTable) return;\n",
              "\n",
              "        const docLinkHtml = 'Like what you see? Visit the ' +\n",
              "          '<a target=\"_blank\" href=https://colab.research.google.com/notebooks/data_table.ipynb>data table notebook</a>'\n",
              "          + ' to learn more about interactive tables.';\n",
              "        element.innerHTML = '';\n",
              "        dataTable['output_type'] = 'display_data';\n",
              "        await google.colab.output.renderOutput(dataTable, element);\n",
              "        const docLink = document.createElement('div');\n",
              "        docLink.innerHTML = docLinkHtml;\n",
              "        element.appendChild(docLink);\n",
              "      }\n",
              "    </script>\n",
              "  </div>\n",
              "\n",
              "\n",
              "<div id=\"df-cdb03c34-3304-4148-a4b0-efdb0af38020\">\n",
              "  <button class=\"colab-df-quickchart\" onclick=\"quickchart('df-cdb03c34-3304-4148-a4b0-efdb0af38020')\"\n",
              "            title=\"Suggest charts\"\n",
              "            style=\"display:none;\">\n",
              "\n",
              "<svg xmlns=\"http://www.w3.org/2000/svg\" height=\"24px\"viewBox=\"0 0 24 24\"\n",
              "     width=\"24px\">\n",
              "    <g>\n",
              "        <path d=\"M19 3H5c-1.1 0-2 .9-2 2v14c0 1.1.9 2 2 2h14c1.1 0 2-.9 2-2V5c0-1.1-.9-2-2-2zM9 17H7v-7h2v7zm4 0h-2V7h2v10zm4 0h-2v-4h2v4z\"/>\n",
              "    </g>\n",
              "</svg>\n",
              "  </button>\n",
              "\n",
              "<style>\n",
              "  .colab-df-quickchart {\n",
              "      --bg-color: #E8F0FE;\n",
              "      --fill-color: #1967D2;\n",
              "      --hover-bg-color: #E2EBFA;\n",
              "      --hover-fill-color: #174EA6;\n",
              "      --disabled-fill-color: #AAA;\n",
              "      --disabled-bg-color: #DDD;\n",
              "  }\n",
              "\n",
              "  [theme=dark] .colab-df-quickchart {\n",
              "      --bg-color: #3B4455;\n",
              "      --fill-color: #D2E3FC;\n",
              "      --hover-bg-color: #434B5C;\n",
              "      --hover-fill-color: #FFFFFF;\n",
              "      --disabled-bg-color: #3B4455;\n",
              "      --disabled-fill-color: #666;\n",
              "  }\n",
              "\n",
              "  .colab-df-quickchart {\n",
              "    background-color: var(--bg-color);\n",
              "    border: none;\n",
              "    border-radius: 50%;\n",
              "    cursor: pointer;\n",
              "    display: none;\n",
              "    fill: var(--fill-color);\n",
              "    height: 32px;\n",
              "    padding: 0;\n",
              "    width: 32px;\n",
              "  }\n",
              "\n",
              "  .colab-df-quickchart:hover {\n",
              "    background-color: var(--hover-bg-color);\n",
              "    box-shadow: 0 1px 2px rgba(60, 64, 67, 0.3), 0 1px 3px 1px rgba(60, 64, 67, 0.15);\n",
              "    fill: var(--button-hover-fill-color);\n",
              "  }\n",
              "\n",
              "  .colab-df-quickchart-complete:disabled,\n",
              "  .colab-df-quickchart-complete:disabled:hover {\n",
              "    background-color: var(--disabled-bg-color);\n",
              "    fill: var(--disabled-fill-color);\n",
              "    box-shadow: none;\n",
              "  }\n",
              "\n",
              "  .colab-df-spinner {\n",
              "    border: 2px solid var(--fill-color);\n",
              "    border-color: transparent;\n",
              "    border-bottom-color: var(--fill-color);\n",
              "    animation:\n",
              "      spin 1s steps(1) infinite;\n",
              "  }\n",
              "\n",
              "  @keyframes spin {\n",
              "    0% {\n",
              "      border-color: transparent;\n",
              "      border-bottom-color: var(--fill-color);\n",
              "      border-left-color: var(--fill-color);\n",
              "    }\n",
              "    20% {\n",
              "      border-color: transparent;\n",
              "      border-left-color: var(--fill-color);\n",
              "      border-top-color: var(--fill-color);\n",
              "    }\n",
              "    30% {\n",
              "      border-color: transparent;\n",
              "      border-left-color: var(--fill-color);\n",
              "      border-top-color: var(--fill-color);\n",
              "      border-right-color: var(--fill-color);\n",
              "    }\n",
              "    40% {\n",
              "      border-color: transparent;\n",
              "      border-right-color: var(--fill-color);\n",
              "      border-top-color: var(--fill-color);\n",
              "    }\n",
              "    60% {\n",
              "      border-color: transparent;\n",
              "      border-right-color: var(--fill-color);\n",
              "    }\n",
              "    80% {\n",
              "      border-color: transparent;\n",
              "      border-right-color: var(--fill-color);\n",
              "      border-bottom-color: var(--fill-color);\n",
              "    }\n",
              "    90% {\n",
              "      border-color: transparent;\n",
              "      border-bottom-color: var(--fill-color);\n",
              "    }\n",
              "  }\n",
              "</style>\n",
              "\n",
              "  <script>\n",
              "    async function quickchart(key) {\n",
              "      const quickchartButtonEl =\n",
              "        document.querySelector('#' + key + ' button');\n",
              "      quickchartButtonEl.disabled = true;  // To prevent multiple clicks.\n",
              "      quickchartButtonEl.classList.add('colab-df-spinner');\n",
              "      try {\n",
              "        const charts = await google.colab.kernel.invokeFunction(\n",
              "            'suggestCharts', [key], {});\n",
              "      } catch (error) {\n",
              "        console.error('Error during call to suggestCharts:', error);\n",
              "      }\n",
              "      quickchartButtonEl.classList.remove('colab-df-spinner');\n",
              "      quickchartButtonEl.classList.add('colab-df-quickchart-complete');\n",
              "    }\n",
              "    (() => {\n",
              "      let quickchartButtonEl =\n",
              "        document.querySelector('#df-cdb03c34-3304-4148-a4b0-efdb0af38020 button');\n",
              "      quickchartButtonEl.style.display =\n",
              "        google.colab.kernel.accessAllowed ? 'block' : 'none';\n",
              "    })();\n",
              "  </script>\n",
              "</div>\n",
              "    </div>\n",
              "  </div>\n"
            ],
            "application/vnd.google.colaboratory.intrinsic+json": {
              "type": "dataframe",
              "summary": "{\n  \"name\": \"df\",\n  \"rows\": 22676,\n  \"fields\": [\n    {\n      \"column\": \"Price\",\n      \"properties\": {\n        \"dtype\": \"number\",\n        \"std\": 82825614.1756103,\n        \"min\": 1150000.0,\n        \"max\": 2455020000.0,\n        \"num_unique_values\": 9979,\n        \"samples\": [\n          10135683.0,\n          2856844.0,\n          97190760.0\n        ],\n        \"semantic_type\": \"\",\n        \"description\": \"\"\n      }\n    },\n    {\n      \"column\": \"Minutes to metro\",\n      \"properties\": {\n        \"dtype\": \"number\",\n        \"std\": 6.204456965622073,\n        \"min\": 0.0,\n        \"max\": 60.0,\n        \"num_unique_values\": 56,\n        \"samples\": [\n          6.0,\n          27.0,\n          28.0\n        ],\n        \"semantic_type\": \"\",\n        \"description\": \"\"\n      }\n    },\n    {\n      \"column\": \"Number of rooms\",\n      \"properties\": {\n        \"dtype\": \"number\",\n        \"std\": 1.5235862577058266,\n        \"min\": 0.0,\n        \"max\": 12.0,\n        \"num_unique_values\": 12,\n        \"samples\": [\n          12.0,\n          9.0,\n          1.0\n        ],\n        \"semantic_type\": \"\",\n        \"description\": \"\"\n      }\n    },\n    {\n      \"column\": \"Area\",\n      \"properties\": {\n        \"dtype\": \"number\",\n        \"std\": 68.36860845335453,\n        \"min\": 6.0,\n        \"max\": 1117.0,\n        \"num_unique_values\": 3017,\n        \"samples\": [\n          126.2,\n          116.85,\n          183.5\n        ],\n        \"semantic_type\": \"\",\n        \"description\": \"\"\n      }\n    },\n    {\n      \"column\": \"Living area\",\n      \"properties\": {\n        \"dtype\": \"number\",\n        \"std\": 38.12427814350796,\n        \"min\": 2.0,\n        \"max\": 566.8,\n        \"num_unique_values\": 1302,\n        \"samples\": [\n          28.5,\n          44.0,\n          145.5\n        ],\n        \"semantic_type\": \"\",\n        \"description\": \"\"\n      }\n    },\n    {\n      \"column\": \"Kitchen area\",\n      \"properties\": {\n        \"dtype\": \"number\",\n        \"std\": 7.728074411063643,\n        \"min\": 1.0,\n        \"max\": 122.0,\n        \"num_unique_values\": 481,\n        \"samples\": [\n          23.0,\n          32.7,\n          33.2\n        ],\n        \"semantic_type\": \"\",\n        \"description\": \"\"\n      }\n    },\n    {\n      \"column\": \"Floor\",\n      \"properties\": {\n        \"dtype\": \"number\",\n        \"std\": 7.549996177433723,\n        \"min\": 1.0,\n        \"max\": 92.0,\n        \"num_unique_values\": 72,\n        \"samples\": [\n          5.0,\n          43.0,\n          20.0\n        ],\n        \"semantic_type\": \"\",\n        \"description\": \"\"\n      }\n    },\n    {\n      \"column\": \"Number of floors\",\n      \"properties\": {\n        \"dtype\": \"number\",\n        \"std\": 9,\n        \"min\": 1,\n        \"max\": 97,\n        \"num_unique_values\": 83,\n        \"samples\": [\n          27,\n          25,\n          32\n        ],\n        \"semantic_type\": \"\",\n        \"description\": \"\"\n      }\n    }\n  ]\n}"
            }
          },
          "metadata": {},
          "execution_count": 240
        }
      ]
    },
    {
      "cell_type": "code",
      "source": [
        "df.sort_values(by = 'Price').head()"
      ],
      "metadata": {
        "colab": {
          "base_uri": "https://localhost:8080/",
          "height": 206
        },
        "id": "mNg_RPYKbu3U",
        "outputId": "441c617a-192e-4700-fd48-70775d0028a5"
      },
      "execution_count": null,
      "outputs": [
        {
          "output_type": "execute_result",
          "data": {
            "text/plain": [
              "             Price Apartment type  Metro station  Minutes to metro  \\\n",
              "13027 1,150,000.00      Secondary     Покровское             32.00   \n",
              "12989 1,420,000.00      Secondary      Кузьминки             18.00   \n",
              "12863 1,560,000.00      Secondary      Кузьминки             18.00   \n",
              "12807 1,750,000.00      Secondary    Университет             14.00   \n",
              "18007 1,939,125.00   New building  Алма-Атинская             13.00   \n",
              "\n",
              "              Region  Number of rooms  Area  Living area  Kitchen area  Floor  \\\n",
              "13027         Moscow             0.00  6.00         5.20          7.10   2.00   \n",
              "12989         Moscow             0.00 15.20        11.00          7.90   1.00   \n",
              "12863         Moscow             0.00 12.00         9.00          7.60   1.00   \n",
              "12807         Moscow             0.00 14.80        12.00          7.90   1.00   \n",
              "18007  Moscow region             0.00 16.97        10.70          8.00  12.00   \n",
              "\n",
              "       Number of floors          Renovation  \n",
              "13027                18  Without renovation  \n",
              "12989                 5  Without renovation  \n",
              "12863                 5  Without renovation  \n",
              "12807                 9            Cosmetic  \n",
              "18007                16            Cosmetic  "
            ],
            "text/html": [
              "\n",
              "  <div id=\"df-e2a5ad19-ee6e-4199-8945-f306bbc69c6e\" class=\"colab-df-container\">\n",
              "    <div>\n",
              "<style scoped>\n",
              "    .dataframe tbody tr th:only-of-type {\n",
              "        vertical-align: middle;\n",
              "    }\n",
              "\n",
              "    .dataframe tbody tr th {\n",
              "        vertical-align: top;\n",
              "    }\n",
              "\n",
              "    .dataframe thead th {\n",
              "        text-align: right;\n",
              "    }\n",
              "</style>\n",
              "<table border=\"1\" class=\"dataframe\">\n",
              "  <thead>\n",
              "    <tr style=\"text-align: right;\">\n",
              "      <th></th>\n",
              "      <th>Price</th>\n",
              "      <th>Apartment type</th>\n",
              "      <th>Metro station</th>\n",
              "      <th>Minutes to metro</th>\n",
              "      <th>Region</th>\n",
              "      <th>Number of rooms</th>\n",
              "      <th>Area</th>\n",
              "      <th>Living area</th>\n",
              "      <th>Kitchen area</th>\n",
              "      <th>Floor</th>\n",
              "      <th>Number of floors</th>\n",
              "      <th>Renovation</th>\n",
              "    </tr>\n",
              "  </thead>\n",
              "  <tbody>\n",
              "    <tr>\n",
              "      <th>13027</th>\n",
              "      <td>1,150,000.00</td>\n",
              "      <td>Secondary</td>\n",
              "      <td>Покровское</td>\n",
              "      <td>32.00</td>\n",
              "      <td>Moscow</td>\n",
              "      <td>0.00</td>\n",
              "      <td>6.00</td>\n",
              "      <td>5.20</td>\n",
              "      <td>7.10</td>\n",
              "      <td>2.00</td>\n",
              "      <td>18</td>\n",
              "      <td>Without renovation</td>\n",
              "    </tr>\n",
              "    <tr>\n",
              "      <th>12989</th>\n",
              "      <td>1,420,000.00</td>\n",
              "      <td>Secondary</td>\n",
              "      <td>Кузьминки</td>\n",
              "      <td>18.00</td>\n",
              "      <td>Moscow</td>\n",
              "      <td>0.00</td>\n",
              "      <td>15.20</td>\n",
              "      <td>11.00</td>\n",
              "      <td>7.90</td>\n",
              "      <td>1.00</td>\n",
              "      <td>5</td>\n",
              "      <td>Without renovation</td>\n",
              "    </tr>\n",
              "    <tr>\n",
              "      <th>12863</th>\n",
              "      <td>1,560,000.00</td>\n",
              "      <td>Secondary</td>\n",
              "      <td>Кузьминки</td>\n",
              "      <td>18.00</td>\n",
              "      <td>Moscow</td>\n",
              "      <td>0.00</td>\n",
              "      <td>12.00</td>\n",
              "      <td>9.00</td>\n",
              "      <td>7.60</td>\n",
              "      <td>1.00</td>\n",
              "      <td>5</td>\n",
              "      <td>Without renovation</td>\n",
              "    </tr>\n",
              "    <tr>\n",
              "      <th>12807</th>\n",
              "      <td>1,750,000.00</td>\n",
              "      <td>Secondary</td>\n",
              "      <td>Университет</td>\n",
              "      <td>14.00</td>\n",
              "      <td>Moscow</td>\n",
              "      <td>0.00</td>\n",
              "      <td>14.80</td>\n",
              "      <td>12.00</td>\n",
              "      <td>7.90</td>\n",
              "      <td>1.00</td>\n",
              "      <td>9</td>\n",
              "      <td>Cosmetic</td>\n",
              "    </tr>\n",
              "    <tr>\n",
              "      <th>18007</th>\n",
              "      <td>1,939,125.00</td>\n",
              "      <td>New building</td>\n",
              "      <td>Алма-Атинская</td>\n",
              "      <td>13.00</td>\n",
              "      <td>Moscow region</td>\n",
              "      <td>0.00</td>\n",
              "      <td>16.97</td>\n",
              "      <td>10.70</td>\n",
              "      <td>8.00</td>\n",
              "      <td>12.00</td>\n",
              "      <td>16</td>\n",
              "      <td>Cosmetic</td>\n",
              "    </tr>\n",
              "  </tbody>\n",
              "</table>\n",
              "</div>\n",
              "    <div class=\"colab-df-buttons\">\n",
              "\n",
              "  <div class=\"colab-df-container\">\n",
              "    <button class=\"colab-df-convert\" onclick=\"convertToInteractive('df-e2a5ad19-ee6e-4199-8945-f306bbc69c6e')\"\n",
              "            title=\"Convert this dataframe to an interactive table.\"\n",
              "            style=\"display:none;\">\n",
              "\n",
              "  <svg xmlns=\"http://www.w3.org/2000/svg\" height=\"24px\" viewBox=\"0 -960 960 960\">\n",
              "    <path d=\"M120-120v-720h720v720H120Zm60-500h600v-160H180v160Zm220 220h160v-160H400v160Zm0 220h160v-160H400v160ZM180-400h160v-160H180v160Zm440 0h160v-160H620v160ZM180-180h160v-160H180v160Zm440 0h160v-160H620v160Z\"/>\n",
              "  </svg>\n",
              "    </button>\n",
              "\n",
              "  <style>\n",
              "    .colab-df-container {\n",
              "      display:flex;\n",
              "      gap: 12px;\n",
              "    }\n",
              "\n",
              "    .colab-df-convert {\n",
              "      background-color: #E8F0FE;\n",
              "      border: none;\n",
              "      border-radius: 50%;\n",
              "      cursor: pointer;\n",
              "      display: none;\n",
              "      fill: #1967D2;\n",
              "      height: 32px;\n",
              "      padding: 0 0 0 0;\n",
              "      width: 32px;\n",
              "    }\n",
              "\n",
              "    .colab-df-convert:hover {\n",
              "      background-color: #E2EBFA;\n",
              "      box-shadow: 0px 1px 2px rgba(60, 64, 67, 0.3), 0px 1px 3px 1px rgba(60, 64, 67, 0.15);\n",
              "      fill: #174EA6;\n",
              "    }\n",
              "\n",
              "    .colab-df-buttons div {\n",
              "      margin-bottom: 4px;\n",
              "    }\n",
              "\n",
              "    [theme=dark] .colab-df-convert {\n",
              "      background-color: #3B4455;\n",
              "      fill: #D2E3FC;\n",
              "    }\n",
              "\n",
              "    [theme=dark] .colab-df-convert:hover {\n",
              "      background-color: #434B5C;\n",
              "      box-shadow: 0px 1px 3px 1px rgba(0, 0, 0, 0.15);\n",
              "      filter: drop-shadow(0px 1px 2px rgba(0, 0, 0, 0.3));\n",
              "      fill: #FFFFFF;\n",
              "    }\n",
              "  </style>\n",
              "\n",
              "    <script>\n",
              "      const buttonEl =\n",
              "        document.querySelector('#df-e2a5ad19-ee6e-4199-8945-f306bbc69c6e button.colab-df-convert');\n",
              "      buttonEl.style.display =\n",
              "        google.colab.kernel.accessAllowed ? 'block' : 'none';\n",
              "\n",
              "      async function convertToInteractive(key) {\n",
              "        const element = document.querySelector('#df-e2a5ad19-ee6e-4199-8945-f306bbc69c6e');\n",
              "        const dataTable =\n",
              "          await google.colab.kernel.invokeFunction('convertToInteractive',\n",
              "                                                    [key], {});\n",
              "        if (!dataTable) return;\n",
              "\n",
              "        const docLinkHtml = 'Like what you see? Visit the ' +\n",
              "          '<a target=\"_blank\" href=https://colab.research.google.com/notebooks/data_table.ipynb>data table notebook</a>'\n",
              "          + ' to learn more about interactive tables.';\n",
              "        element.innerHTML = '';\n",
              "        dataTable['output_type'] = 'display_data';\n",
              "        await google.colab.output.renderOutput(dataTable, element);\n",
              "        const docLink = document.createElement('div');\n",
              "        docLink.innerHTML = docLinkHtml;\n",
              "        element.appendChild(docLink);\n",
              "      }\n",
              "    </script>\n",
              "  </div>\n",
              "\n",
              "\n",
              "<div id=\"df-edf9976c-8517-4fe4-9ea1-71b95a2be2ea\">\n",
              "  <button class=\"colab-df-quickchart\" onclick=\"quickchart('df-edf9976c-8517-4fe4-9ea1-71b95a2be2ea')\"\n",
              "            title=\"Suggest charts\"\n",
              "            style=\"display:none;\">\n",
              "\n",
              "<svg xmlns=\"http://www.w3.org/2000/svg\" height=\"24px\"viewBox=\"0 0 24 24\"\n",
              "     width=\"24px\">\n",
              "    <g>\n",
              "        <path d=\"M19 3H5c-1.1 0-2 .9-2 2v14c0 1.1.9 2 2 2h14c1.1 0 2-.9 2-2V5c0-1.1-.9-2-2-2zM9 17H7v-7h2v7zm4 0h-2V7h2v10zm4 0h-2v-4h2v4z\"/>\n",
              "    </g>\n",
              "</svg>\n",
              "  </button>\n",
              "\n",
              "<style>\n",
              "  .colab-df-quickchart {\n",
              "      --bg-color: #E8F0FE;\n",
              "      --fill-color: #1967D2;\n",
              "      --hover-bg-color: #E2EBFA;\n",
              "      --hover-fill-color: #174EA6;\n",
              "      --disabled-fill-color: #AAA;\n",
              "      --disabled-bg-color: #DDD;\n",
              "  }\n",
              "\n",
              "  [theme=dark] .colab-df-quickchart {\n",
              "      --bg-color: #3B4455;\n",
              "      --fill-color: #D2E3FC;\n",
              "      --hover-bg-color: #434B5C;\n",
              "      --hover-fill-color: #FFFFFF;\n",
              "      --disabled-bg-color: #3B4455;\n",
              "      --disabled-fill-color: #666;\n",
              "  }\n",
              "\n",
              "  .colab-df-quickchart {\n",
              "    background-color: var(--bg-color);\n",
              "    border: none;\n",
              "    border-radius: 50%;\n",
              "    cursor: pointer;\n",
              "    display: none;\n",
              "    fill: var(--fill-color);\n",
              "    height: 32px;\n",
              "    padding: 0;\n",
              "    width: 32px;\n",
              "  }\n",
              "\n",
              "  .colab-df-quickchart:hover {\n",
              "    background-color: var(--hover-bg-color);\n",
              "    box-shadow: 0 1px 2px rgba(60, 64, 67, 0.3), 0 1px 3px 1px rgba(60, 64, 67, 0.15);\n",
              "    fill: var(--button-hover-fill-color);\n",
              "  }\n",
              "\n",
              "  .colab-df-quickchart-complete:disabled,\n",
              "  .colab-df-quickchart-complete:disabled:hover {\n",
              "    background-color: var(--disabled-bg-color);\n",
              "    fill: var(--disabled-fill-color);\n",
              "    box-shadow: none;\n",
              "  }\n",
              "\n",
              "  .colab-df-spinner {\n",
              "    border: 2px solid var(--fill-color);\n",
              "    border-color: transparent;\n",
              "    border-bottom-color: var(--fill-color);\n",
              "    animation:\n",
              "      spin 1s steps(1) infinite;\n",
              "  }\n",
              "\n",
              "  @keyframes spin {\n",
              "    0% {\n",
              "      border-color: transparent;\n",
              "      border-bottom-color: var(--fill-color);\n",
              "      border-left-color: var(--fill-color);\n",
              "    }\n",
              "    20% {\n",
              "      border-color: transparent;\n",
              "      border-left-color: var(--fill-color);\n",
              "      border-top-color: var(--fill-color);\n",
              "    }\n",
              "    30% {\n",
              "      border-color: transparent;\n",
              "      border-left-color: var(--fill-color);\n",
              "      border-top-color: var(--fill-color);\n",
              "      border-right-color: var(--fill-color);\n",
              "    }\n",
              "    40% {\n",
              "      border-color: transparent;\n",
              "      border-right-color: var(--fill-color);\n",
              "      border-top-color: var(--fill-color);\n",
              "    }\n",
              "    60% {\n",
              "      border-color: transparent;\n",
              "      border-right-color: var(--fill-color);\n",
              "    }\n",
              "    80% {\n",
              "      border-color: transparent;\n",
              "      border-right-color: var(--fill-color);\n",
              "      border-bottom-color: var(--fill-color);\n",
              "    }\n",
              "    90% {\n",
              "      border-color: transparent;\n",
              "      border-bottom-color: var(--fill-color);\n",
              "    }\n",
              "  }\n",
              "</style>\n",
              "\n",
              "  <script>\n",
              "    async function quickchart(key) {\n",
              "      const quickchartButtonEl =\n",
              "        document.querySelector('#' + key + ' button');\n",
              "      quickchartButtonEl.disabled = true;  // To prevent multiple clicks.\n",
              "      quickchartButtonEl.classList.add('colab-df-spinner');\n",
              "      try {\n",
              "        const charts = await google.colab.kernel.invokeFunction(\n",
              "            'suggestCharts', [key], {});\n",
              "      } catch (error) {\n",
              "        console.error('Error during call to suggestCharts:', error);\n",
              "      }\n",
              "      quickchartButtonEl.classList.remove('colab-df-spinner');\n",
              "      quickchartButtonEl.classList.add('colab-df-quickchart-complete');\n",
              "    }\n",
              "    (() => {\n",
              "      let quickchartButtonEl =\n",
              "        document.querySelector('#df-edf9976c-8517-4fe4-9ea1-71b95a2be2ea button');\n",
              "      quickchartButtonEl.style.display =\n",
              "        google.colab.kernel.accessAllowed ? 'block' : 'none';\n",
              "    })();\n",
              "  </script>\n",
              "</div>\n",
              "    </div>\n",
              "  </div>\n"
            ],
            "application/vnd.google.colaboratory.intrinsic+json": {
              "type": "dataframe",
              "summary": "{\n  \"name\": \"df\",\n  \"rows\": 5,\n  \"fields\": [\n    {\n      \"column\": \"Price\",\n      \"properties\": {\n        \"dtype\": \"number\",\n        \"std\": 303093.4725872532,\n        \"min\": 1150000.0,\n        \"max\": 1939125.0,\n        \"num_unique_values\": 5,\n        \"samples\": [\n          1420000.0,\n          1939125.0,\n          1560000.0\n        ],\n        \"semantic_type\": \"\",\n        \"description\": \"\"\n      }\n    },\n    {\n      \"column\": \"Apartment type\",\n      \"properties\": {\n        \"dtype\": \"category\",\n        \"num_unique_values\": 2,\n        \"samples\": [\n          \"New building\",\n          \"Secondary\"\n        ],\n        \"semantic_type\": \"\",\n        \"description\": \"\"\n      }\n    },\n    {\n      \"column\": \"Metro station\",\n      \"properties\": {\n        \"dtype\": \"string\",\n        \"num_unique_values\": 4,\n        \"samples\": [\n          \"\\u041a\\u0443\\u0437\\u044c\\u043c\\u0438\\u043d\\u043a\\u0438\",\n          \"\\u0410\\u043b\\u043c\\u0430-\\u0410\\u0442\\u0438\\u043d\\u0441\\u043a\\u0430\\u044f\"\n        ],\n        \"semantic_type\": \"\",\n        \"description\": \"\"\n      }\n    },\n    {\n      \"column\": \"Minutes to metro\",\n      \"properties\": {\n        \"dtype\": \"number\",\n        \"std\": 7.615773105863909,\n        \"min\": 13.0,\n        \"max\": 32.0,\n        \"num_unique_values\": 4,\n        \"samples\": [\n          18.0,\n          13.0\n        ],\n        \"semantic_type\": \"\",\n        \"description\": \"\"\n      }\n    },\n    {\n      \"column\": \"Region\",\n      \"properties\": {\n        \"dtype\": \"category\",\n        \"num_unique_values\": 2,\n        \"samples\": [\n          \"Moscow region\",\n          \"Moscow\"\n        ],\n        \"semantic_type\": \"\",\n        \"description\": \"\"\n      }\n    },\n    {\n      \"column\": \"Number of rooms\",\n      \"properties\": {\n        \"dtype\": \"number\",\n        \"std\": 0.0,\n        \"min\": 0.0,\n        \"max\": 0.0,\n        \"num_unique_values\": 1,\n        \"samples\": [\n          0.0\n        ],\n        \"semantic_type\": \"\",\n        \"description\": \"\"\n      }\n    },\n    {\n      \"column\": \"Area\",\n      \"properties\": {\n        \"dtype\": \"number\",\n        \"std\": 4.296531158969989,\n        \"min\": 6.0,\n        \"max\": 16.97,\n        \"num_unique_values\": 5,\n        \"samples\": [\n          15.2\n        ],\n        \"semantic_type\": \"\",\n        \"description\": \"\"\n      }\n    },\n    {\n      \"column\": \"Living area\",\n      \"properties\": {\n        \"dtype\": \"number\",\n        \"std\": 2.6761913235043564,\n        \"min\": 5.2,\n        \"max\": 12.0,\n        \"num_unique_values\": 5,\n        \"samples\": [\n          11.0\n        ],\n        \"semantic_type\": \"\",\n        \"description\": \"\"\n      }\n    },\n    {\n      \"column\": \"Kitchen area\",\n      \"properties\": {\n        \"dtype\": \"number\",\n        \"std\": 0.367423461417477,\n        \"min\": 7.1,\n        \"max\": 8.0,\n        \"num_unique_values\": 4,\n        \"samples\": [\n          7.9\n        ],\n        \"semantic_type\": \"\",\n        \"description\": \"\"\n      }\n    },\n    {\n      \"column\": \"Floor\",\n      \"properties\": {\n        \"dtype\": \"number\",\n        \"std\": 4.827007354458868,\n        \"min\": 1.0,\n        \"max\": 12.0,\n        \"num_unique_values\": 3,\n        \"samples\": [\n          2.0\n        ],\n        \"semantic_type\": \"\",\n        \"description\": \"\"\n      }\n    },\n    {\n      \"column\": \"Number of floors\",\n      \"properties\": {\n        \"dtype\": \"number\",\n        \"std\": 6,\n        \"min\": 5,\n        \"max\": 18,\n        \"num_unique_values\": 4,\n        \"samples\": [\n          5\n        ],\n        \"semantic_type\": \"\",\n        \"description\": \"\"\n      }\n    },\n    {\n      \"column\": \"Renovation\",\n      \"properties\": {\n        \"dtype\": \"category\",\n        \"num_unique_values\": 2,\n        \"samples\": [\n          \"Cosmetic\"\n        ],\n        \"semantic_type\": \"\",\n        \"description\": \"\"\n      }\n    }\n  ]\n}"
            }
          },
          "metadata": {},
          "execution_count": 241
        }
      ]
    },
    {
      "cell_type": "code",
      "source": [
        "df.sort_values(by='Price', ascending=False).head()"
      ],
      "metadata": {
        "colab": {
          "base_uri": "https://localhost:8080/",
          "height": 275
        },
        "id": "iHN-Z3QHdmSC",
        "outputId": "65dad747-0797-4d4c-ce69-501b474691d0"
      },
      "execution_count": null,
      "outputs": [
        {
          "output_type": "execute_result",
          "data": {
            "text/plain": [
              "                 Price Apartment type       Metro station  Minutes to metro  \\\n",
              "4090  2,455,020,000.00      Secondary          Маяковская              1.00   \n",
              "12840 1,732,170,825.00      Secondary         Охотный ряд              7.00   \n",
              "9804  1,517,997,000.00      Secondary       Парк культуры              8.00   \n",
              "3897  1,475,430,000.00      Secondary   Площадь Революции              0.00   \n",
              "9677  1,422,120,000.00      Secondary          Боровицкая             14.00   \n",
              "\n",
              "       Region  Number of rooms     Area  Living area  Kitchen area  Floor  \\\n",
              "4090   Moscow             6.00 1,067.40       541.80         95.00   9.00   \n",
              "12840  Moscow             0.00   719.00       300.00         50.00   5.00   \n",
              "9804   Moscow             6.00   584.10       297.40         55.00   5.00   \n",
              "3897   Moscow             5.00   657.50       334.50         61.00   1.00   \n",
              "9677   Moscow             5.00   508.00       225.00         25.00   4.00   \n",
              "\n",
              "       Number of floors          Renovation  \n",
              "4090                  9            Designer  \n",
              "12840                 5  Without renovation  \n",
              "9804                  5            Designer  \n",
              "3897                  5            Designer  \n",
              "9677                  4  Without renovation  "
            ],
            "text/html": [
              "\n",
              "  <div id=\"df-4f993cc5-c79b-4c71-8875-08629c27944d\" class=\"colab-df-container\">\n",
              "    <div>\n",
              "<style scoped>\n",
              "    .dataframe tbody tr th:only-of-type {\n",
              "        vertical-align: middle;\n",
              "    }\n",
              "\n",
              "    .dataframe tbody tr th {\n",
              "        vertical-align: top;\n",
              "    }\n",
              "\n",
              "    .dataframe thead th {\n",
              "        text-align: right;\n",
              "    }\n",
              "</style>\n",
              "<table border=\"1\" class=\"dataframe\">\n",
              "  <thead>\n",
              "    <tr style=\"text-align: right;\">\n",
              "      <th></th>\n",
              "      <th>Price</th>\n",
              "      <th>Apartment type</th>\n",
              "      <th>Metro station</th>\n",
              "      <th>Minutes to metro</th>\n",
              "      <th>Region</th>\n",
              "      <th>Number of rooms</th>\n",
              "      <th>Area</th>\n",
              "      <th>Living area</th>\n",
              "      <th>Kitchen area</th>\n",
              "      <th>Floor</th>\n",
              "      <th>Number of floors</th>\n",
              "      <th>Renovation</th>\n",
              "    </tr>\n",
              "  </thead>\n",
              "  <tbody>\n",
              "    <tr>\n",
              "      <th>4090</th>\n",
              "      <td>2,455,020,000.00</td>\n",
              "      <td>Secondary</td>\n",
              "      <td>Маяковская</td>\n",
              "      <td>1.00</td>\n",
              "      <td>Moscow</td>\n",
              "      <td>6.00</td>\n",
              "      <td>1,067.40</td>\n",
              "      <td>541.80</td>\n",
              "      <td>95.00</td>\n",
              "      <td>9.00</td>\n",
              "      <td>9</td>\n",
              "      <td>Designer</td>\n",
              "    </tr>\n",
              "    <tr>\n",
              "      <th>12840</th>\n",
              "      <td>1,732,170,825.00</td>\n",
              "      <td>Secondary</td>\n",
              "      <td>Охотный ряд</td>\n",
              "      <td>7.00</td>\n",
              "      <td>Moscow</td>\n",
              "      <td>0.00</td>\n",
              "      <td>719.00</td>\n",
              "      <td>300.00</td>\n",
              "      <td>50.00</td>\n",
              "      <td>5.00</td>\n",
              "      <td>5</td>\n",
              "      <td>Without renovation</td>\n",
              "    </tr>\n",
              "    <tr>\n",
              "      <th>9804</th>\n",
              "      <td>1,517,997,000.00</td>\n",
              "      <td>Secondary</td>\n",
              "      <td>Парк культуры</td>\n",
              "      <td>8.00</td>\n",
              "      <td>Moscow</td>\n",
              "      <td>6.00</td>\n",
              "      <td>584.10</td>\n",
              "      <td>297.40</td>\n",
              "      <td>55.00</td>\n",
              "      <td>5.00</td>\n",
              "      <td>5</td>\n",
              "      <td>Designer</td>\n",
              "    </tr>\n",
              "    <tr>\n",
              "      <th>3897</th>\n",
              "      <td>1,475,430,000.00</td>\n",
              "      <td>Secondary</td>\n",
              "      <td>Площадь Революции</td>\n",
              "      <td>0.00</td>\n",
              "      <td>Moscow</td>\n",
              "      <td>5.00</td>\n",
              "      <td>657.50</td>\n",
              "      <td>334.50</td>\n",
              "      <td>61.00</td>\n",
              "      <td>1.00</td>\n",
              "      <td>5</td>\n",
              "      <td>Designer</td>\n",
              "    </tr>\n",
              "    <tr>\n",
              "      <th>9677</th>\n",
              "      <td>1,422,120,000.00</td>\n",
              "      <td>Secondary</td>\n",
              "      <td>Боровицкая</td>\n",
              "      <td>14.00</td>\n",
              "      <td>Moscow</td>\n",
              "      <td>5.00</td>\n",
              "      <td>508.00</td>\n",
              "      <td>225.00</td>\n",
              "      <td>25.00</td>\n",
              "      <td>4.00</td>\n",
              "      <td>4</td>\n",
              "      <td>Without renovation</td>\n",
              "    </tr>\n",
              "  </tbody>\n",
              "</table>\n",
              "</div>\n",
              "    <div class=\"colab-df-buttons\">\n",
              "\n",
              "  <div class=\"colab-df-container\">\n",
              "    <button class=\"colab-df-convert\" onclick=\"convertToInteractive('df-4f993cc5-c79b-4c71-8875-08629c27944d')\"\n",
              "            title=\"Convert this dataframe to an interactive table.\"\n",
              "            style=\"display:none;\">\n",
              "\n",
              "  <svg xmlns=\"http://www.w3.org/2000/svg\" height=\"24px\" viewBox=\"0 -960 960 960\">\n",
              "    <path d=\"M120-120v-720h720v720H120Zm60-500h600v-160H180v160Zm220 220h160v-160H400v160Zm0 220h160v-160H400v160ZM180-400h160v-160H180v160Zm440 0h160v-160H620v160ZM180-180h160v-160H180v160Zm440 0h160v-160H620v160Z\"/>\n",
              "  </svg>\n",
              "    </button>\n",
              "\n",
              "  <style>\n",
              "    .colab-df-container {\n",
              "      display:flex;\n",
              "      gap: 12px;\n",
              "    }\n",
              "\n",
              "    .colab-df-convert {\n",
              "      background-color: #E8F0FE;\n",
              "      border: none;\n",
              "      border-radius: 50%;\n",
              "      cursor: pointer;\n",
              "      display: none;\n",
              "      fill: #1967D2;\n",
              "      height: 32px;\n",
              "      padding: 0 0 0 0;\n",
              "      width: 32px;\n",
              "    }\n",
              "\n",
              "    .colab-df-convert:hover {\n",
              "      background-color: #E2EBFA;\n",
              "      box-shadow: 0px 1px 2px rgba(60, 64, 67, 0.3), 0px 1px 3px 1px rgba(60, 64, 67, 0.15);\n",
              "      fill: #174EA6;\n",
              "    }\n",
              "\n",
              "    .colab-df-buttons div {\n",
              "      margin-bottom: 4px;\n",
              "    }\n",
              "\n",
              "    [theme=dark] .colab-df-convert {\n",
              "      background-color: #3B4455;\n",
              "      fill: #D2E3FC;\n",
              "    }\n",
              "\n",
              "    [theme=dark] .colab-df-convert:hover {\n",
              "      background-color: #434B5C;\n",
              "      box-shadow: 0px 1px 3px 1px rgba(0, 0, 0, 0.15);\n",
              "      filter: drop-shadow(0px 1px 2px rgba(0, 0, 0, 0.3));\n",
              "      fill: #FFFFFF;\n",
              "    }\n",
              "  </style>\n",
              "\n",
              "    <script>\n",
              "      const buttonEl =\n",
              "        document.querySelector('#df-4f993cc5-c79b-4c71-8875-08629c27944d button.colab-df-convert');\n",
              "      buttonEl.style.display =\n",
              "        google.colab.kernel.accessAllowed ? 'block' : 'none';\n",
              "\n",
              "      async function convertToInteractive(key) {\n",
              "        const element = document.querySelector('#df-4f993cc5-c79b-4c71-8875-08629c27944d');\n",
              "        const dataTable =\n",
              "          await google.colab.kernel.invokeFunction('convertToInteractive',\n",
              "                                                    [key], {});\n",
              "        if (!dataTable) return;\n",
              "\n",
              "        const docLinkHtml = 'Like what you see? Visit the ' +\n",
              "          '<a target=\"_blank\" href=https://colab.research.google.com/notebooks/data_table.ipynb>data table notebook</a>'\n",
              "          + ' to learn more about interactive tables.';\n",
              "        element.innerHTML = '';\n",
              "        dataTable['output_type'] = 'display_data';\n",
              "        await google.colab.output.renderOutput(dataTable, element);\n",
              "        const docLink = document.createElement('div');\n",
              "        docLink.innerHTML = docLinkHtml;\n",
              "        element.appendChild(docLink);\n",
              "      }\n",
              "    </script>\n",
              "  </div>\n",
              "\n",
              "\n",
              "<div id=\"df-a03cf96c-fc08-479f-9ecf-6a8e784b0482\">\n",
              "  <button class=\"colab-df-quickchart\" onclick=\"quickchart('df-a03cf96c-fc08-479f-9ecf-6a8e784b0482')\"\n",
              "            title=\"Suggest charts\"\n",
              "            style=\"display:none;\">\n",
              "\n",
              "<svg xmlns=\"http://www.w3.org/2000/svg\" height=\"24px\"viewBox=\"0 0 24 24\"\n",
              "     width=\"24px\">\n",
              "    <g>\n",
              "        <path d=\"M19 3H5c-1.1 0-2 .9-2 2v14c0 1.1.9 2 2 2h14c1.1 0 2-.9 2-2V5c0-1.1-.9-2-2-2zM9 17H7v-7h2v7zm4 0h-2V7h2v10zm4 0h-2v-4h2v4z\"/>\n",
              "    </g>\n",
              "</svg>\n",
              "  </button>\n",
              "\n",
              "<style>\n",
              "  .colab-df-quickchart {\n",
              "      --bg-color: #E8F0FE;\n",
              "      --fill-color: #1967D2;\n",
              "      --hover-bg-color: #E2EBFA;\n",
              "      --hover-fill-color: #174EA6;\n",
              "      --disabled-fill-color: #AAA;\n",
              "      --disabled-bg-color: #DDD;\n",
              "  }\n",
              "\n",
              "  [theme=dark] .colab-df-quickchart {\n",
              "      --bg-color: #3B4455;\n",
              "      --fill-color: #D2E3FC;\n",
              "      --hover-bg-color: #434B5C;\n",
              "      --hover-fill-color: #FFFFFF;\n",
              "      --disabled-bg-color: #3B4455;\n",
              "      --disabled-fill-color: #666;\n",
              "  }\n",
              "\n",
              "  .colab-df-quickchart {\n",
              "    background-color: var(--bg-color);\n",
              "    border: none;\n",
              "    border-radius: 50%;\n",
              "    cursor: pointer;\n",
              "    display: none;\n",
              "    fill: var(--fill-color);\n",
              "    height: 32px;\n",
              "    padding: 0;\n",
              "    width: 32px;\n",
              "  }\n",
              "\n",
              "  .colab-df-quickchart:hover {\n",
              "    background-color: var(--hover-bg-color);\n",
              "    box-shadow: 0 1px 2px rgba(60, 64, 67, 0.3), 0 1px 3px 1px rgba(60, 64, 67, 0.15);\n",
              "    fill: var(--button-hover-fill-color);\n",
              "  }\n",
              "\n",
              "  .colab-df-quickchart-complete:disabled,\n",
              "  .colab-df-quickchart-complete:disabled:hover {\n",
              "    background-color: var(--disabled-bg-color);\n",
              "    fill: var(--disabled-fill-color);\n",
              "    box-shadow: none;\n",
              "  }\n",
              "\n",
              "  .colab-df-spinner {\n",
              "    border: 2px solid var(--fill-color);\n",
              "    border-color: transparent;\n",
              "    border-bottom-color: var(--fill-color);\n",
              "    animation:\n",
              "      spin 1s steps(1) infinite;\n",
              "  }\n",
              "\n",
              "  @keyframes spin {\n",
              "    0% {\n",
              "      border-color: transparent;\n",
              "      border-bottom-color: var(--fill-color);\n",
              "      border-left-color: var(--fill-color);\n",
              "    }\n",
              "    20% {\n",
              "      border-color: transparent;\n",
              "      border-left-color: var(--fill-color);\n",
              "      border-top-color: var(--fill-color);\n",
              "    }\n",
              "    30% {\n",
              "      border-color: transparent;\n",
              "      border-left-color: var(--fill-color);\n",
              "      border-top-color: var(--fill-color);\n",
              "      border-right-color: var(--fill-color);\n",
              "    }\n",
              "    40% {\n",
              "      border-color: transparent;\n",
              "      border-right-color: var(--fill-color);\n",
              "      border-top-color: var(--fill-color);\n",
              "    }\n",
              "    60% {\n",
              "      border-color: transparent;\n",
              "      border-right-color: var(--fill-color);\n",
              "    }\n",
              "    80% {\n",
              "      border-color: transparent;\n",
              "      border-right-color: var(--fill-color);\n",
              "      border-bottom-color: var(--fill-color);\n",
              "    }\n",
              "    90% {\n",
              "      border-color: transparent;\n",
              "      border-bottom-color: var(--fill-color);\n",
              "    }\n",
              "  }\n",
              "</style>\n",
              "\n",
              "  <script>\n",
              "    async function quickchart(key) {\n",
              "      const quickchartButtonEl =\n",
              "        document.querySelector('#' + key + ' button');\n",
              "      quickchartButtonEl.disabled = true;  // To prevent multiple clicks.\n",
              "      quickchartButtonEl.classList.add('colab-df-spinner');\n",
              "      try {\n",
              "        const charts = await google.colab.kernel.invokeFunction(\n",
              "            'suggestCharts', [key], {});\n",
              "      } catch (error) {\n",
              "        console.error('Error during call to suggestCharts:', error);\n",
              "      }\n",
              "      quickchartButtonEl.classList.remove('colab-df-spinner');\n",
              "      quickchartButtonEl.classList.add('colab-df-quickchart-complete');\n",
              "    }\n",
              "    (() => {\n",
              "      let quickchartButtonEl =\n",
              "        document.querySelector('#df-a03cf96c-fc08-479f-9ecf-6a8e784b0482 button');\n",
              "      quickchartButtonEl.style.display =\n",
              "        google.colab.kernel.accessAllowed ? 'block' : 'none';\n",
              "    })();\n",
              "  </script>\n",
              "</div>\n",
              "    </div>\n",
              "  </div>\n"
            ],
            "application/vnd.google.colaboratory.intrinsic+json": {
              "type": "dataframe",
              "summary": "{\n  \"name\": \"df\",\n  \"rows\": 5,\n  \"fields\": [\n    {\n      \"column\": \"Price\",\n      \"properties\": {\n        \"dtype\": \"number\",\n        \"std\": 427127973.08097094,\n        \"min\": 1422120000.0,\n        \"max\": 2455020000.0,\n        \"num_unique_values\": 5,\n        \"samples\": [\n          1732170825.0,\n          1422120000.0,\n          1517997000.0\n        ],\n        \"semantic_type\": \"\",\n        \"description\": \"\"\n      }\n    },\n    {\n      \"column\": \"Apartment type\",\n      \"properties\": {\n        \"dtype\": \"category\",\n        \"num_unique_values\": 1,\n        \"samples\": [\n          \"Secondary\"\n        ],\n        \"semantic_type\": \"\",\n        \"description\": \"\"\n      }\n    },\n    {\n      \"column\": \"Metro station\",\n      \"properties\": {\n        \"dtype\": \"string\",\n        \"num_unique_values\": 5,\n        \"samples\": [\n          \"\\u041e\\u0445\\u043e\\u0442\\u043d\\u044b\\u0439 \\u0440\\u044f\\u0434\"\n        ],\n        \"semantic_type\": \"\",\n        \"description\": \"\"\n      }\n    },\n    {\n      \"column\": \"Minutes to metro\",\n      \"properties\": {\n        \"dtype\": \"number\",\n        \"std\": 5.70087712549569,\n        \"min\": 0.0,\n        \"max\": 14.0,\n        \"num_unique_values\": 5,\n        \"samples\": [\n          7.0\n        ],\n        \"semantic_type\": \"\",\n        \"description\": \"\"\n      }\n    },\n    {\n      \"column\": \"Region\",\n      \"properties\": {\n        \"dtype\": \"category\",\n        \"num_unique_values\": 1,\n        \"samples\": [\n          \"Moscow\"\n        ],\n        \"semantic_type\": \"\",\n        \"description\": \"\"\n      }\n    },\n    {\n      \"column\": \"Number of rooms\",\n      \"properties\": {\n        \"dtype\": \"number\",\n        \"std\": 2.5099800796022267,\n        \"min\": 0.0,\n        \"max\": 6.0,\n        \"num_unique_values\": 3,\n        \"samples\": [\n          6.0\n        ],\n        \"semantic_type\": \"\",\n        \"description\": \"\"\n      }\n    },\n    {\n      \"column\": \"Area\",\n      \"properties\": {\n        \"dtype\": \"number\",\n        \"std\": 216.32592308828828,\n        \"min\": 508.0,\n        \"max\": 1067.4,\n        \"num_unique_values\": 5,\n        \"samples\": [\n          719.0\n        ],\n        \"semantic_type\": \"\",\n        \"description\": \"\"\n      }\n    },\n    {\n      \"column\": \"Living area\",\n      \"properties\": {\n        \"dtype\": \"number\",\n        \"std\": 119.78408909366884,\n        \"min\": 225.0,\n        \"max\": 541.8,\n        \"num_unique_values\": 5,\n        \"samples\": [\n          300.0\n        ],\n        \"semantic_type\": \"\",\n        \"description\": \"\"\n      }\n    },\n    {\n      \"column\": \"Kitchen area\",\n      \"properties\": {\n        \"dtype\": \"number\",\n        \"std\": 25.183327818221326,\n        \"min\": 25.0,\n        \"max\": 95.0,\n        \"num_unique_values\": 5,\n        \"samples\": [\n          50.0\n        ],\n        \"semantic_type\": \"\",\n        \"description\": \"\"\n      }\n    },\n    {\n      \"column\": \"Floor\",\n      \"properties\": {\n        \"dtype\": \"number\",\n        \"std\": 2.8635642126552705,\n        \"min\": 1.0,\n        \"max\": 9.0,\n        \"num_unique_values\": 4,\n        \"samples\": [\n          5.0\n        ],\n        \"semantic_type\": \"\",\n        \"description\": \"\"\n      }\n    },\n    {\n      \"column\": \"Number of floors\",\n      \"properties\": {\n        \"dtype\": \"number\",\n        \"std\": 1,\n        \"min\": 4,\n        \"max\": 9,\n        \"num_unique_values\": 3,\n        \"samples\": [\n          9\n        ],\n        \"semantic_type\": \"\",\n        \"description\": \"\"\n      }\n    },\n    {\n      \"column\": \"Renovation\",\n      \"properties\": {\n        \"dtype\": \"category\",\n        \"num_unique_values\": 2,\n        \"samples\": [\n          \"Without renovation\"\n        ],\n        \"semantic_type\": \"\",\n        \"description\": \"\"\n      }\n    }\n  ]\n}"
            }
          },
          "metadata": {},
          "execution_count": 242
        }
      ]
    },
    {
      "cell_type": "code",
      "source": [
        "df.sort_values(by=['Price', 'Number of rooms'], ascending=[True, False]).head()"
      ],
      "metadata": {
        "colab": {
          "base_uri": "https://localhost:8080/",
          "height": 206
        },
        "id": "tei8vXUjdqGb",
        "outputId": "97fb6619-52f8-4193-fb9d-a9dead4c7ba1"
      },
      "execution_count": null,
      "outputs": [
        {
          "output_type": "execute_result",
          "data": {
            "text/plain": [
              "             Price Apartment type  Metro station  Minutes to metro  \\\n",
              "13027 1,150,000.00      Secondary     Покровское             32.00   \n",
              "12989 1,420,000.00      Secondary      Кузьминки             18.00   \n",
              "12863 1,560,000.00      Secondary      Кузьминки             18.00   \n",
              "12807 1,750,000.00      Secondary    Университет             14.00   \n",
              "17951 1,939,125.00   New building  Алма-Атинская             13.00   \n",
              "\n",
              "              Region  Number of rooms  Area  Living area  Kitchen area  Floor  \\\n",
              "13027         Moscow             0.00  6.00         5.20          7.10   2.00   \n",
              "12989         Moscow             0.00 15.20        11.00          7.90   1.00   \n",
              "12863         Moscow             0.00 12.00         9.00          7.60   1.00   \n",
              "12807         Moscow             0.00 14.80        12.00          7.90   1.00   \n",
              "17951  Moscow region             0.00 16.97        10.70          8.00  14.00   \n",
              "\n",
              "       Number of floors          Renovation  \n",
              "13027                18  Without renovation  \n",
              "12989                 5  Without renovation  \n",
              "12863                 5  Without renovation  \n",
              "12807                 9            Cosmetic  \n",
              "17951                16            Cosmetic  "
            ],
            "text/html": [
              "\n",
              "  <div id=\"df-8d22c1f8-ced9-4e2d-8f4a-bc978f85ddfc\" class=\"colab-df-container\">\n",
              "    <div>\n",
              "<style scoped>\n",
              "    .dataframe tbody tr th:only-of-type {\n",
              "        vertical-align: middle;\n",
              "    }\n",
              "\n",
              "    .dataframe tbody tr th {\n",
              "        vertical-align: top;\n",
              "    }\n",
              "\n",
              "    .dataframe thead th {\n",
              "        text-align: right;\n",
              "    }\n",
              "</style>\n",
              "<table border=\"1\" class=\"dataframe\">\n",
              "  <thead>\n",
              "    <tr style=\"text-align: right;\">\n",
              "      <th></th>\n",
              "      <th>Price</th>\n",
              "      <th>Apartment type</th>\n",
              "      <th>Metro station</th>\n",
              "      <th>Minutes to metro</th>\n",
              "      <th>Region</th>\n",
              "      <th>Number of rooms</th>\n",
              "      <th>Area</th>\n",
              "      <th>Living area</th>\n",
              "      <th>Kitchen area</th>\n",
              "      <th>Floor</th>\n",
              "      <th>Number of floors</th>\n",
              "      <th>Renovation</th>\n",
              "    </tr>\n",
              "  </thead>\n",
              "  <tbody>\n",
              "    <tr>\n",
              "      <th>13027</th>\n",
              "      <td>1,150,000.00</td>\n",
              "      <td>Secondary</td>\n",
              "      <td>Покровское</td>\n",
              "      <td>32.00</td>\n",
              "      <td>Moscow</td>\n",
              "      <td>0.00</td>\n",
              "      <td>6.00</td>\n",
              "      <td>5.20</td>\n",
              "      <td>7.10</td>\n",
              "      <td>2.00</td>\n",
              "      <td>18</td>\n",
              "      <td>Without renovation</td>\n",
              "    </tr>\n",
              "    <tr>\n",
              "      <th>12989</th>\n",
              "      <td>1,420,000.00</td>\n",
              "      <td>Secondary</td>\n",
              "      <td>Кузьминки</td>\n",
              "      <td>18.00</td>\n",
              "      <td>Moscow</td>\n",
              "      <td>0.00</td>\n",
              "      <td>15.20</td>\n",
              "      <td>11.00</td>\n",
              "      <td>7.90</td>\n",
              "      <td>1.00</td>\n",
              "      <td>5</td>\n",
              "      <td>Without renovation</td>\n",
              "    </tr>\n",
              "    <tr>\n",
              "      <th>12863</th>\n",
              "      <td>1,560,000.00</td>\n",
              "      <td>Secondary</td>\n",
              "      <td>Кузьминки</td>\n",
              "      <td>18.00</td>\n",
              "      <td>Moscow</td>\n",
              "      <td>0.00</td>\n",
              "      <td>12.00</td>\n",
              "      <td>9.00</td>\n",
              "      <td>7.60</td>\n",
              "      <td>1.00</td>\n",
              "      <td>5</td>\n",
              "      <td>Without renovation</td>\n",
              "    </tr>\n",
              "    <tr>\n",
              "      <th>12807</th>\n",
              "      <td>1,750,000.00</td>\n",
              "      <td>Secondary</td>\n",
              "      <td>Университет</td>\n",
              "      <td>14.00</td>\n",
              "      <td>Moscow</td>\n",
              "      <td>0.00</td>\n",
              "      <td>14.80</td>\n",
              "      <td>12.00</td>\n",
              "      <td>7.90</td>\n",
              "      <td>1.00</td>\n",
              "      <td>9</td>\n",
              "      <td>Cosmetic</td>\n",
              "    </tr>\n",
              "    <tr>\n",
              "      <th>17951</th>\n",
              "      <td>1,939,125.00</td>\n",
              "      <td>New building</td>\n",
              "      <td>Алма-Атинская</td>\n",
              "      <td>13.00</td>\n",
              "      <td>Moscow region</td>\n",
              "      <td>0.00</td>\n",
              "      <td>16.97</td>\n",
              "      <td>10.70</td>\n",
              "      <td>8.00</td>\n",
              "      <td>14.00</td>\n",
              "      <td>16</td>\n",
              "      <td>Cosmetic</td>\n",
              "    </tr>\n",
              "  </tbody>\n",
              "</table>\n",
              "</div>\n",
              "    <div class=\"colab-df-buttons\">\n",
              "\n",
              "  <div class=\"colab-df-container\">\n",
              "    <button class=\"colab-df-convert\" onclick=\"convertToInteractive('df-8d22c1f8-ced9-4e2d-8f4a-bc978f85ddfc')\"\n",
              "            title=\"Convert this dataframe to an interactive table.\"\n",
              "            style=\"display:none;\">\n",
              "\n",
              "  <svg xmlns=\"http://www.w3.org/2000/svg\" height=\"24px\" viewBox=\"0 -960 960 960\">\n",
              "    <path d=\"M120-120v-720h720v720H120Zm60-500h600v-160H180v160Zm220 220h160v-160H400v160Zm0 220h160v-160H400v160ZM180-400h160v-160H180v160Zm440 0h160v-160H620v160ZM180-180h160v-160H180v160Zm440 0h160v-160H620v160Z\"/>\n",
              "  </svg>\n",
              "    </button>\n",
              "\n",
              "  <style>\n",
              "    .colab-df-container {\n",
              "      display:flex;\n",
              "      gap: 12px;\n",
              "    }\n",
              "\n",
              "    .colab-df-convert {\n",
              "      background-color: #E8F0FE;\n",
              "      border: none;\n",
              "      border-radius: 50%;\n",
              "      cursor: pointer;\n",
              "      display: none;\n",
              "      fill: #1967D2;\n",
              "      height: 32px;\n",
              "      padding: 0 0 0 0;\n",
              "      width: 32px;\n",
              "    }\n",
              "\n",
              "    .colab-df-convert:hover {\n",
              "      background-color: #E2EBFA;\n",
              "      box-shadow: 0px 1px 2px rgba(60, 64, 67, 0.3), 0px 1px 3px 1px rgba(60, 64, 67, 0.15);\n",
              "      fill: #174EA6;\n",
              "    }\n",
              "\n",
              "    .colab-df-buttons div {\n",
              "      margin-bottom: 4px;\n",
              "    }\n",
              "\n",
              "    [theme=dark] .colab-df-convert {\n",
              "      background-color: #3B4455;\n",
              "      fill: #D2E3FC;\n",
              "    }\n",
              "\n",
              "    [theme=dark] .colab-df-convert:hover {\n",
              "      background-color: #434B5C;\n",
              "      box-shadow: 0px 1px 3px 1px rgba(0, 0, 0, 0.15);\n",
              "      filter: drop-shadow(0px 1px 2px rgba(0, 0, 0, 0.3));\n",
              "      fill: #FFFFFF;\n",
              "    }\n",
              "  </style>\n",
              "\n",
              "    <script>\n",
              "      const buttonEl =\n",
              "        document.querySelector('#df-8d22c1f8-ced9-4e2d-8f4a-bc978f85ddfc button.colab-df-convert');\n",
              "      buttonEl.style.display =\n",
              "        google.colab.kernel.accessAllowed ? 'block' : 'none';\n",
              "\n",
              "      async function convertToInteractive(key) {\n",
              "        const element = document.querySelector('#df-8d22c1f8-ced9-4e2d-8f4a-bc978f85ddfc');\n",
              "        const dataTable =\n",
              "          await google.colab.kernel.invokeFunction('convertToInteractive',\n",
              "                                                    [key], {});\n",
              "        if (!dataTable) return;\n",
              "\n",
              "        const docLinkHtml = 'Like what you see? Visit the ' +\n",
              "          '<a target=\"_blank\" href=https://colab.research.google.com/notebooks/data_table.ipynb>data table notebook</a>'\n",
              "          + ' to learn more about interactive tables.';\n",
              "        element.innerHTML = '';\n",
              "        dataTable['output_type'] = 'display_data';\n",
              "        await google.colab.output.renderOutput(dataTable, element);\n",
              "        const docLink = document.createElement('div');\n",
              "        docLink.innerHTML = docLinkHtml;\n",
              "        element.appendChild(docLink);\n",
              "      }\n",
              "    </script>\n",
              "  </div>\n",
              "\n",
              "\n",
              "<div id=\"df-f0cf4dba-d55f-46d8-82d3-30e605a2be22\">\n",
              "  <button class=\"colab-df-quickchart\" onclick=\"quickchart('df-f0cf4dba-d55f-46d8-82d3-30e605a2be22')\"\n",
              "            title=\"Suggest charts\"\n",
              "            style=\"display:none;\">\n",
              "\n",
              "<svg xmlns=\"http://www.w3.org/2000/svg\" height=\"24px\"viewBox=\"0 0 24 24\"\n",
              "     width=\"24px\">\n",
              "    <g>\n",
              "        <path d=\"M19 3H5c-1.1 0-2 .9-2 2v14c0 1.1.9 2 2 2h14c1.1 0 2-.9 2-2V5c0-1.1-.9-2-2-2zM9 17H7v-7h2v7zm4 0h-2V7h2v10zm4 0h-2v-4h2v4z\"/>\n",
              "    </g>\n",
              "</svg>\n",
              "  </button>\n",
              "\n",
              "<style>\n",
              "  .colab-df-quickchart {\n",
              "      --bg-color: #E8F0FE;\n",
              "      --fill-color: #1967D2;\n",
              "      --hover-bg-color: #E2EBFA;\n",
              "      --hover-fill-color: #174EA6;\n",
              "      --disabled-fill-color: #AAA;\n",
              "      --disabled-bg-color: #DDD;\n",
              "  }\n",
              "\n",
              "  [theme=dark] .colab-df-quickchart {\n",
              "      --bg-color: #3B4455;\n",
              "      --fill-color: #D2E3FC;\n",
              "      --hover-bg-color: #434B5C;\n",
              "      --hover-fill-color: #FFFFFF;\n",
              "      --disabled-bg-color: #3B4455;\n",
              "      --disabled-fill-color: #666;\n",
              "  }\n",
              "\n",
              "  .colab-df-quickchart {\n",
              "    background-color: var(--bg-color);\n",
              "    border: none;\n",
              "    border-radius: 50%;\n",
              "    cursor: pointer;\n",
              "    display: none;\n",
              "    fill: var(--fill-color);\n",
              "    height: 32px;\n",
              "    padding: 0;\n",
              "    width: 32px;\n",
              "  }\n",
              "\n",
              "  .colab-df-quickchart:hover {\n",
              "    background-color: var(--hover-bg-color);\n",
              "    box-shadow: 0 1px 2px rgba(60, 64, 67, 0.3), 0 1px 3px 1px rgba(60, 64, 67, 0.15);\n",
              "    fill: var(--button-hover-fill-color);\n",
              "  }\n",
              "\n",
              "  .colab-df-quickchart-complete:disabled,\n",
              "  .colab-df-quickchart-complete:disabled:hover {\n",
              "    background-color: var(--disabled-bg-color);\n",
              "    fill: var(--disabled-fill-color);\n",
              "    box-shadow: none;\n",
              "  }\n",
              "\n",
              "  .colab-df-spinner {\n",
              "    border: 2px solid var(--fill-color);\n",
              "    border-color: transparent;\n",
              "    border-bottom-color: var(--fill-color);\n",
              "    animation:\n",
              "      spin 1s steps(1) infinite;\n",
              "  }\n",
              "\n",
              "  @keyframes spin {\n",
              "    0% {\n",
              "      border-color: transparent;\n",
              "      border-bottom-color: var(--fill-color);\n",
              "      border-left-color: var(--fill-color);\n",
              "    }\n",
              "    20% {\n",
              "      border-color: transparent;\n",
              "      border-left-color: var(--fill-color);\n",
              "      border-top-color: var(--fill-color);\n",
              "    }\n",
              "    30% {\n",
              "      border-color: transparent;\n",
              "      border-left-color: var(--fill-color);\n",
              "      border-top-color: var(--fill-color);\n",
              "      border-right-color: var(--fill-color);\n",
              "    }\n",
              "    40% {\n",
              "      border-color: transparent;\n",
              "      border-right-color: var(--fill-color);\n",
              "      border-top-color: var(--fill-color);\n",
              "    }\n",
              "    60% {\n",
              "      border-color: transparent;\n",
              "      border-right-color: var(--fill-color);\n",
              "    }\n",
              "    80% {\n",
              "      border-color: transparent;\n",
              "      border-right-color: var(--fill-color);\n",
              "      border-bottom-color: var(--fill-color);\n",
              "    }\n",
              "    90% {\n",
              "      border-color: transparent;\n",
              "      border-bottom-color: var(--fill-color);\n",
              "    }\n",
              "  }\n",
              "</style>\n",
              "\n",
              "  <script>\n",
              "    async function quickchart(key) {\n",
              "      const quickchartButtonEl =\n",
              "        document.querySelector('#' + key + ' button');\n",
              "      quickchartButtonEl.disabled = true;  // To prevent multiple clicks.\n",
              "      quickchartButtonEl.classList.add('colab-df-spinner');\n",
              "      try {\n",
              "        const charts = await google.colab.kernel.invokeFunction(\n",
              "            'suggestCharts', [key], {});\n",
              "      } catch (error) {\n",
              "        console.error('Error during call to suggestCharts:', error);\n",
              "      }\n",
              "      quickchartButtonEl.classList.remove('colab-df-spinner');\n",
              "      quickchartButtonEl.classList.add('colab-df-quickchart-complete');\n",
              "    }\n",
              "    (() => {\n",
              "      let quickchartButtonEl =\n",
              "        document.querySelector('#df-f0cf4dba-d55f-46d8-82d3-30e605a2be22 button');\n",
              "      quickchartButtonEl.style.display =\n",
              "        google.colab.kernel.accessAllowed ? 'block' : 'none';\n",
              "    })();\n",
              "  </script>\n",
              "</div>\n",
              "    </div>\n",
              "  </div>\n"
            ],
            "application/vnd.google.colaboratory.intrinsic+json": {
              "type": "dataframe",
              "summary": "{\n  \"name\": \"df\",\n  \"rows\": 5,\n  \"fields\": [\n    {\n      \"column\": \"Price\",\n      \"properties\": {\n        \"dtype\": \"number\",\n        \"std\": 303093.4725872532,\n        \"min\": 1150000.0,\n        \"max\": 1939125.0,\n        \"num_unique_values\": 5,\n        \"samples\": [\n          1420000.0,\n          1939125.0,\n          1560000.0\n        ],\n        \"semantic_type\": \"\",\n        \"description\": \"\"\n      }\n    },\n    {\n      \"column\": \"Apartment type\",\n      \"properties\": {\n        \"dtype\": \"category\",\n        \"num_unique_values\": 2,\n        \"samples\": [\n          \"New building\",\n          \"Secondary\"\n        ],\n        \"semantic_type\": \"\",\n        \"description\": \"\"\n      }\n    },\n    {\n      \"column\": \"Metro station\",\n      \"properties\": {\n        \"dtype\": \"string\",\n        \"num_unique_values\": 4,\n        \"samples\": [\n          \"\\u041a\\u0443\\u0437\\u044c\\u043c\\u0438\\u043d\\u043a\\u0438\",\n          \"\\u0410\\u043b\\u043c\\u0430-\\u0410\\u0442\\u0438\\u043d\\u0441\\u043a\\u0430\\u044f\"\n        ],\n        \"semantic_type\": \"\",\n        \"description\": \"\"\n      }\n    },\n    {\n      \"column\": \"Minutes to metro\",\n      \"properties\": {\n        \"dtype\": \"number\",\n        \"std\": 7.615773105863909,\n        \"min\": 13.0,\n        \"max\": 32.0,\n        \"num_unique_values\": 4,\n        \"samples\": [\n          18.0,\n          13.0\n        ],\n        \"semantic_type\": \"\",\n        \"description\": \"\"\n      }\n    },\n    {\n      \"column\": \"Region\",\n      \"properties\": {\n        \"dtype\": \"category\",\n        \"num_unique_values\": 2,\n        \"samples\": [\n          \"Moscow region\",\n          \"Moscow\"\n        ],\n        \"semantic_type\": \"\",\n        \"description\": \"\"\n      }\n    },\n    {\n      \"column\": \"Number of rooms\",\n      \"properties\": {\n        \"dtype\": \"number\",\n        \"std\": 0.0,\n        \"min\": 0.0,\n        \"max\": 0.0,\n        \"num_unique_values\": 1,\n        \"samples\": [\n          0.0\n        ],\n        \"semantic_type\": \"\",\n        \"description\": \"\"\n      }\n    },\n    {\n      \"column\": \"Area\",\n      \"properties\": {\n        \"dtype\": \"number\",\n        \"std\": 4.296531158969989,\n        \"min\": 6.0,\n        \"max\": 16.97,\n        \"num_unique_values\": 5,\n        \"samples\": [\n          15.2\n        ],\n        \"semantic_type\": \"\",\n        \"description\": \"\"\n      }\n    },\n    {\n      \"column\": \"Living area\",\n      \"properties\": {\n        \"dtype\": \"number\",\n        \"std\": 2.6761913235043564,\n        \"min\": 5.2,\n        \"max\": 12.0,\n        \"num_unique_values\": 5,\n        \"samples\": [\n          11.0\n        ],\n        \"semantic_type\": \"\",\n        \"description\": \"\"\n      }\n    },\n    {\n      \"column\": \"Kitchen area\",\n      \"properties\": {\n        \"dtype\": \"number\",\n        \"std\": 0.367423461417477,\n        \"min\": 7.1,\n        \"max\": 8.0,\n        \"num_unique_values\": 4,\n        \"samples\": [\n          7.9\n        ],\n        \"semantic_type\": \"\",\n        \"description\": \"\"\n      }\n    },\n    {\n      \"column\": \"Floor\",\n      \"properties\": {\n        \"dtype\": \"number\",\n        \"std\": 5.718391382198319,\n        \"min\": 1.0,\n        \"max\": 14.0,\n        \"num_unique_values\": 3,\n        \"samples\": [\n          2.0\n        ],\n        \"semantic_type\": \"\",\n        \"description\": \"\"\n      }\n    },\n    {\n      \"column\": \"Number of floors\",\n      \"properties\": {\n        \"dtype\": \"number\",\n        \"std\": 6,\n        \"min\": 5,\n        \"max\": 18,\n        \"num_unique_values\": 4,\n        \"samples\": [\n          5\n        ],\n        \"semantic_type\": \"\",\n        \"description\": \"\"\n      }\n    },\n    {\n      \"column\": \"Renovation\",\n      \"properties\": {\n        \"dtype\": \"category\",\n        \"num_unique_values\": 2,\n        \"samples\": [\n          \"Cosmetic\"\n        ],\n        \"semantic_type\": \"\",\n        \"description\": \"\"\n      }\n    }\n  ]\n}"
            }
          },
          "metadata": {},
          "execution_count": 243
        }
      ]
    },
    {
      "cell_type": "code",
      "source": [
        "for col in df.select_dtypes(['object']).columns:\n",
        "  print(f'{col}: {df[col].unique()[:10]}')"
      ],
      "metadata": {
        "colab": {
          "base_uri": "https://localhost:8080/"
        },
        "id": "_N7PtirmeIV6",
        "outputId": "0b22ee15-4442-422d-aff4-e2db71a13791"
      },
      "execution_count": null,
      "outputs": [
        {
          "output_type": "stream",
          "name": "stdout",
          "text": [
            "Apartment type: ['Secondary' 'New building']\n",
            "Metro station: [' Опалиха' ' Павшино' ' Мякинино' ' Строгино' ' Нахабино'\n",
            " ' Красногорская' ' Тушинская' ' Аникеевка' ' Волоколамская' ' Пенягино']\n",
            "Region: ['Moscow region' 'Moscow']\n",
            "Renovation: ['Cosmetic' 'European-style renovation' 'Without renovation' 'Designer']\n"
          ]
        }
      ]
    },
    {
      "cell_type": "markdown",
      "source": [
        "**Задание 1**. Чему равна средняя цена квартир в Москве с косметическим ремонтом или без ремонта?"
      ],
      "metadata": {
        "id": "EWzkhdVjerZl"
      }
    },
    {
      "cell_type": "markdown",
      "source": [
        "**Задание 2**. Какое среднее число комнат у квартир в Московской области, которые дороже 3 млн рублей?\n"
      ],
      "metadata": {
        "id": "QKX7I9rvfR65"
      }
    },
    {
      "cell_type": "markdown",
      "source": [
        "**Задание 3** Насколько отличается площадь кухни в новостройках и вторичке?"
      ],
      "metadata": {
        "id": "dhqW21xAkFeE"
      }
    }
  ]
}